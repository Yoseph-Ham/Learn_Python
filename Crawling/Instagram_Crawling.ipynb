{
 "cells": [
  {
   "cell_type": "markdown",
   "metadata": {},
   "source": [
    "# 1. 인스타그램 크롤링"
   ]
  },
  {
   "cell_type": "markdown",
   "metadata": {},
   "source": [
    "## 1.1 인스타그램 접속 후 로그인하기"
   ]
  },
  {
   "cell_type": "code",
   "execution_count": 43,
   "metadata": {},
   "outputs": [],
   "source": [
    "from selenium import webdriver\n",
    "driver = webdriver.Chrome('../driver/chromedriver.exe')"
   ]
  },
  {
   "cell_type": "markdown",
   "metadata": {},
   "source": [
    "* 인스타그램 로그인을 위해 계정 아이디 / 비번 입력이 필요합니다."
   ]
  },
  {
   "cell_type": "code",
   "execution_count": 44,
   "metadata": {},
   "outputs": [],
   "source": [
    "import time\n",
    "# 인스타그램 접속하기\n",
    "driver.get('https://www.instagram.com/')\n",
    "time.sleep(2)"
   ]
  },
  {
   "cell_type": "code",
   "execution_count": 45,
   "metadata": {},
   "outputs": [],
   "source": [
    "# 인스타계정으로 로그인하기\n",
    "email = '본인 계정' ### 본인 계정\n",
    "input_id = driver.find_elements_by_css_selector('input._2hvTZ.pexuQ.zyHYP')[0]\n",
    "input_id.clear()\n",
    "input_id.send_keys(email)\n",
    "\n",
    "password = '본인 비번' ## 본인 비번 \n",
    "input_pw = driver.find_elements_by_css_selector('input._2hvTZ.pexuQ.zyHYP')[1]\n",
    "input_pw.clear()\n",
    "input_pw.send_keys(password)\n",
    "input_pw.submit()\n",
    "time.sleep(3)\n"
   ]
  },
  {
   "cell_type": "markdown",
   "metadata": {},
   "source": [
    "위 코드 실행후 인스타그램 로그인이 완료되어야 합니다.\n",
    "\n",
    "추가로, 2단계 인증이 필요하다고 나올 경우 인증까지 완료해주세요."
   ]
  },
  {
   "cell_type": "markdown",
   "metadata": {},
   "source": [
    "# 1.2 인스타그램 검색결과 URL 만들어서 접속하기"
   ]
  },
  {
   "cell_type": "code",
   "execution_count": 46,
   "metadata": {},
   "outputs": [],
   "source": [
    "def insta_searching(word):\n",
    "    url = 'https://www.instagram.com/explore/tags/' + word\n",
    "    return url"
   ]
  },
  {
   "cell_type": "code",
   "execution_count": 47,
   "metadata": {},
   "outputs": [],
   "source": [
    "word = \"제주도맛집\" # 키워드\n",
    "url = insta_searching(word)\n",
    "driver.get(url)"
   ]
  },
  {
   "cell_type": "code",
   "execution_count": 18,
   "metadata": {},
   "outputs": [],
   "source": [
    "word = \"울릉도\" # 키워드\n",
    "url = insta_searching(word)\n",
    "driver.get(url)"
   ]
  },
  {
   "cell_type": "markdown",
   "metadata": {},
   "source": [
    "## 1.3 첫 번째 게시글 열기"
   ]
  },
  {
   "cell_type": "code",
   "execution_count": 34,
   "metadata": {},
   "outputs": [],
   "source": [
    "# 첫번째 게시글 찾아 클릭하기\n",
    "def select_first(driver):\n",
    "    first = driver.find_element_by_css_selector('div._9AhH0')\n",
    "    first.click()\n",
    "    time.sleep(5)\n",
    "    \n",
    "select_first(driver)"
   ]
  },
  {
   "cell_type": "markdown",
   "metadata": {},
   "source": []
  },
  {
   "cell_type": "markdown",
   "metadata": {},
   "source": [
    "## 1.4 게시글 정보 가져오기"
   ]
  },
  {
   "cell_type": "code",
   "execution_count": 64,
   "metadata": {},
   "outputs": [
    {
     "data": {
      "text/plain": [
       "['*하르뱅쇼 / 카페,디저트[꿀팁] 📍제 인스타 보고 오신분들께《1만원이상 현금결제 시 10%할인》📍해 주신다고 하니 하르뱅쇼 드시고 혜택 꼭 받아가세요^^ 사장님께서 제가 피드올리고나서 DM문의가 좀 더 늘었다고하셔서 내심 뿌듯 해 하고있는 중이었는데 이런 할인 혜택까지 주신다고 하셔서 얼른얼른 혜택 받아가시라고 한번 더 소개드려요. 더운날 시원하게 한라뱅쇼 한잔 하시구 즐거운 여행하세요! 서귀포 매일올레시장에 위치한 수제 한라뱅쇼를 판매하는 곳이에요. 사계절에 따라 감귤류가 달라지기때문에 제철에 맞는 제주의 생 감귤류로 직접 수제뱅쇼를 만들어요. 향이 풍부하고 맛이 진해 따뜻한 뱅쇼, 시원한 뱅쇼, 뱅쇼에이드, 칵테일뱅쇼 등 다양한 방법으로 마실 수 있고 뱅쇼를 만들때 알콜은 다 끓여서 증발한 무알콜 음료라 아이들도 걱정없이 마실 수 있습니다. 매일 아침 당일 뱅쇼를 만들어 택배를 발송하기 때문에 매장영업은 오후에만 한다고하니 참고하세요. 주소 : 서귀포시 중앙로54번길 35 1층(서귀동 277-12)시간 : 매일 15:00 - 21:00 / 매주 수요일 휴무 @show_jeju #하르뱅쇼 #뱅쇼 #제주먹방 #제주먹거리 #매일올레시장 #서귀포매일올레시장 #제주와인 #제주도와인 #제주맛집 #제주도맛집 #서귀포맛집 #서귀동맛집 #제주그램 #제주도그램 #제주여행 #제주앓이 #제주살이 #jejudo #jeju #jejuisland #jejutrip #제주 #제주도 #서귀포시 #제미녀_서귀포시 #서귀동 #제미녀 #제주도에미친녀자 #일상 #소통',\n",
       " '2021-06-07',\n",
       " '731',\n",
       " '서귀포 매일올레시장',\n",
       " ['#하르뱅쇼',\n",
       "  '#뱅쇼',\n",
       "  '#제주먹방',\n",
       "  '#제주먹거리',\n",
       "  '#매일올레시장',\n",
       "  '#서귀포매일올레시장',\n",
       "  '#제주와인',\n",
       "  '#제주도와인',\n",
       "  '#제주맛집',\n",
       "  '#제주도맛집',\n",
       "  '#서귀포맛집',\n",
       "  '#서귀동맛집',\n",
       "  '#제주그램',\n",
       "  '#제주도그램',\n",
       "  '#제주여행',\n",
       "  '#제주앓이',\n",
       "  '#제주살이',\n",
       "  '#jejudo',\n",
       "  '#jeju',\n",
       "  '#jejuisland',\n",
       "  '#jejutrip',\n",
       "  '#제주',\n",
       "  '#제주도',\n",
       "  '#서귀포시',\n",
       "  '#제미녀_서귀포시',\n",
       "  '#서귀동',\n",
       "  '#제미녀',\n",
       "  '#제주도에미친녀자',\n",
       "  '#일상',\n",
       "  '#소통']]"
      ]
     },
     "execution_count": 64,
     "metadata": {},
     "output_type": "execute_result"
    }
   ],
   "source": [
    "# 게시글 정보 가져오기\n",
    "import re # 정규표현식\n",
    "from bs4 import BeautifulSoup\n",
    "import unicodedata # 유니코드\n",
    "\n",
    "def get_content(driver):\n",
    "    # 현재 페이지 html 정보 가져오기\n",
    "    html = driver.page_source\n",
    "    soup = BeautifulSoup(html, 'html.parser')\n",
    "    \n",
    "    # 본문 내용\n",
    "    try:\n",
    "        content = soup.select('div.C4VMK > span')[0].text # div의 하위 span 태그\n",
    "        # div.C4VMK 태그명. 클래스명> 하위 태그인 span 모두 선택  #첫 번째[0] 태그 text만 출력\n",
    "        content = unicodedata.normalize('NFC', content) # 글씨 깨질 때 (정규화)\n",
    "    except:\n",
    "        content = ' '\n",
    "        \n",
    "    # 본문 내용 해시태그 가져오기(정규식 활용)\n",
    "    tags = re.findall(r'#[^\\s#,\\\\]+', content)  # content에서 #뒤에 공백, #, ..\\아닌 것만\n",
    "    \n",
    "    # 작성일자\n",
    "    date = soup.select('time._1o9PC.Nzb55')[0]['datetime'][:10] #년 월 일\n",
    "                    #time = 태그명 , _1o9PC Nzb55 = 클래스명\n",
    "    # 좋아요 수\n",
    "    try:\n",
    "        like = soup.select('div.Nm9Fw > a')[0].text[4:-1] # 좋아요 개 제외하고\n",
    "    except:\n",
    "        like = 0\n",
    "        \n",
    "    # 위치정보\n",
    "    try:\n",
    "        place = soup.select('div.M30cS')[0].text # 위치정보\n",
    "        place = unicodedata.normalize('NFC', place) # place 정규화\n",
    "    except:\n",
    "        place = ''\n",
    "    \n",
    "    # 수집한 정보 저장하기\n",
    "    data = [content, date, like, place, tags]\n",
    "    return data\n",
    "\n",
    "get_content(driver)"
   ]
  },
  {
   "cell_type": "markdown",
   "metadata": {},
   "source": [
    "## 1.5 다음 게시글 열기"
   ]
  },
  {
   "cell_type": "code",
   "execution_count": 65,
   "metadata": {},
   "outputs": [],
   "source": [
    "# 다음 게시글 열기\n",
    "\n",
    "def move_next(driver):\n",
    "    \n",
    "    right = driver.find_element_by_css_selector('a._65Bje.coreSpriteRightPaginationArrow')\n",
    "    \n",
    "    right.click()\n",
    "    time.sleep(3)\n",
    "    \n",
    "move_next(driver)"
   ]
  },
  {
   "cell_type": "markdown",
   "metadata": {},
   "source": [
    "## 1.6 여러 게시글 정보 수집하기"
   ]
  },
  {
   "cell_type": "code",
   "execution_count": 66,
   "metadata": {},
   "outputs": [
    {
     "name": "stdout",
     "output_type": "stream",
     "text": [
      "[['두둥♥️이제 딸기시즌이 슬슬 마무리 되어,그동안 고심하던 다음 과일샌드를 선보입니다🙃한 번 맛보면 멈출 수 없지만,너무 고가여서 부담스러울 수 밖에 없었던 제주산 애플망고😲망고의 진한 맛이 생크림까지 망고같이 느껴지는 신기한 맛🤔🍓🍓딸기샌드는 오늘까지 판매예정으로,내일부터는 제주산 애플망고가 가득한 애플망고 샌드로 찾아뵙겠습니다☺오늘도 #안녕하샌', '2021-06-07', '217', '월정리해변', ['#안녕하샌']], ['*하르뱅쇼 / 카페,디저트[꿀팁] 📍제 인스타 보고 오신분들께《1만원이상 현금결제 시 10%할인》📍해 주신다고 하니 하르뱅쇼 드시고 혜택 꼭 받아가세요^^ 사장님께서 제가 피드올리고나서 DM문의가 좀 더 늘었다고하셔서 내심 뿌듯 해 하고있는 중이었는데 이런 할인 혜택까지 주신다고 하셔서 얼른얼른 혜택 받아가시라고 한번 더 소개드려요. 더운날 시원하게 한라뱅쇼 한잔 하시구 즐거운 여행하세요! 서귀포 매일올레시장에 위치한 수제 한라뱅쇼를 판매하는 곳이에요. 사계절에 따라 감귤류가 달라지기때문에 제철에 맞는 제주의 생 감귤류로 직접 수제뱅쇼를 만들어요. 향이 풍부하고 맛이 진해 따뜻한 뱅쇼, 시원한 뱅쇼, 뱅쇼에이드, 칵테일뱅쇼 등 다양한 방법으로 마실 수 있고 뱅쇼를 만들때 알콜은 다 끓여서 증발한 무알콜 음료라 아이들도 걱정없이 마실 수 있습니다. 매일 아침 당일 뱅쇼를 만들어 택배를 발송하기 때문에 매장영업은 오후에만 한다고하니 참고하세요. 주소 : 서귀포시 중앙로54번길 35 1층(서귀동 277-12)시간 : 매일 15:00 - 21:00 / 매주 수요일 휴무 @show_jeju #하르뱅쇼 #뱅쇼 #제주먹방 #제주먹거리 #매일올레시장 #서귀포매일올레시장 #제주와인 #제주도와인 #제주맛집 #제주도맛집 #서귀포맛집 #서귀동맛집 #제주그램 #제주도그램 #제주여행 #제주앓이 #제주살이 #jejudo #jeju #jejuisland #jejutrip #제주 #제주도 #서귀포시 #제미녀_서귀포시 #서귀동 #제미녀 #제주도에미친녀자 #일상 #소통', '2021-06-07', '734', '서귀포 매일올레시장', ['#하르뱅쇼', '#뱅쇼', '#제주먹방', '#제주먹거리', '#매일올레시장', '#서귀포매일올레시장', '#제주와인', '#제주도와인', '#제주맛집', '#제주도맛집', '#서귀포맛집', '#서귀동맛집', '#제주그램', '#제주도그램', '#제주여행', '#제주앓이', '#제주살이', '#jejudo', '#jeju', '#jejuisland', '#jejutrip', '#제주', '#제주도', '#서귀포시', '#제미녀_서귀포시', '#서귀동', '#제미녀', '#제주도에미친녀자', '#일상', '#소통']]]\n"
     ]
    }
   ],
   "source": [
    "# 1) 인스타 로그인\n",
    "# 2) 인스타그램 검색페이지 URL 만들기\n",
    "word = \"제주도맛집\" # 검색어\n",
    "url = insta_searching(word)\n",
    "\n",
    "\n",
    "# 3) 검색페이지 접속하기\n",
    "driver.get(url)\n",
    "time.sleep(5)\n",
    "\n",
    "# 4) 첫 번째 게시글 열기\n",
    "select_first(driver)\n",
    "\n",
    "# 5) 비어있는 변수 (result) 만들기\n",
    "results = []\n",
    "\n",
    "# 6, 7, 8) 여러 게시물 수집하기\n",
    "target = 100            #크롤링할 게시글 수 \n",
    "    # 게시글 수집에 오류 발생시(4초 대기 후, 다음 게시글로 넘어가도록 try, except 구문)\n",
    "for i in range(target):\n",
    "    try:\n",
    "        data = get_content(driver)          # 게시글 정보 가져오기\n",
    "        results.append(data)\n",
    "        move_next(driver)\n",
    "    except:\n",
    "        time.sleep(4)\n",
    "        move_next(driver)\n",
    "        \n",
    "print(results[:2])"
   ]
  },
  {
   "cell_type": "markdown",
   "metadata": {},
   "source": [
    "## 크롤링 결과 저장하기"
   ]
  },
  {
   "cell_type": "code",
   "execution_count": 50,
   "metadata": {},
   "outputs": [],
   "source": [
    "import pandas as pd\n",
    "\n",
    "results_df = pd.DataFrame(results)\n",
    "results_df.columns = ['content', 'data', 'like', 'place', 'tags']\n",
    "results_df.to_excel('../data/00_crawling_jejudoMatJip.xlsx')"
   ]
  },
  {
   "cell_type": "code",
   "execution_count": 56,
   "metadata": {},
   "outputs": [
    {
     "data": {
      "text/html": [
       "<div>\n",
       "<style scoped>\n",
       "    .dataframe tbody tr th:only-of-type {\n",
       "        vertical-align: middle;\n",
       "    }\n",
       "\n",
       "    .dataframe tbody tr th {\n",
       "        vertical-align: top;\n",
       "    }\n",
       "\n",
       "    .dataframe thead th {\n",
       "        text-align: right;\n",
       "    }\n",
       "</style>\n",
       "<table border=\"1\" class=\"dataframe\">\n",
       "  <thead>\n",
       "    <tr style=\"text-align: right;\">\n",
       "      <th></th>\n",
       "      <th>Unnamed: 0</th>\n",
       "      <th>content</th>\n",
       "      <th>data</th>\n",
       "      <th>like</th>\n",
       "      <th>place</th>\n",
       "      <th>tags</th>\n",
       "    </tr>\n",
       "  </thead>\n",
       "  <tbody>\n",
       "    <tr>\n",
       "      <td>0</td>\n",
       "      <td>0</td>\n",
       "      <td>*하르뱅쇼 / 카페,디저트[꿀팁] 📍제 인스타 보고 오신분들께《1만원이상 현금결제 ...</td>\n",
       "      <td>2021-06-07</td>\n",
       "      <td>0</td>\n",
       "      <td>서귀포 매일올레시장</td>\n",
       "      <td>['#하르뱅쇼', '#뱅쇼', '#제주먹방', '#제주먹거리', '#매일올레시장',...</td>\n",
       "    </tr>\n",
       "    <tr>\n",
       "      <td>72</td>\n",
       "      <td>72</td>\n",
       "      <td>냥이 너~ 무 귀엽죠 ♥️ 제 옆에서 와서 얼마나 앵기던지 ...너무 귀여웠어요.....</td>\n",
       "      <td>2021-06-08</td>\n",
       "      <td>0</td>\n",
       "      <td>아그로랜드 태신목장</td>\n",
       "      <td>['#좋아요테러', '#좋아요반사', '#팔로우', '#맞팔환영', '#맞팔', '...</td>\n",
       "    </tr>\n",
       "    <tr>\n",
       "      <td>71</td>\n",
       "      <td>71</td>\n",
       "      <td>서울가서도 계속 생각 날 것 같은 곳 ㅜㅜ 또 먹고싶을때 어떡하지 !!!!?? ㅜㅜ...</td>\n",
       "      <td>2021-06-08</td>\n",
       "      <td>0</td>\n",
       "      <td>NaN</td>\n",
       "      <td>['#제주도맛집', '#신화월드맛집', '#오설록맛집', '#꺼멍연탄구이', '#제...</td>\n",
       "    </tr>\n",
       "    <tr>\n",
       "      <td>70</td>\n",
       "      <td>70</td>\n",
       "      <td>🔆한라산 #백록담 전망이 분위기깡패🔆👉👉옆으로넘기기❗제주도 흑돼지돈까스 전문점 뽕끄...</td>\n",
       "      <td>2021-06-08</td>\n",
       "      <td>0</td>\n",
       "      <td>NaN</td>\n",
       "      <td>['#백록담', '#제주도돈까스', '#뽕끄랑.', '#제주돈까스', '#제주돈까스...</td>\n",
       "    </tr>\n",
       "    <tr>\n",
       "      <td>69</td>\n",
       "      <td>69</td>\n",
       "      <td>🔆한라산 #백록담 전망이 분위기깡패🔆👉👉옆으로넘기기❗제주도 흑돼지돈까스 전문점 뽕끄...</td>\n",
       "      <td>2021-06-08</td>\n",
       "      <td>0</td>\n",
       "      <td>NaN</td>\n",
       "      <td>['#백록담', '#제주도돈까스', '#뽕끄랑.', '#제주돈까스', '#제주돈까스...</td>\n",
       "    </tr>\n",
       "    <tr>\n",
       "      <td>...</td>\n",
       "      <td>...</td>\n",
       "      <td>...</td>\n",
       "      <td>...</td>\n",
       "      <td>...</td>\n",
       "      <td>...</td>\n",
       "      <td>...</td>\n",
       "    </tr>\n",
       "    <tr>\n",
       "      <td>28</td>\n",
       "      <td>28</td>\n",
       "      <td>#모어댄댓 #MoreThanThat #아라동맛집#아라동핫플 답게 지난번에 예약 안하...</td>\n",
       "      <td>2021-06-08</td>\n",
       "      <td>0</td>\n",
       "      <td>NaN</td>\n",
       "      <td>['#모어댄댓', '#MoreThanThat', '#아라동맛집', '#아라동핫플',...</td>\n",
       "    </tr>\n",
       "    <tr>\n",
       "      <td>27</td>\n",
       "      <td>27</td>\n",
       "      <td>제주도 가족여행#제주분식아이들도 좋아하고 부모님들도 넘 맛있게 잘 드셨어요^^..제...</td>\n",
       "      <td>2021-06-08</td>\n",
       "      <td>0</td>\n",
       "      <td>제주도 Jeju Island</td>\n",
       "      <td>['#제주분식아이들도', '#제주맛집', '#제주도맛집', '#제주공항맛집', '#...</td>\n",
       "    </tr>\n",
       "    <tr>\n",
       "      <td>26</td>\n",
       "      <td>26</td>\n",
       "      <td>맛탱이 해산물 프리또🌮.Repost @woor_c소중한 후기 감사합니다💓...&lt;Fr...</td>\n",
       "      <td>2021-06-08</td>\n",
       "      <td>0</td>\n",
       "      <td>NaN</td>\n",
       "      <td>['#귀덕맛집', '#곽지맛집', '#협재맛집', '#금능맛집', '#한림맛집', ...</td>\n",
       "    </tr>\n",
       "    <tr>\n",
       "      <td>36</td>\n",
       "      <td>36</td>\n",
       "      <td>어색한 셀카✨예뿌진 않지만 손 안댄 내 자연스러운 얼굴이 좋아💛</td>\n",
       "      <td>2021-06-08</td>\n",
       "      <td>0</td>\n",
       "      <td>NaN</td>\n",
       "      <td>[]</td>\n",
       "    </tr>\n",
       "    <tr>\n",
       "      <td>99</td>\n",
       "      <td>99</td>\n",
       "      <td>애월 로드129성게크림파스타흑돼지 멘치카츠흑돼지 치즈돈까스흑돼지 고구마치즈돈까스흑돼...</td>\n",
       "      <td>2021-06-08</td>\n",
       "      <td>0</td>\n",
       "      <td>NaN</td>\n",
       "      <td>['#애월맛집', '#제주맛집', '#애월읍맛집', '#애월항맛집', '#제주애월점...</td>\n",
       "    </tr>\n",
       "  </tbody>\n",
       "</table>\n",
       "<p>100 rows × 6 columns</p>\n",
       "</div>"
      ],
      "text/plain": [
       "    Unnamed: 0                                            content        data  \\\n",
       "0            0  *하르뱅쇼 / 카페,디저트[꿀팁] 📍제 인스타 보고 오신분들께《1만원이상 현금결제 ...  2021-06-07   \n",
       "72          72  냥이 너~ 무 귀엽죠 ♥️ 제 옆에서 와서 얼마나 앵기던지 ...너무 귀여웠어요.....  2021-06-08   \n",
       "71          71  서울가서도 계속 생각 날 것 같은 곳 ㅜㅜ 또 먹고싶을때 어떡하지 !!!!?? ㅜㅜ...  2021-06-08   \n",
       "70          70  🔆한라산 #백록담 전망이 분위기깡패🔆👉👉옆으로넘기기❗제주도 흑돼지돈까스 전문점 뽕끄...  2021-06-08   \n",
       "69          69  🔆한라산 #백록담 전망이 분위기깡패🔆👉👉옆으로넘기기❗제주도 흑돼지돈까스 전문점 뽕끄...  2021-06-08   \n",
       "..         ...                                                ...         ...   \n",
       "28          28  #모어댄댓 #MoreThanThat #아라동맛집#아라동핫플 답게 지난번에 예약 안하...  2021-06-08   \n",
       "27          27  제주도 가족여행#제주분식아이들도 좋아하고 부모님들도 넘 맛있게 잘 드셨어요^^..제...  2021-06-08   \n",
       "26          26  맛탱이 해산물 프리또🌮.Repost @woor_c소중한 후기 감사합니다💓...<Fr...  2021-06-08   \n",
       "36          36                어색한 셀카✨예뿌진 않지만 손 안댄 내 자연스러운 얼굴이 좋아💛  2021-06-08   \n",
       "99          99  애월 로드129성게크림파스타흑돼지 멘치카츠흑돼지 치즈돈까스흑돼지 고구마치즈돈까스흑돼...  2021-06-08   \n",
       "\n",
       "    like            place                                               tags  \n",
       "0      0       서귀포 매일올레시장  ['#하르뱅쇼', '#뱅쇼', '#제주먹방', '#제주먹거리', '#매일올레시장',...  \n",
       "72     0       아그로랜드 태신목장  ['#좋아요테러', '#좋아요반사', '#팔로우', '#맞팔환영', '#맞팔', '...  \n",
       "71     0              NaN  ['#제주도맛집', '#신화월드맛집', '#오설록맛집', '#꺼멍연탄구이', '#제...  \n",
       "70     0              NaN  ['#백록담', '#제주도돈까스', '#뽕끄랑.', '#제주돈까스', '#제주돈까스...  \n",
       "69     0              NaN  ['#백록담', '#제주도돈까스', '#뽕끄랑.', '#제주돈까스', '#제주돈까스...  \n",
       "..   ...              ...                                                ...  \n",
       "28     0              NaN  ['#모어댄댓', '#MoreThanThat', '#아라동맛집', '#아라동핫플',...  \n",
       "27     0  제주도 Jeju Island  ['#제주분식아이들도', '#제주맛집', '#제주도맛집', '#제주공항맛집', '#...  \n",
       "26     0              NaN  ['#귀덕맛집', '#곽지맛집', '#협재맛집', '#금능맛집', '#한림맛집', ...  \n",
       "36     0              NaN                                                 []  \n",
       "99     0              NaN  ['#애월맛집', '#제주맛집', '#애월읍맛집', '#애월항맛집', '#제주애월점...  \n",
       "\n",
       "[100 rows x 6 columns]"
      ]
     },
     "execution_count": 56,
     "metadata": {},
     "output_type": "execute_result"
    }
   ],
   "source": [
    "df = pd.read_excel('../data/00_crawling_jejudoMatJip.xlsx')\n",
    "df.sort_values(by = 'like', ascending = False)"
   ]
  },
  {
   "cell_type": "markdown",
   "metadata": {},
   "source": [
    "## 여러 파일 크롤링"
   ]
  },
  {
   "cell_type": "code",
   "execution_count": 58,
   "metadata": {},
   "outputs": [
    {
     "name": "stdout",
     "output_type": "stream",
     "text": [
      "../data/1_crawling_jejudoMatJip.xlsx\n",
      "../data/1_crawling_jejudoGwanGwang.xlsx\n",
      "../data/1_crawling_jejuYeoHang.xlsx\n",
      "../data/1_crawling_jejuMatJip.xlsx\n"
     ]
    }
   ],
   "source": [
    "# 여러 개의 저장파일 통합하기\n",
    "jeju_insta_df = pd.DataFrame( [ ] )\n",
    "\n",
    "folder = '../data/'\n",
    "f_list = ['1_crawling_jejudoMatJip.xlsx', '1_crawling_jejudoGwanGwang.xlsx',\n",
    "         '1_crawling_jejuYeoHang.xlsx', '1_crawling_jejuMatJip.xlsx']\n",
    "\n",
    "for fname in f_list:\n",
    "    fpath = folder + fname\n",
    "    print(fpath)\n",
    "    temp = pd.read_excel(fpath)\n",
    "    jeju_insta_df = jeju_insta_df.append(temp)\n",
    "    \n",
    "jeju_insta_df.columns = ['content', 'data', 'like', 'place', 'tags']"
   ]
  },
  {
   "cell_type": "code",
   "execution_count": 59,
   "metadata": {},
   "outputs": [],
   "source": [
    "# 중복 데이터 제거하고 저장하기\n",
    "jeju_insta_df.drop_duplicates(subset = [ 'content'], inplace = True) # content 중복내용 제거\n",
    "jeju_insta_df.to_excel('../data/1_crawling_raw1.xlsx', index = False)"
   ]
  },
  {
   "cell_type": "code",
   "execution_count": null,
   "metadata": {},
   "outputs": [],
   "source": []
  }
 ],
 "metadata": {
  "kernelspec": {
   "display_name": "Python 3",
   "language": "python",
   "name": "python3"
  },
  "language_info": {
   "codemirror_mode": {
    "name": "ipython",
    "version": 3
   },
   "file_extension": ".py",
   "mimetype": "text/x-python",
   "name": "python",
   "nbconvert_exporter": "python",
   "pygments_lexer": "ipython3",
   "version": "3.8.8"
  }
 },
 "nbformat": 4,
 "nbformat_minor": 2
}
