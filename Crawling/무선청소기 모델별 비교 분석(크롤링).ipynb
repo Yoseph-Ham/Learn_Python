{
 "cells": [
  {
   "cell_type": "markdown",
   "metadata": {},
   "source": [
    "# 1. 데이터 수집 1- 한 페이지 크롤링"
   ]
  },
  {
   "cell_type": "markdown",
   "metadata": {},
   "source": [
    "### 다나와 검색 페이지 접속\n",
    "#### 다나와는 온라인 쇼핑몰, 소셜커머스 등 전 상품에 대한 가격비교 사이트"
   ]
  },
  {
   "cell_type": "code",
   "execution_count": 1,
   "metadata": {},
   "outputs": [],
   "source": [
    "from selenium import webdriver\n",
    "driver = webdriver.Chrome('../driver/chromedriver.exe')"
   ]
  },
  {
   "cell_type": "code",
   "execution_count": 2,
   "metadata": {},
   "outputs": [],
   "source": [
    "url = 'http://search.danawa.com/dsearch.php?query=무선청소기&tab=main'\n",
    "driver.get(url)"
   ]
  },
  {
   "cell_type": "code",
   "execution_count": 3,
   "metadata": {},
   "outputs": [],
   "source": [
    "from bs4 import BeautifulSoup\n",
    "\n",
    "html = driver.page_source\n",
    "soup = BeautifulSoup(html, 'html.parser')"
   ]
  },
  {
   "cell_type": "code",
   "execution_count": 4,
   "metadata": {},
   "outputs": [
    {
     "data": {
      "text/plain": [
       "47"
      ]
     },
     "execution_count": 4,
     "metadata": {},
     "output_type": "execute_result"
    }
   ],
   "source": [
    "prod_items = soup.select('li.prod_item')\n",
    "len(prod_items)"
   ]
  },
  {
   "cell_type": "code",
   "execution_count": 5,
   "metadata": {},
   "outputs": [
    {
     "data": {
      "text/plain": [
       "47"
      ]
     },
     "execution_count": 5,
     "metadata": {},
     "output_type": "execute_result"
    }
   ],
   "source": [
    "prod_items = soup.select('ul.product_list > li.prod_item')\n",
    "len(prod_items)"
   ]
  },
  {
   "cell_type": "code",
   "execution_count": 6,
   "metadata": {},
   "outputs": [
    {
     "data": {
      "text/plain": [
       "44"
      ]
     },
     "execution_count": 6,
     "metadata": {},
     "output_type": "execute_result"
    }
   ],
   "source": [
    "prod_items = soup.select('div.main_prodlist > ul.product_list > li.prod_item')\n",
    "len(prod_items)"
   ]
  },
  {
   "cell_type": "code",
   "execution_count": 7,
   "metadata": {},
   "outputs": [
    {
     "data": {
      "text/plain": [
       "<li class=\"prod_item\" id=\"productItem13327520\">\n",
       "<input id=\"productItem_categoryInfo_13327520\" type=\"hidden\" value=\"생활가전_청소기\"/>\n",
       "<input id=\"min_price_13327520\" type=\"hidden\" value=\"1138720\"/>\n",
       "<div class=\"prod_main_info\">\n",
       "<div class=\"thumb_image\">\n",
       "<a class=\"thumb_link\" href=\"http://prod.danawa.com/info/?pcode=13327520&amp;keyword=%EB%AC%B4%EC%84%A0%EC%B2%AD%EC%86%8C%EA%B8%B0&amp;cate=102207\" id=\"thumbLink_13327520\" onmousedown=\"_trkEventLog('통합검색_상품블로그_유입');\" target=\"_blank\">\n",
       "<img alt=\"코드제로 ThinQ A9S AO9571\" class=\"click_log_product_standard_img_\" onerror=\"this.onerror=null; this.src='//img.danawa.com/new/noData/img/noImg_160.gif';\" src=\"http://img.danawa.com/prod_img/500000/520/327/img/13327520_1.jpg?shrink=160:160&amp;_v=20210406161021\"/>\n",
       "</a>\n",
       "<a class=\"btn_view_zoom\" data-assemblygallerycategory=\"N\" href=\"#\" id=\"imageZoom_13327520\" onclick=\"return false;\">\n",
       "<span class=\"ico i_zoom_vw\"></span>이미지보기\n",
       "\t\t\t\t\t\t\t</a>\n",
       "<input id=\"hidden_cate_sub_c1\" type=\"hidden\" value=\"72\"/>\n",
       "<input id=\"hidden_cate_sub_c2\" type=\"hidden\" value=\"80\"/>\n",
       "<input id=\"hidden_cate_sub_c3\" type=\"hidden\" value=\"81\"/>\n",
       "<div class=\"img_selector\">\n",
       "<a class=\"sel_item\" href=\"#\" onclick=\"return false;\" title=\"상품 색상\"><span class=\"hide_indent sub_color_w100\" style=\"background-color:#FCE5CD;\">상품 색상</span></a><a class=\"sel_item\" href=\"#\" onclick=\"return false;\" title=\"상품 색상\"><span class=\"hide_indent sub_color_w100\" style=\"background-color:#274E13;\">상품 색상</span></a> </div> </div>\n",
       "<div class=\"prod_info\">\n",
       "<p class=\"prod_name\">\n",
       "<a class=\"click_log_product_standard_title_\" href=\"http://prod.danawa.com/info/?pcode=13327520&amp;keyword=%EB%AC%B4%EC%84%A0%EC%B2%AD%EC%86%8C%EA%B8%B0&amp;cate=102207\" onmousedown=\"_trkEventLog('통합검색_상품블로그_유입'); doCTR('%EB%AC%B4%EC%84%A0%EC%B2%AD%EC%86%8C%EA%B8%B0','13327520',1);\" target=\"_blank\">LG전자 오브제컬렉션 코드제로 ThinQ A9S AO9571</a>\n",
       "</p>\n",
       "<div class=\"prod_intro\">\n",
       "<p class=\"intro_text\">올인원타워로 비움, 충전, 보관을 한번에!</p>\n",
       "</div>\n",
       "<dl class=\"prod_spec_set\">\n",
       "<dt class=\"screen_out\">상세 스펙</dt>\n",
       "<dd>\n",
       "<div class=\"spec_list\"><a class=\"view_dic\" href=\"#\" onclick=\"$.termDicViewLink(8501,'view',this,0,72,80); return false;\">핸디/스틱<b>청소기</b></a> / <a class=\"view_dic\" href=\"#\" onclick=\"$.termDicViewLink(7445,'view',this,0,72,80); return false;\">핸디+스틱형</a> / <a class=\"view_dic\" href=\"#\" onclick=\"$.termDicViewLink(14900,'view',this,0,72,80); return false;\">무선형</a> / <a class=\"view_dic\" href=\"#\" onclick=\"$.termDicViewLink(217536,'view',this,0,72,80); return false;\">흡입+걸레겸용</a> / <br/><b>[성능]</b> <a class=\"view_dic\" href=\"#\" onclick=\"$.termDicViewLink(213820,'view',this,0,72,80); return false;\">2중터보싸이클론</a> / <a class=\"view_dic\" href=\"#\" onclick=\"$.termDicViewLink(27442,'view',this,0,72,80); return false;\">스마트인버터모터</a> / <a class=\"view_dic\" href=\"#\" onclick=\"$.termDicViewLink(3996,'view',this,0,72,80); return false;\">흡입력</a>: <a class=\"view_dic\" href=\"#\" onclick=\"$.termDicViewLink(3996,'view',this,0,72,80); return false;\">210W</a> / <a class=\"view_dic\" href=\"#\" onclick=\"$.termDicViewLink(1743,'view',this,0,72,80); return false;\">소비전력</a>: <a class=\"view_dic\" href=\"#\" onclick=\"$.termDicViewLink(1743,'view',this,0,72,80); return false;\">590W</a> / <br/><b>[배터리]</b> <a class=\"view_dic\" href=\"#\" onclick=\"$.termDicViewLink(217578,'view',this,0,72,80); return false;\">분리형</a> / <a class=\"view_dic\" href=\"#\" onclick=\"$.termDicViewLink(27314,'view',this,0,72,80); return false;\">리튬이온 (2개)</a> / <a class=\"view_dic\" href=\"#\" onclick=\"$.termDicViewLink(14921,'view',this,0,72,80); return false;\">충전시간</a>: <a class=\"view_dic\" href=\"#\" onclick=\"$.termDicViewLink(14921,'view',this,0,72,80); return false;\">4시간</a> / <a class=\"view_dic\" href=\"#\" onclick=\"$.termDicViewLink(8515,'view',this,0,72,80); return false;\">사용시간</a>: <a class=\"view_dic\" href=\"#\" onclick=\"$.termDicViewLink(8515,'view',this,0,72,80); return false;\">1시간(개당)</a> / <br/><b>[필터]</b> <a class=\"view_dic\" href=\"#\" onclick=\"$.termDicViewLink(14801,'view',this,0,72,80); return false;\">헤파필터</a> / <a class=\"view_dic\" href=\"#\" onclick=\"$.termDicViewLink(14801,'view',this,0,72,80); return false;\">H13급</a> / <a class=\"view_dic\" href=\"#\" onclick=\"$.termDicViewLink(30024,'view',this,0,72,80); return false;\">5단계여과</a> / <br/><b>[기능]</b> <a class=\"view_dic\" href=\"#\" onclick=\"$.termDicViewLink(216261,'view',this,0,72,80); return false;\">자동물공급</a> / <a class=\"view_dic\" href=\"#\" onclick=\"$.termDicViewLink(27321,'view',this,0,72,80); return false;\">배터리잔량표시</a> / <a class=\"view_dic\" href=\"#\" onclick=\"$.termDicViewLink(214680,'view',this,0,72,80); return false;\">IoT기능</a> / <a class=\"view_dic\" href=\"#\" onclick=\"$.termDicViewLink(219165,'view',this,0,72,80); return false;\">자동먼지비움</a> / <br/><b>[구성]</b> <a class=\"view_dic\" href=\"#\" onclick=\"$.termDicViewLink(18333,'view',this,0,72,80); return false;\">바닥</a> / <a class=\"view_dic\" href=\"#\" onclick=\"$.termDicViewLink(9440,'view',this,0,72,80); return false;\">물걸레</a> / <a class=\"view_dic\" href=\"#\" onclick=\"$.termDicViewLink(18453,'view',this,0,72,80); return false;\">침구</a> / <a class=\"view_dic\" href=\"#\" onclick=\"$.termDicViewLink(18442,'view',this,0,72,80); return false;\">솔형</a> / <a class=\"view_dic\" href=\"#\" onclick=\"$.termDicViewLink(18436,'view',this,0,72,80); return false;\">틈새</a> / <a class=\"view_dic\" href=\"#\" onclick=\"$.termDicViewLink(218112,'view',this,0,72,80); return false;\">올인원타워</a> / <br/><b>[부가]</b> <a class=\"view_dic\" href=\"#\" onclick=\"$.termDicViewLink(24052,'view',this,0,72,80); return false;\">알레르기인증(BAF)</a> / <a class=\"view_dic\" href=\"#\" onclick=\"$.termDicViewLink(24060,'view',this,0,72,80); return false;\">미세먼지인증(SLG)</a> / <a class=\"view_dic\" href=\"#\" onclick=\"$.termDicViewLink(14771,'view',this,0,72,80); return false;\">색상</a>: <a class=\"view_dic\" href=\"#\" onclick=\"$.termDicViewLink(14771,'view',this,0,72,80); return false;\">카밍베이지</a> / <a class=\"view_dic\" href=\"#\" onclick=\"$.termDicViewLink(27312,'view',this,0,72,80); return false;\">무게</a>: <a class=\"view_dic\" href=\"#\" onclick=\"$.termDicViewLink(27312,'view',this,0,72,80); return false;\">2.6kg</a> / 분리형배기필터 / 크기(가로x세로x깊이): 250x1120x260mm\t\t\t\t\t\t\t\t</div>\n",
       "</dd>\n",
       "</dl>\n",
       "<div class=\"prod_rel_content\">\n",
       "<dl class=\"rel_item rel_event\">\n",
       "<dt>기획전</dt>\n",
       "<dd><a href=\"http://plan.danawa.com/info/?nPlanSeq=4931\" rel=\"noopener\" target=\"_blank\">한눈에 보는\n",
       "LG전자 코드제로 청소기</a></dd>\n",
       "</dl>\n",
       "<dl class=\"rel_item rel_review\">\n",
       "<dt>사용기</dt>\n",
       "<dd><a href=\"http://prod.danawa.com/community/ProdBoardView.php?nSeq=4748086&amp;nBlogCateSeq1=264&amp;prod_c=13327520\" rel=\"noopener\" target=\"_blank\">무선청소기 추천 LG코드제로 A9S 칭찬해요</a></dd>\n",
       "</dl>\n",
       "</div>\n",
       "<div class=\"relation_goods_unit\" id=\"relation_goods_unit_13327520\"></div>\n",
       "<div class=\"prod_sub_info\">\n",
       "<div class=\"prod_sub_meta\">\n",
       "<dl class=\"meta_item mt_date\">\n",
       "<dt>등록월</dt>\n",
       "<dd>2021.02</dd>\n",
       "</dl>\n",
       "<dl class=\"meta_item mt_comment\">\n",
       "<dt><span class=\"dt_behind\">상품의견</span></dt>\n",
       "<dd>\n",
       "<div class=\"cnt_star\">\n",
       "<div class=\"point_type_list\">\n",
       "<div class=\"mask\" style=\"width:94%\">\n",
       "</div>\n",
       "</div>\n",
       "<div class=\"point_num\">\n",
       "<strong>4.7</strong>점\n",
       "\t\t\t\t\t\t\t\t\t\t\t\t\t\t</div>\n",
       "</div>\n",
       "<div class=\"cnt_opinion\">\n",
       "\t\t\t\t\t\t\t\t\t\t\t\t\t\t(<a class=\"click_log_prod_content_count\" href=\"http://prod.danawa.com/info/?pcode=13327520&amp;keyword=%EB%AC%B4%EC%84%A0%EC%B2%AD%EC%86%8C%EA%B8%B0&amp;cate=102207#bookmark_cm_opinion\" onmousedown=\"_trkEventLog('통합검색_상품블로그_유입');\" target=\"_blank\"><strong>932</strong></a>건)\n",
       "\t\t\t\t\t\t\t\t\t\t\t\t\t</div>\n",
       "</dd>\n",
       "</dl>\n",
       "<dl class=\"meta_item\">\n",
       "<dt class=\"screen_out\">관심상품</dt>\n",
       "<dd>\n",
       "<a class=\"click_log_wishList\" href=\"#\" onclick=\"javascript:$.danawaAddProductToWishList(this, '13327520', 'search_bundle', '', '', '1138720');return false;\" onmousedown=\"doCTR('%EB%AC%B4%EC%84%A0%EC%B2%AD%EC%86%8C%EA%B8%B0','13327520',4);\" title=\"관심상품에 담기\">관심상품</a>\n",
       "</dd>\n",
       "<input id=\"wishListBundleVal_13327520\" type=\"hidden\" value=\"카밍베이지^13327520**카밍그린^13328039//LG전자 오브제컬렉션 코드제로 ThinQ A9S AO9571//13327520\"/>\n",
       "</dl>\n",
       "</div>\n",
       "<dl class=\"prod_category_location\">\n",
       "<dt class=\"screen_out\">상품분류</dt>\n",
       "<dd>\n",
       "<a href=\"http://prod.danawa.com/list/?cate=102207\" onmousedown=\"80\" target=\"doCTR('%EB%AC%B4%EC%84%A0%EC%B2%AD%EC%86%8C%EA%B8%B0',13327520,3);\"><span>생활가전</span> &gt; <span>청소기</span></a> <div class=\"more_cate_layer\" style=\"display: none; z-index: 1;\">\n",
       "<ul class=\"list_category_location\">\n",
       "</ul>\n",
       "</div>\n",
       "</dd>\n",
       "</dl>\n",
       "</div>\n",
       "</div>\n",
       "<div class=\"prod_pricelist\" data-cate=\"72|80|81|0\">\n",
       "<ul>\n",
       "<li class=\"rank_one\" id=\"productInfoDetail_13327520\" style=\"\">\n",
       "<p class=\"chk_sect\">\n",
       "\t\t\t\t\t\t\t\t\t\t548몰\n",
       "\t\t\t\t\t\t\t\t\t\t<label for=\"prodCompareCheck_13327520\">\n",
       "<input id=\"prodCompareCheck_13327520\" type=\"checkbox\"/><strong>상품비교</strong>\n",
       "</label>\n",
       "<input name=\"compareValue\" type=\"hidden\" value=\"13327520\"/>\n",
       "<input name=\"compareRepValue\" type=\"hidden\" value=\"13327520\"/>\n",
       "</p>\n",
       "<p class=\"price_sect\">\n",
       "<a class=\"click_log_product_standard_price_\" href=\"http://prod.danawa.com/info/?pcode=13327520&amp;keyword=%EB%AC%B4%EC%84%A0%EC%B2%AD%EC%86%8C%EA%B8%B0&amp;cate=102207\" onmousedown=\"doCTR('%EB%AC%B4%EC%84%A0%EC%B2%AD%EC%86%8C%EA%B8%B0',13327520,1);\" target=\"_blank\"><strong>1,138,720</strong>원</a>\n",
       "<span class=\"more_btn_wrap\">\n",
       "<button class=\"ico i_more\">가격정보 더보기</button>\n",
       "<span class=\"layer_price_more\" id=\"layer_price_more_13327520\"></span>\n",
       "<span class=\"sep_line\"></span>\n",
       "</span>\n",
       "</p>\n",
       "<p class=\"memory_sect\"><span class=\"rank\">1위</span>\t\t\t\t\t\t\t\t\t\t\t\t\t\t\t\t\t\t\t\t카밍베이지\t\t\t\t\t\t\t\t\t\t\t\t\t\t\t\t\t\t\t\t<a href=\"http://prod.danawa.com/info/?pcode=13327520&amp;keyword=%EB%AC%B4%EC%84%A0%EC%B2%AD%EC%86%8C%EA%B8%B0&amp;cate=102207\" onmousedown=\"doCTR('%EB%AC%B4%EC%84%A0%EC%B2%AD%EC%86%8C%EA%B8%B0',13327520,1);\" target=\"_blank\">\n",
       "</a>\n",
       "</p>\n",
       "</li>\n",
       "<li id=\"productInfoDetail_13328039\" style=\"\">\n",
       "<p class=\"chk_sect\">\n",
       "\t\t\t\t\t\t\t\t\t\t434몰\n",
       "\t\t\t\t\t\t\t\t\t\t<label for=\"prodCompareCheck_13328039\">\n",
       "<input id=\"prodCompareCheck_13328039\" type=\"checkbox\"/><strong>상품비교</strong>\n",
       "</label>\n",
       "<input name=\"compareValue\" type=\"hidden\" value=\"13328039\"/>\n",
       "<input name=\"compareRepValue\" type=\"hidden\" value=\"13327520\"/>\n",
       "</p>\n",
       "<p class=\"price_sect\">\n",
       "<a class=\"click_log_product_standard_price_\" href=\"http://prod.danawa.com/info/?pcode=13328039&amp;keyword=%EB%AC%B4%EC%84%A0%EC%B2%AD%EC%86%8C%EA%B8%B0&amp;cate=102207\" onmousedown=\"doCTR('%EB%AC%B4%EC%84%A0%EC%B2%AD%EC%86%8C%EA%B8%B0',13328039,1);\" target=\"_blank\"><strong>1,138,910</strong>원</a>\n",
       "<span class=\"more_btn_wrap\">\n",
       "<button class=\"ico i_more\">가격정보 더보기</button>\n",
       "<span class=\"layer_price_more\" id=\"layer_price_more_13328039\"></span>\n",
       "<span class=\"sep_line\"></span>\n",
       "</span>\n",
       "</p>\n",
       "<p class=\"memory_sect\"><span class=\"rank\">2위</span>\t\t\t\t\t\t\t\t\t\t\t\t\t\t\t\t\t\t\t\t카밍그린\t\t\t\t\t\t\t\t\t\t\t\t\t\t\t\t\t\t\t\t<a href=\"http://prod.danawa.com/info/?pcode=13328039&amp;keyword=%EB%AC%B4%EC%84%A0%EC%B2%AD%EC%86%8C%EA%B8%B0&amp;cate=102207\" onmousedown=\"doCTR('%EB%AC%B4%EC%84%A0%EC%B2%AD%EC%86%8C%EA%B8%B0',13328039,1);\" target=\"_blank\">\n",
       "</a>\n",
       "</p>\n",
       "</li>\n",
       "</ul> </div>\n",
       "</div>\n",
       "</li>"
      ]
     },
     "execution_count": 7,
     "metadata": {},
     "output_type": "execute_result"
    }
   ],
   "source": [
    "title = prod_items[0]\n",
    "title"
   ]
  },
  {
   "cell_type": "code",
   "execution_count": 8,
   "metadata": {},
   "outputs": [
    {
     "data": {
      "text/plain": [
       "'LG전자 오브제컬렉션 코드제로 ThinQ A9S AO9571'"
      ]
     },
     "execution_count": 8,
     "metadata": {},
     "output_type": "execute_result"
    }
   ],
   "source": [
    "# 상품명\n",
    "title = prod_items[0].select('p.prod_name > a')[0].text.strip()\n",
    "title"
   ]
  },
  {
   "cell_type": "code",
   "execution_count": 9,
   "metadata": {},
   "outputs": [
    {
     "name": "stdout",
     "output_type": "stream",
     "text": [
      "핸디/스틱청소기 / 핸디+스틱형 / 무선형 / 흡입+걸레겸용 / [성능] 2중터보싸이클론 / 스마트인버터모터 / 흡입력: 210W / 소비전력: 590W / [배터리] 분리형 / 리튬이온 (2개) / 충전시간: 4시간 / 사용시간: 1시간(개당) / [필터] 헤파필터 / H13급 / 5단계여과 / [기능] 자동물공급 / 배터리잔량표시 / IoT기능 / 자동먼지비움 / [구성] 바닥 / 물걸레 / 침구 / 솔형 / 틈새 / 올인원타워 / [부가] 알레르기인증(BAF) / 미세먼지인증(SLG) / 색상: 카밍베이지 / 무게: 2.6kg / 분리형배기필터 / 크기(가로x세로x깊이): 250x1120x260mm\n"
     ]
    }
   ],
   "source": [
    "# 스펙목록\n",
    "spec_list = prod_items[0].select('div.spec_list')[0].text.strip()\n",
    "print(spec_list)"
   ]
  },
  {
   "cell_type": "code",
   "execution_count": 10,
   "metadata": {},
   "outputs": [
    {
     "name": "stdout",
     "output_type": "stream",
     "text": [
      "1138720\n"
     ]
    }
   ],
   "source": [
    "# 가격 정보 가져오기\n",
    "price = prod_items[0].select(\"li.rank_one > p.price_sect > a > strong\")[0].text.strip().replace(\",\",\"\")\n",
    "print(price)"
   ]
  },
  {
   "cell_type": "code",
   "execution_count": 11,
   "metadata": {},
   "outputs": [
    {
     "name": "stdout",
     "output_type": "stream",
     "text": [
      "44\n",
      "[['LG전자 오브제컬렉션 코드제로 ThinQ A9S AO9571', '핸디/스틱청소기 / 핸디+스틱형 / 무선형 / 흡입+걸레겸용 / [성능] 2중터보싸이클론 / 스마트인버터모터 / 흡입력: 210W / 소비전력: 590W / [배터리] 분리형 / 리튬이온 (2개) / 충전시간: 4시간 / 사용시간: 1시간(개당) / [필터] 헤파필터 / H13급 / 5단계여과 / [기능] 자동물공급 / 배터리잔량표시 / IoT기능 / 자동먼지비움 / [구성] 바닥 / 물걸레 / 침구 / 솔형 / 틈새 / 올인원타워 / [부가] 알레르기인증(BAF) / 미세먼지인증(SLG) / 색상: 카밍베이지 / 무게: 2.6kg / 분리형배기필터 / 크기(가로x세로x깊이): 250x1120x260mm', '1138720'], ['7tvNvZwBrn', '7tvNvZwBrn638749', '638749'], ['샤오미 드리미 V10', '핸디/스틱청소기 / 핸디+스틱형 / 무선형 / 흡입전용 / [성능] 멀티싸이클론 / BLDC모터 / 흡입력: 140AW / 흡입력: 22000Pa / 소비전력: 450W / [배터리] 용량: 2500mAh / 충전시간: 3시간30분 / 사용시간: 1시간(개당) / [필터] 헤파필터 / H12급 / 5단계여과 / [구성] 바닥 / 침구 / 솔형 / 틈새 / 연장툴 / 거치대 / [부가] 먼지통용량: 0.5L / 색상: 화이트 / 무게: 1.5kg', '146850'], ['삼성전자 제트 VS20T9218QDCC', '핸디/스틱청소기 / 핸디+스틱형 / 무선형 / 흡입+걸레겸용 / [성능] 싸이클론 / 인버터모터 / 흡입력: 200W / 소비전력: 550W / [배터리] 분리형 / 리튬이온 / 충전시간: 3시간30분 / 사용시간: 1시간(개당) / [필터] 헤파필터 / 5단계여과 / [기능] 디스플레이표시창 / 프리볼트 / [구성] 바닥 / 물걸레 / 솔형 / 틈새 / 연장툴 / 거치대 / 청정스테이션 / [부가] 먼지통용량: 0.5L / 알레르기인증(BAF) / 미세먼지인증(SLG) / 색상: 티탄+그레이 / 무게: 2.64kg / 크기(가로x세로x깊이): 250x1123x215mm', '568210'], ['샤오미 CLEANFLY 차량용 무선 청소기 4세대 H2 (해외구매)', '차량용청소기 / 무선 / 흡입력: 16,800Pa / 최대출력: 120W / 헤파필터 / 스테인리스 필터 / 추가노즐: 틈새, 솔브러쉬, 연장호스 / 사용시간: 30분 / 소음: 73.8dB / 충전방식: USB C타입 / 배터리용량: 2,000mAh / 색상: 블랙, 화이트 / 크기: 369x72mm / 무게: 560g', '60610'], ['샤오미 미지아 차량용 핸디 무선 청소기 (해외구매)', '차량용청소기 / 무선 / 흡입력: 13,000Pa / 최대출력: 120W / 헤파필터 / 추가노즐: 틈새, 솔브러쉬 / 사용시간: 9~30분 / 버튼 잠금 장치 / 2단 세기 조절 / 크기: 55x267mm / 무게: 500g', '35040'], ['', '', 0], ['삼성전자 비스포크 제트 VS20A957D3', '핸디/스틱청소기 / 핸디+스틱형 / 무선형 / 흡입+걸레겸용 / [성능] 제트싸이클론 / 디지털인버터모터 / 흡입력: 210W / [배터리] 분리형 / 리튬이온 (2개) / 용량: 2200mAh / 충전시간: 3시간30분 / 사용시간: 1시간(개당) / [필터] 5단계여과 / [기능] 자동물공급 / 디스플레이표시창 / 배터리잔량표시 / 자동먼지비움 / [구성] 바닥 / 물걸레 / 솔형 / 틈새 / 연장툴 / 거치대 / 청정스테이션 / [부가] 먼지통용량: 0.5L / 알레르기인증(BAF) / 미세먼지인증(SLG) / 색상: 미드나잇블루 / 무게: 2.5kg / 액세서리크래들  / 크기(가로x세로x깊이): 250x930x202mm', '860720'], ['삼성전자 비스포크 제트 VS20A956A3', '핸디/스틱청소기 / 핸디+스틱형 / 무선형 / 흡입+걸레겸용 / [성능] 제트싸이클론 / 디지털인버터모터 / 흡입력: 210W / [배터리] 분리형 / 리튬이온 / 용량: 2200mAh / 충전시간: 3시간30분 / 사용시간: 1시간(개당) / [필터] 5단계여과 / [기능] 자동물공급 / 디스플레이표시창 / 배터리잔량표시 / 자동먼지비움 / [구성] 바닥 / 솔형 / 틈새 / 연장툴 / 거치대 / 청정스테이션 / [부가] 먼지통용량: 0.5L / 물통용량: 0.15L / 알레르기인증(BAF) / 미세먼지인증(SLG) / 색상: 미드나잇블루 / 무게: 2.5kg / 액세서리크래들  / 크기(가로x세로x깊이): 250x930x202mm', '691120'], ['델로라 V11 파워 300W', '핸디/스틱청소기 / 핸디+스틱형 / 무선형 / 흡입전용 / [성능] 싸이클론 / BLDC모터 / 흡입력: 22000Pa / 소비전력: 300W / [배터리] 분리형 / 리튬이온 / 용량: 2500mAh / 충전시간: 5시간 / 사용시간: 1시간10분(개당) / [필터] 헤파필터 / 4단계여과 / [기능] LED라이트 / [구성] 바닥 / 침구 / 솔형 / 틈새 / 연장툴 / 거치대 / [부가] 먼지통용량: 0.6L / 색상: 레드, 블랙 / 무게: 3.89kg / 크기(가로x세로x깊이): 239x1255x105mm', '109000'], ['샤오미 TROUVER TECH SOLO10', '핸디/스틱청소기 / 핸디+스틱형 / 무선형 / 흡입전용 / [성능] BLDC모터 / 흡입력: 85AW / 흡입력: 18000Pa / 소비전력: 300W / [배터리] 내장형 / 용량: 2000mAh / 충전시간: 3시간30분 / 사용시간: 48분(개당) / [필터] 5단계여과 / [기능] 디스플레이표시창 / 배터리잔량표시 / [구성] 바닥 / 솔형 / 틈새 / [부가] 먼지통용량: 0.4L / 색상: 화이트+레드 / 무게: 1.4kg', '73120'], ['LG전자 코드제로 ThinQ A9S A9370', '핸디/스틱청소기 / 핸디+스틱형 / 무선형 / 흡입+걸레겸용 / [성능] 2중터보싸이클론 / 인버터모터 / 소비전력: 590W / [배터리] 분리형 / 리튬이온 / 충전시간: 4시간 / 사용시간: 1시간(개당) / [필터] 헤파필터 / H13급 / 5단계여과 / [기능] 자동물공급 / 디스플레이표시창 / 배터리잔량표시 / IoT기능 / [구성] 바닥 / 물걸레 / 솔형 / 틈새 / 거치대 / [부가] 미세먼지인증(SLG) / 색상: 아이언그레이 / 크기(가로x세로x깊이): 250x1120x260mm', '698630'], ['', '', 0], ['일렉트로룩스 WELL Q6 WQ61-1OGG', '핸디/스틱청소기 / 핸디+스틱형 / 무선형 / 흡입전용 / [성능] 싸이클론 / [배터리] 리튬이온 / 충전시간: 4시간30분 / 사용시간: 45분(개당) / [필터] 5단계여과 / [기능] 브러쉬자동청소 / 셀프스탠딩 / LED라이트 / 배터리잔량표시 / [구성] 바닥 / 솔형 / 틈새 / 거치대 / [부가] 먼지통용량: 0.3L / 색상: 그라나이트그레이 / 무게: 2.65kg / 크기(가로x세로x깊이): 386x692x146mm', '156460'], ['다이슨 V10 플러피 오리진', '핸디/스틱청소기 / 핸디+스틱형 / 무선형 / 흡입전용 / [성능] 싸이클론 / 흡입력: 151AW / [배터리] 충전시간: 3시간30분 / 사용시간: 1시간(개당) / [구성] 소프트롤러 / 미니모터 / 솔형 / 더스팅 / 틈새 / 도킹스테이션 / [부가] 먼지통용량: 0.5L / 색상: 레드 / 무게: 2.5kg / 크기(가로x세로x깊이): 256x1241x250mm', '485480'], ['삼성전자 제트 VS20T9257SDCS', '핸디/스틱청소기 / 핸디+스틱형 / 무선형 / 흡입+걸레겸용 / [성능] 싸이클론 / 인버터모터 / 흡입력: 200W / 소비전력: 550W / [배터리] 분리형 / 리튬이온 (2개) / 충전시간: 3시간30분 / 사용시간: 1시간(개당) / [필터] 헤파필터 / 5단계여과 / [기능] 디스플레이표시창 / 프리볼트 / [구성] 바닥 / 물걸레 / 솔형 / 틈새 / 연장툴 / 거치대 / 청정스테이션 / [부가] 먼지통용량: 0.5L / 알레르기인증(BAF) / 미세먼지인증(SLG) / 색상: 티탄+그레이 / 무게: 2.64kg / 크기(가로x세로x깊이): 250x1123x215mm', '611890'], ['DIBEA 차이슨 ALLNEW29000', '핸디/스틱청소기 / 핸디+스틱형 / 무선형 / 흡입+걸레겸용 / [성능] BLDC모터 / 흡입력: 29000Pa / 소비전력: 380W / 분리형 / 용량: 2200mAh / 충전시간: 4시간 / 사용시간: 48분(개당) / [필터] 헤파필터 / H13급 / 4단계여과 / [기능] LED라이트 / 배터리잔량표시 / [구성] 바닥 / 물걸레 / 침구 / 솔형 / 틈새 / 패브릭 / 연장툴 / 거치대 / [부가] 먼지통용량: 0.7L / 색상: 폴라나이트그레이, 미드나이트블랙 / 무게: 2.4kg / UV살균 / 크기(가로x세로x깊이): 255x1150x200mm', '248000'], ['LG전자 코드제로 ThinQ A9S AS9570', '핸디/스틱청소기 / 핸디+스틱형 / 무선형 / 흡입+걸레겸용 / [성능] 2중터보싸이클론 / 스마트인버터모터 / 흡입력: 210W / 소비전력: 590W / [배터리] 분리형 / 리튬이온 (2개) / 충전시간: 4시간 / 사용시간: 1시간(개당) / [필터] 헤파필터 / H13급 / 5단계여과 / [기능] 자동물공급 / 배터리잔량표시 / IoT기능 / 자동먼지비움 / [구성] 바닥 / 물걸레 / 침구 / 솔형 / 틈새 / 올인원타워 / [부가] 알레르기인증(BAF) / 색상: 블랙 / 무게: 2.6kg / 분리형배기필터 / 크기(가로x세로x깊이): 250x1120x260mm', '1054240'], ['', '', 0], ['베이스어스 차량용 청소기 A3 (해외구매)', '차량용청소기 / 무선 / 흡입력: 15,000Pa / 최대출력: 135W / 헤파필터 / 추가노즐: 틈새, 솔브러쉬 / LED라이트 / 사용시간: 45분 / 배터리 잔량표시 / 소음: 75dB / 충전방식: USB C타입 / 충전시간: 3~5시간 / 색상: 그린, 실버 / 크기: 296x56.5mm', '46860'], ['다이슨 V15 디텍트 컴플리트', '핸디/스틱청소기 / 핸디+스틱형 / 무선형 / 흡입전용 / [성능] 루트싸이클론 / 흡입력: 240AW / [배터리] 분리형 / 충전시간: 4시간30분 / 사용시간: 1시간(개당) / [필터] 헤파필터 / [기능] 먼지감지센서 / 디스플레이표시창 / [구성] 하이토크 / 레이저슬림플러피 / 헤어스크류 / 솔형 / 더스팅 / 스터번더트 / 틈새 / 거치대 / 도킹스테이션 / [부가] 먼지통용량: 0.54L / 색상: 옐로우/아이언/니켈 / 무게: 3kg / 크기(가로x세로x깊이): 250x1086x250mm', '1077220'], ['LG전자 코드제로 ThinQ A9S AS9471', '핸디/스틱청소기 / 핸디+스틱형 / 무선형 / 흡입+걸레겸용 / [성능] 2중터보싸이클론 / 스마트인버터모터 / 흡입력: 210W / 소비전력: 590W / [배터리] 분리형 / 리튬이온 (2개) / 충전시간: 4시간 / 사용시간: 1시간(개당) / [필터] 헤파필터 / H13급 / 5단계여과 / [기능] 자동물공급 / 배터리잔량표시 / IoT기능 / 자동먼지비움 / [구성] 바닥 / 물걸레 / 솔형 / 틈새 / 올인원타워 / [부가] 알레르기인증(BAF) / 색상: 블랙 / 무게: 2.6kg / 분리형배기필터 / 크기(가로x세로x깊이): 250x1120x260mm', '971190'], ['휴스톰 듀얼스핀 HS-10000', '물걸레청소기 / 스틱형 / 회전식 / 무선형 / 배터리: 리튬이온 / 용량: 2750mAh / 충전시간: 2시간30분 / 사용시간: 30분(개당) / [기능] LED라이트 / 가구손상방지 / 각도조절 / 셀프스탠딩 / 배터리잔량표시 / 프리볼트 / [부가] 색상: 블랙 / 무게: 3.7kg / 모터과열방지 / 과충전방지 / 오토스토핑 / 패드: 극세사(벨크로형) / 크기(가로x세로x깊이): 410x1180x205mm', '141960'], ['샤오미 TROUVER POWER 12', '핸디/스틱청소기 / 핸디+스틱형 / 무선형 / 흡입전용 / [성능] BLDC모터 / 흡입력: 150AW / 흡입력: 22000Pa / 소비전력: 450W / [배터리] 분리형 / 용량: 2500mAh / 충전시간: 3시간30분 / 사용시간: 1시간(개당) / [필터] 헤파필터 / 5단계여과 / 배터리잔량표시 / [구성] 바닥 / 침구 / 솔형 / 틈새 / 연장툴 / 거치대 / [부가] 먼지통용량: 0.4L / 색상: 실버 / 무게: 1.45kg', '167420'], ['샤오미 미지아 차량용 핸디 무선 청소기', '차량용청소기 / 무선 / 흡입력: 13,000Pa / 최대출력: 120W / 헤파필터 / 추가노즐: 틈새, 솔브러쉬 / 사용시간: 9~30분 / 버튼 잠금 장치 / 2단 세기 조절 / 크기: 55x267mm / 무게: 500g', '42870'], ['LG전자 코드제로 A9 A9100S', '핸디/스틱청소기 / 핸디+스틱형 / 무선형 / 흡입+걸레겸용 / [성능] 2중터보싸이클론 / 인버터모터 / 흡입력: 140W / 소비전력: 450W / [배터리] 분리형 / 리튬이온 / 충전시간: 3시간30분 / 사용시간: 40분(개당) / [필터] 헤파필터 / H13급 / 5단계여과 / [기능] 배터리잔량표시 / [구성] 바닥 / 솔형 / 틈새 / 거치대 / [부가] 알레르기인증(BAF) / 미세먼지인증(SLG) / 색상: 판타지실버 / 크기(가로x세로x깊이): 250x1120x260mm', '589440'], ['샤오미 CLEANFLY 차량용 무선 청소기 3세대 (해외구매)', '차량용청소기 / 무선 / 흡입력: 16,800Pa / 최대출력: 120W / 헤파필터 / 스테인리스 필터 / 추가노즐: 틈새, 솔브러쉬, 연장호스 / 사용시간: 25분 / 크기: 369x72mm / 무게: 560g / 충전방식: USB C타입 / 배터리용량: 2,000mAh', '53750'], ['삼성전자 제트 VS15R8500BF', '핸디/스틱청소기 / 핸디+스틱형 / 무선형 / 흡입+걸레겸용 / [성능] 싸이클론 / 인버터모터 / 흡입력: 150W / 소비전력: 410W / [배터리] 분리형 / 리튬이온 / 충전시간: 3시간30분 / 사용시간: 40분(개당) / [필터] 헤파필터 / 5단계여과 / [기능] 디스플레이표시창 / 프리볼트 / [구성] 바닥 / 솔형 / 틈새 / 거치대 / [부가] 먼지통용량: 0.5L / 알레르기인증(BAF) / 미세먼지인증(SLG) / 색상: 틸민트 / 무게: 2.57kg / 크기(가로x세로x깊이): 250x1123x215mm', '381040'], ['일렉트로룩스 퓨어 Q9 파워프로 PQ92-3BWF', '핸디/스틱청소기 / 핸디+스틱형 / 무선형 / 흡입전용 / [성능] 싸이클론 / [배터리] 리튬이온 / 충전시간: 4시간 / 사용시간: 53분(개당) / [필터] 5단계여과 / [기능] 셀프스탠딩 / LED라이트 / [구성] 바닥 / 침구 / 솔형 / 더스팅 / 틈새 / 긴틈새 / 거치대 / [부가] 먼지통용량: 0.3L / 색상: 사틴화이트 / 무게: 2.89kg / 크기(가로x세로x깊이): 256x1097x155mm', '316120'], ['디엠셀파 아크롤 윈드액션 PGA-01 휴대용 무선 에어건', '차량용청소기 / 무선 / 최대출력: ~60W / LED라이트 / 사용시간: 최대 60분 / 충전시간: 7시간 / 충전방식: USB C타입 / 크기: 189x79x131mm / 무게: 475g', '69000'], ['한샘 트리플 플러스 HSBC-6000W', '욕실청소기 / 스틱형 / 무선형 / 소비전력: 30W / [배터리] 용량: 2000mAh / 충전시간: 4시간 / 사용시간: 1시간40분(개당) / [기능] 프리볼트 / [부가] 색상: 화이트 / 완전방수 / 브러쉬: 평면, 틈새, 스크럽', '68630'], ['샤오미 SWDK-D260', '물걸레청소기 / 스틱형 / 왕복식 / 무선형 / 배터리: 리튬이온 / 용량: 2000mAh / 충전시간: 3시간 / 사용시간: 50분(개당) / [기능] 물분사 / LED라이트 / 프리볼트 / [부가] 색상: 화이트 / 무게: 2.4kg / 110V / 변환어댑터: 필요', '67420'], ['오토모 ATM-H100', '핸디/스틱청소기 / 핸디형 / 무선형 / 흡입전용 / 소비전력: 70W / [배터리] 리튬이온 / 용량: 2200mAh / [필터] 2단계여과 / [구성] 솔형 / [부가] 먼지통용량: 0.12L / 색상: 화이트, 블랙 / 무게: 0.6kg', '35480'], ['샤오미 드리미 V12', '핸디/스틱청소기 / 핸디+스틱형 / 무선형 / 흡입+걸레겸용 / [성능] 싸이클론 / 흡입력: 185AW / 흡입력: 27000Pa / 소비전력: 550W / [배터리] 내장형 / 용량: 3000mAh / 충전시간: 4시간 / 사용시간: 1시간30분(개당) / [필터] 5단계여과 / [기능] 디스플레이표시창 / LED라이트 / 배터리잔량표시 / [구성] 바닥 / 물걸레 / 침구 / 솔형 / 틈새 / 연장툴 / 거치대 / [부가] 먼지통용량: 0.5L / 물통용량: 0.25L / 색상: 블랙 / 무게: 1.65kg / 크기(가로x세로): 200x1226mm', '294300'], ['샤오미 SHUNZAO 차량용 무선청소기 2세대 Z1 PRO (해외구매)', '차량용청소기 / 무선 / 흡입력: 12,000Pa / 최대출력: 120W / 2중필터 / 추가노즐: 틈새, 솔브러쉬 / LED라이트 / 사용시간: 30분 / 충전시간: 2시간30분 / 충전방식: USB C타입 / 크기: 73x76x336mm / 무게: 610g', '43410'], ['일렉트로룩스 WELL Q7 WQ71-2OIB', '핸디/스틱청소기 / 핸디+스틱형 / 무선형 / 흡입전용 / [성능] 싸이클론 / [배터리] 리튬이온 / 충전시간: 4시간30분 / 사용시간: 50분(개당) / [필터] 5단계여과 / [기능] 브러쉬자동청소 / 셀프스탠딩 / LED라이트 / 배터리잔량표시 / [구성] 바닥 / 솔형 / 더스팅 / 틈새 / 거치대 / [부가] 먼지통용량: 0.3L / 색상: 인디고블루 / 무게: 2.8kg / 크기(가로x세로x깊이): 386x692x140mm', '193330'], ['샤오미 드리미 V9', '핸디/스틱청소기 / 핸디+스틱형 / 무선형 / [성능] 멀티싸이클론 / BLDC모터 / 흡입력: 120AW / 흡입력: 20000Pa / 소비전력: 400W / [배터리] 용량: 2500mAh / 충전시간: 3시간30분 / 사용시간: 60분(개당) / [필터] 헤파필터 / 5단계여과 / [구성] 바닥 / 침구 / 솔형 / 틈새 / 연장툴 / 거치대 / [부가] 먼지통용량: 0.5L / 색상: 화이트 / 무게: 1.5kg', '110940'], ['LG전자 코드제로 ThinQ A9S A9300', '핸디/스틱청소기 / 핸디+스틱형 / 무선형 / 흡입+걸레겸용 / [성능] 2중터보싸이클론 / 인버터모터 / 흡입력: 200W / 소비전력: 590W / [배터리] 분리형 / 리튬이온 / 충전시간: 4시간 / 사용시간: 1시간(개당) / [필터] 헤파필터 / H13급 / 5단계여과 / [기능] 디스플레이표시창 / 배터리잔량표시 / IoT기능 / [구성] 바닥 / 솔형 / 굳은먼지 / 틈새 / 매트리스 / 거치대 / [부가] 미세먼지인증(SLG) / 색상: 아이언그레이 / 크기(가로x세로x깊이): 250x1120x260mm', '634230'], ['휴스톰 듀얼라이팅 HS-9000', '물걸레청소기 / 스틱형 / 회전식 / 무선형 / 배터리: 리튬이온 / 용량: 2850mAh / 충전시간: 4시간 / 사용시간: 30분(개당) / [기능] LED라이트 / 가구손상방지 / 각도조절 / 셀프스탠딩 / [부가] 색상: 블랙 / 무게: 3.6kg / 모터과열방지 / 과충전방지 / 오토스토핑 / 패드: 극세사(벨크로형) / 크기(가로x세로x깊이): 410x860x256mm', '137360'], ['삼성전자 비스포크 슬림 VS15A680AF', '핸디/스틱청소기 / 스틱형 / 무선형 / 흡입+걸레겸용 / [성능] 싸이클론 / 디지털인버터모터 / 흡입력: 150W / 소비전력: 450W / [배터리] 내장형 / 리튬이온 / 용량: 2200mAh / 충전시간: 4시간 / 사용시간: 50분(개당) / [필터] 5단계여과 / [기능] 셀프스탠딩 / LED라이트 / [구성] 바닥 / 틈새 / [부가] 먼지통용량: 0.3L / 색상: 썬옐로우 / 무게: 2.6kg / 크기(가로x세로x깊이): 250x1143x194mm', '427360'], ['다이슨 디지털 슬림 플러피+', '핸디/스틱청소기 / 핸디+스틱형 / 무선형 / 흡입전용 / [성능] 싸이클론 / 흡입력: 100AW / [배터리] 분리형 / 충전시간: 3시간30분 / 사용시간: 40분(개당) / [필터] 5단계여과 / [기능] 디스플레이표시창 / [구성] 슬림소프트롤러 / 미니모터 / 솔형 / 스터번더트 / 틈새 / 매트리스 / 연장툴 / 거치대 / 도킹스테이션 / [부가] 먼지통용량: 0.3L / 색상: 오렌지 / 무게: 1.9kg / 크기(가로x세로x깊이): 250x1100x250mm', '645940'], ['LG전자 코드제로 ThinQ A9S 펫 AS9571BPKT', '핸디/스틱청소기 / 핸디+스틱형 / 무선형 / 흡입+걸레겸용 / [성능] 2중터보싸이클론 / 스마트인버터모터 / 흡입력: 210W / 소비전력: 590W / [배터리] 분리형 / 리튬이온 (2개) / 충전시간: 4시간 / 사용시간: 1시간(개당) / [필터] 헤파필터 / H13급 / 5단계여과 / [기능] 자동물공급 / 배터리잔량표시 / IoT기능 / 자동먼지비움 / [구성] 바닥 / 물걸레 / 펫 / 솔형 / 틈새 / 올인원타워 / [부가] 알레르기인증(BAF) / 색상: 딥그레이/블랙 / 무게: 2.6kg / 분리형배기필터 / 크기(가로x세로x깊이): 250x1120x260mm', '1069000'], ['LG전자 코드제로 ThinQ A9S AS9370IKT', '핸디/스틱청소기 / 핸디+스틱형 / 무선형 / 흡입+걸레겸용 / [성능] 2중터보싸이클론 / 스마트인버터모터 / 흡입력: 210W / 소비전력: 590W / [배터리] 분리형 / 리튬이온 / 충전시간: 4시간 / 사용시간: 1시간(개당) / [필터] 헤파필터 / H13급 / 5단계여과 / [기능] 자동물공급 / 배터리잔량표시 / IoT기능 / 자동먼지비움 / [구성] 바닥 / 물걸레 / 솔형 / 틈새 / 올인원타워 / [부가] 알레르기인증(BAF) / 색상: 아이언그레이 / 무게: 2.6kg / 크기(가로x세로x깊이): 250x1120x260mm', '967050'], ['리하스 차량용 미니 무선 청소기 TEB-4120', '차량용청소기 / 무선 / 흡입력: 15,000Pa / 최대출력: 120W / 헤파필터 / 스테인리스 필터 / 추가노즐: 틈새, 솔브러쉬, 연장호스 / 사용시간: 15~28분 / 충전시간: 4~5시간 / 색상: 블랙, 스카이블루, 화이트 / 크기: 415mm / 무게: 520g', '79900']]\n"
     ]
    }
   ],
   "source": [
    "# 반복문으로 검색 결과의 1페이지에 대한 상품 정보 추출\n",
    "\n",
    "prod_data = []\n",
    "for prod_item in prod_items:\n",
    "    try: # 상품명 \n",
    "        title = prod_item.select('p.prod_name > a')[0].text.strip()\n",
    "    except:\n",
    "        title = ''\n",
    "    \n",
    "    try: # 스펙목록\n",
    "        spec_list = prod_item.select('div.spec_list')[0].text.strip()\n",
    "    except:\n",
    "        spec_list = ''\n",
    "        \n",
    "    try: #가격정보\n",
    "        price = prod_item.select(\"li.rank_one > p.price_sect > a > strong\")[0].text.strip().replace(\",\",\"\")\n",
    "    except:\n",
    "        price = 0\n",
    "    \n",
    "    prod_data.append([title, spec_list, price])\n",
    "    \n",
    "\n",
    "    \n",
    "print(len(prod_data))\n",
    "print(prod_data)\n"
   ]
  },
  {
   "cell_type": "code",
   "execution_count": 12,
   "metadata": {},
   "outputs": [],
   "source": [
    "# 함수 생성\n",
    "def get_prod_items(prod_items):\n",
    "    prod_data = []\n",
    "    for prod_item in prod_items:\n",
    "        try: # 상품명 \n",
    "            title = prod_item.select('p.prod_name > a')[0].text.strip()\n",
    "        except:\n",
    "            title = ''\n",
    "\n",
    "        try: # 스펙목록\n",
    "            spec_list = prod_item.select('div.spec_list')[0].text.strip()\n",
    "        except:\n",
    "            spec_list = ''\n",
    "\n",
    "        try: #가격정보\n",
    "            price = prod_item.select(\"li.rank_one > p.price_sect > a > strong\")[0].text.strip().replace(\",\",\"\")\n",
    "        except:\n",
    "            price = 0\n",
    "\n",
    "        prod_data.append([title, spec_list, price])\n",
    "    return prod_data"
   ]
  },
  {
   "cell_type": "code",
   "execution_count": 13,
   "metadata": {},
   "outputs": [
    {
     "name": "stdout",
     "output_type": "stream",
     "text": [
      "44\n"
     ]
    },
    {
     "data": {
      "text/plain": [
       "[['LG전자 오브제컬렉션 코드제로 ThinQ A9S AO9571',\n",
       "  '핸디/스틱청소기 / 핸디+스틱형 / 무선형 / 흡입+걸레겸용 / [성능] 2중터보싸이클론 / 스마트인버터모터 / 흡입력: 210W / 소비전력: 590W / [배터리] 분리형 / 리튬이온 (2개) / 충전시간: 4시간 / 사용시간: 1시간(개당) / [필터] 헤파필터 / H13급 / 5단계여과 / [기능] 자동물공급 / 배터리잔량표시 / IoT기능 / 자동먼지비움 / [구성] 바닥 / 물걸레 / 침구 / 솔형 / 틈새 / 올인원타워 / [부가] 알레르기인증(BAF) / 미세먼지인증(SLG) / 색상: 카밍베이지 / 무게: 2.6kg / 분리형배기필터 / 크기(가로x세로x깊이): 250x1120x260mm',\n",
       "  '1138720'],\n",
       " ['7tvNvZwBrn', '7tvNvZwBrn638749', '638749'],\n",
       " ['샤오미 드리미 V10',\n",
       "  '핸디/스틱청소기 / 핸디+스틱형 / 무선형 / 흡입전용 / [성능] 멀티싸이클론 / BLDC모터 / 흡입력: 140AW / 흡입력: 22000Pa / 소비전력: 450W / [배터리] 용량: 2500mAh / 충전시간: 3시간30분 / 사용시간: 1시간(개당) / [필터] 헤파필터 / H12급 / 5단계여과 / [구성] 바닥 / 침구 / 솔형 / 틈새 / 연장툴 / 거치대 / [부가] 먼지통용량: 0.5L / 색상: 화이트 / 무게: 1.5kg',\n",
       "  '146850'],\n",
       " ['삼성전자 제트 VS20T9218QDCC',\n",
       "  '핸디/스틱청소기 / 핸디+스틱형 / 무선형 / 흡입+걸레겸용 / [성능] 싸이클론 / 인버터모터 / 흡입력: 200W / 소비전력: 550W / [배터리] 분리형 / 리튬이온 / 충전시간: 3시간30분 / 사용시간: 1시간(개당) / [필터] 헤파필터 / 5단계여과 / [기능] 디스플레이표시창 / 프리볼트 / [구성] 바닥 / 물걸레 / 솔형 / 틈새 / 연장툴 / 거치대 / 청정스테이션 / [부가] 먼지통용량: 0.5L / 알레르기인증(BAF) / 미세먼지인증(SLG) / 색상: 티탄+그레이 / 무게: 2.64kg / 크기(가로x세로x깊이): 250x1123x215mm',\n",
       "  '568210'],\n",
       " ['샤오미 CLEANFLY 차량용 무선 청소기 4세대 H2 (해외구매)',\n",
       "  '차량용청소기 / 무선 / 흡입력: 16,800Pa / 최대출력: 120W / 헤파필터 / 스테인리스 필터 / 추가노즐: 틈새, 솔브러쉬, 연장호스 / 사용시간: 30분 / 소음: 73.8dB / 충전방식: USB C타입 / 배터리용량: 2,000mAh / 색상: 블랙, 화이트 / 크기: 369x72mm / 무게: 560g',\n",
       "  '60610'],\n",
       " ['샤오미 미지아 차량용 핸디 무선 청소기 (해외구매)',\n",
       "  '차량용청소기 / 무선 / 흡입력: 13,000Pa / 최대출력: 120W / 헤파필터 / 추가노즐: 틈새, 솔브러쉬 / 사용시간: 9~30분 / 버튼 잠금 장치 / 2단 세기 조절 / 크기: 55x267mm / 무게: 500g',\n",
       "  '35040'],\n",
       " ['', '', 0],\n",
       " ['삼성전자 비스포크 제트 VS20A957D3',\n",
       "  '핸디/스틱청소기 / 핸디+스틱형 / 무선형 / 흡입+걸레겸용 / [성능] 제트싸이클론 / 디지털인버터모터 / 흡입력: 210W / [배터리] 분리형 / 리튬이온 (2개) / 용량: 2200mAh / 충전시간: 3시간30분 / 사용시간: 1시간(개당) / [필터] 5단계여과 / [기능] 자동물공급 / 디스플레이표시창 / 배터리잔량표시 / 자동먼지비움 / [구성] 바닥 / 물걸레 / 솔형 / 틈새 / 연장툴 / 거치대 / 청정스테이션 / [부가] 먼지통용량: 0.5L / 알레르기인증(BAF) / 미세먼지인증(SLG) / 색상: 미드나잇블루 / 무게: 2.5kg / 액세서리크래들  / 크기(가로x세로x깊이): 250x930x202mm',\n",
       "  '860720'],\n",
       " ['삼성전자 비스포크 제트 VS20A956A3',\n",
       "  '핸디/스틱청소기 / 핸디+스틱형 / 무선형 / 흡입+걸레겸용 / [성능] 제트싸이클론 / 디지털인버터모터 / 흡입력: 210W / [배터리] 분리형 / 리튬이온 / 용량: 2200mAh / 충전시간: 3시간30분 / 사용시간: 1시간(개당) / [필터] 5단계여과 / [기능] 자동물공급 / 디스플레이표시창 / 배터리잔량표시 / 자동먼지비움 / [구성] 바닥 / 솔형 / 틈새 / 연장툴 / 거치대 / 청정스테이션 / [부가] 먼지통용량: 0.5L / 물통용량: 0.15L / 알레르기인증(BAF) / 미세먼지인증(SLG) / 색상: 미드나잇블루 / 무게: 2.5kg / 액세서리크래들  / 크기(가로x세로x깊이): 250x930x202mm',\n",
       "  '691120'],\n",
       " ['델로라 V11 파워 300W',\n",
       "  '핸디/스틱청소기 / 핸디+스틱형 / 무선형 / 흡입전용 / [성능] 싸이클론 / BLDC모터 / 흡입력: 22000Pa / 소비전력: 300W / [배터리] 분리형 / 리튬이온 / 용량: 2500mAh / 충전시간: 5시간 / 사용시간: 1시간10분(개당) / [필터] 헤파필터 / 4단계여과 / [기능] LED라이트 / [구성] 바닥 / 침구 / 솔형 / 틈새 / 연장툴 / 거치대 / [부가] 먼지통용량: 0.6L / 색상: 레드, 블랙 / 무게: 3.89kg / 크기(가로x세로x깊이): 239x1255x105mm',\n",
       "  '109000'],\n",
       " ['샤오미 TROUVER TECH SOLO10',\n",
       "  '핸디/스틱청소기 / 핸디+스틱형 / 무선형 / 흡입전용 / [성능] BLDC모터 / 흡입력: 85AW / 흡입력: 18000Pa / 소비전력: 300W / [배터리] 내장형 / 용량: 2000mAh / 충전시간: 3시간30분 / 사용시간: 48분(개당) / [필터] 5단계여과 / [기능] 디스플레이표시창 / 배터리잔량표시 / [구성] 바닥 / 솔형 / 틈새 / [부가] 먼지통용량: 0.4L / 색상: 화이트+레드 / 무게: 1.4kg',\n",
       "  '73120'],\n",
       " ['LG전자 코드제로 ThinQ A9S A9370',\n",
       "  '핸디/스틱청소기 / 핸디+스틱형 / 무선형 / 흡입+걸레겸용 / [성능] 2중터보싸이클론 / 인버터모터 / 소비전력: 590W / [배터리] 분리형 / 리튬이온 / 충전시간: 4시간 / 사용시간: 1시간(개당) / [필터] 헤파필터 / H13급 / 5단계여과 / [기능] 자동물공급 / 디스플레이표시창 / 배터리잔량표시 / IoT기능 / [구성] 바닥 / 물걸레 / 솔형 / 틈새 / 거치대 / [부가] 미세먼지인증(SLG) / 색상: 아이언그레이 / 크기(가로x세로x깊이): 250x1120x260mm',\n",
       "  '698630'],\n",
       " ['', '', 0],\n",
       " ['일렉트로룩스 WELL Q6 WQ61-1OGG',\n",
       "  '핸디/스틱청소기 / 핸디+스틱형 / 무선형 / 흡입전용 / [성능] 싸이클론 / [배터리] 리튬이온 / 충전시간: 4시간30분 / 사용시간: 45분(개당) / [필터] 5단계여과 / [기능] 브러쉬자동청소 / 셀프스탠딩 / LED라이트 / 배터리잔량표시 / [구성] 바닥 / 솔형 / 틈새 / 거치대 / [부가] 먼지통용량: 0.3L / 색상: 그라나이트그레이 / 무게: 2.65kg / 크기(가로x세로x깊이): 386x692x146mm',\n",
       "  '156460'],\n",
       " ['다이슨 V10 플러피 오리진',\n",
       "  '핸디/스틱청소기 / 핸디+스틱형 / 무선형 / 흡입전용 / [성능] 싸이클론 / 흡입력: 151AW / [배터리] 충전시간: 3시간30분 / 사용시간: 1시간(개당) / [구성] 소프트롤러 / 미니모터 / 솔형 / 더스팅 / 틈새 / 도킹스테이션 / [부가] 먼지통용량: 0.5L / 색상: 레드 / 무게: 2.5kg / 크기(가로x세로x깊이): 256x1241x250mm',\n",
       "  '485480'],\n",
       " ['삼성전자 제트 VS20T9257SDCS',\n",
       "  '핸디/스틱청소기 / 핸디+스틱형 / 무선형 / 흡입+걸레겸용 / [성능] 싸이클론 / 인버터모터 / 흡입력: 200W / 소비전력: 550W / [배터리] 분리형 / 리튬이온 (2개) / 충전시간: 3시간30분 / 사용시간: 1시간(개당) / [필터] 헤파필터 / 5단계여과 / [기능] 디스플레이표시창 / 프리볼트 / [구성] 바닥 / 물걸레 / 솔형 / 틈새 / 연장툴 / 거치대 / 청정스테이션 / [부가] 먼지통용량: 0.5L / 알레르기인증(BAF) / 미세먼지인증(SLG) / 색상: 티탄+그레이 / 무게: 2.64kg / 크기(가로x세로x깊이): 250x1123x215mm',\n",
       "  '611890'],\n",
       " ['DIBEA 차이슨 ALLNEW29000',\n",
       "  '핸디/스틱청소기 / 핸디+스틱형 / 무선형 / 흡입+걸레겸용 / [성능] BLDC모터 / 흡입력: 29000Pa / 소비전력: 380W / 분리형 / 용량: 2200mAh / 충전시간: 4시간 / 사용시간: 48분(개당) / [필터] 헤파필터 / H13급 / 4단계여과 / [기능] LED라이트 / 배터리잔량표시 / [구성] 바닥 / 물걸레 / 침구 / 솔형 / 틈새 / 패브릭 / 연장툴 / 거치대 / [부가] 먼지통용량: 0.7L / 색상: 폴라나이트그레이, 미드나이트블랙 / 무게: 2.4kg / UV살균 / 크기(가로x세로x깊이): 255x1150x200mm',\n",
       "  '248000'],\n",
       " ['LG전자 코드제로 ThinQ A9S AS9570',\n",
       "  '핸디/스틱청소기 / 핸디+스틱형 / 무선형 / 흡입+걸레겸용 / [성능] 2중터보싸이클론 / 스마트인버터모터 / 흡입력: 210W / 소비전력: 590W / [배터리] 분리형 / 리튬이온 (2개) / 충전시간: 4시간 / 사용시간: 1시간(개당) / [필터] 헤파필터 / H13급 / 5단계여과 / [기능] 자동물공급 / 배터리잔량표시 / IoT기능 / 자동먼지비움 / [구성] 바닥 / 물걸레 / 침구 / 솔형 / 틈새 / 올인원타워 / [부가] 알레르기인증(BAF) / 색상: 블랙 / 무게: 2.6kg / 분리형배기필터 / 크기(가로x세로x깊이): 250x1120x260mm',\n",
       "  '1054240'],\n",
       " ['', '', 0],\n",
       " ['베이스어스 차량용 청소기 A3 (해외구매)',\n",
       "  '차량용청소기 / 무선 / 흡입력: 15,000Pa / 최대출력: 135W / 헤파필터 / 추가노즐: 틈새, 솔브러쉬 / LED라이트 / 사용시간: 45분 / 배터리 잔량표시 / 소음: 75dB / 충전방식: USB C타입 / 충전시간: 3~5시간 / 색상: 그린, 실버 / 크기: 296x56.5mm',\n",
       "  '46860'],\n",
       " ['다이슨 V15 디텍트 컴플리트',\n",
       "  '핸디/스틱청소기 / 핸디+스틱형 / 무선형 / 흡입전용 / [성능] 루트싸이클론 / 흡입력: 240AW / [배터리] 분리형 / 충전시간: 4시간30분 / 사용시간: 1시간(개당) / [필터] 헤파필터 / [기능] 먼지감지센서 / 디스플레이표시창 / [구성] 하이토크 / 레이저슬림플러피 / 헤어스크류 / 솔형 / 더스팅 / 스터번더트 / 틈새 / 거치대 / 도킹스테이션 / [부가] 먼지통용량: 0.54L / 색상: 옐로우/아이언/니켈 / 무게: 3kg / 크기(가로x세로x깊이): 250x1086x250mm',\n",
       "  '1077220'],\n",
       " ['LG전자 코드제로 ThinQ A9S AS9471',\n",
       "  '핸디/스틱청소기 / 핸디+스틱형 / 무선형 / 흡입+걸레겸용 / [성능] 2중터보싸이클론 / 스마트인버터모터 / 흡입력: 210W / 소비전력: 590W / [배터리] 분리형 / 리튬이온 (2개) / 충전시간: 4시간 / 사용시간: 1시간(개당) / [필터] 헤파필터 / H13급 / 5단계여과 / [기능] 자동물공급 / 배터리잔량표시 / IoT기능 / 자동먼지비움 / [구성] 바닥 / 물걸레 / 솔형 / 틈새 / 올인원타워 / [부가] 알레르기인증(BAF) / 색상: 블랙 / 무게: 2.6kg / 분리형배기필터 / 크기(가로x세로x깊이): 250x1120x260mm',\n",
       "  '971190'],\n",
       " ['휴스톰 듀얼스핀 HS-10000',\n",
       "  '물걸레청소기 / 스틱형 / 회전식 / 무선형 / 배터리: 리튬이온 / 용량: 2750mAh / 충전시간: 2시간30분 / 사용시간: 30분(개당) / [기능] LED라이트 / 가구손상방지 / 각도조절 / 셀프스탠딩 / 배터리잔량표시 / 프리볼트 / [부가] 색상: 블랙 / 무게: 3.7kg / 모터과열방지 / 과충전방지 / 오토스토핑 / 패드: 극세사(벨크로형) / 크기(가로x세로x깊이): 410x1180x205mm',\n",
       "  '141960'],\n",
       " ['샤오미 TROUVER POWER 12',\n",
       "  '핸디/스틱청소기 / 핸디+스틱형 / 무선형 / 흡입전용 / [성능] BLDC모터 / 흡입력: 150AW / 흡입력: 22000Pa / 소비전력: 450W / [배터리] 분리형 / 용량: 2500mAh / 충전시간: 3시간30분 / 사용시간: 1시간(개당) / [필터] 헤파필터 / 5단계여과 / 배터리잔량표시 / [구성] 바닥 / 침구 / 솔형 / 틈새 / 연장툴 / 거치대 / [부가] 먼지통용량: 0.4L / 색상: 실버 / 무게: 1.45kg',\n",
       "  '167420'],\n",
       " ['샤오미 미지아 차량용 핸디 무선 청소기',\n",
       "  '차량용청소기 / 무선 / 흡입력: 13,000Pa / 최대출력: 120W / 헤파필터 / 추가노즐: 틈새, 솔브러쉬 / 사용시간: 9~30분 / 버튼 잠금 장치 / 2단 세기 조절 / 크기: 55x267mm / 무게: 500g',\n",
       "  '42870'],\n",
       " ['LG전자 코드제로 A9 A9100S',\n",
       "  '핸디/스틱청소기 / 핸디+스틱형 / 무선형 / 흡입+걸레겸용 / [성능] 2중터보싸이클론 / 인버터모터 / 흡입력: 140W / 소비전력: 450W / [배터리] 분리형 / 리튬이온 / 충전시간: 3시간30분 / 사용시간: 40분(개당) / [필터] 헤파필터 / H13급 / 5단계여과 / [기능] 배터리잔량표시 / [구성] 바닥 / 솔형 / 틈새 / 거치대 / [부가] 알레르기인증(BAF) / 미세먼지인증(SLG) / 색상: 판타지실버 / 크기(가로x세로x깊이): 250x1120x260mm',\n",
       "  '589440'],\n",
       " ['샤오미 CLEANFLY 차량용 무선 청소기 3세대 (해외구매)',\n",
       "  '차량용청소기 / 무선 / 흡입력: 16,800Pa / 최대출력: 120W / 헤파필터 / 스테인리스 필터 / 추가노즐: 틈새, 솔브러쉬, 연장호스 / 사용시간: 25분 / 크기: 369x72mm / 무게: 560g / 충전방식: USB C타입 / 배터리용량: 2,000mAh',\n",
       "  '53750'],\n",
       " ['삼성전자 제트 VS15R8500BF',\n",
       "  '핸디/스틱청소기 / 핸디+스틱형 / 무선형 / 흡입+걸레겸용 / [성능] 싸이클론 / 인버터모터 / 흡입력: 150W / 소비전력: 410W / [배터리] 분리형 / 리튬이온 / 충전시간: 3시간30분 / 사용시간: 40분(개당) / [필터] 헤파필터 / 5단계여과 / [기능] 디스플레이표시창 / 프리볼트 / [구성] 바닥 / 솔형 / 틈새 / 거치대 / [부가] 먼지통용량: 0.5L / 알레르기인증(BAF) / 미세먼지인증(SLG) / 색상: 틸민트 / 무게: 2.57kg / 크기(가로x세로x깊이): 250x1123x215mm',\n",
       "  '381040'],\n",
       " ['일렉트로룩스 퓨어 Q9 파워프로 PQ92-3BWF',\n",
       "  '핸디/스틱청소기 / 핸디+스틱형 / 무선형 / 흡입전용 / [성능] 싸이클론 / [배터리] 리튬이온 / 충전시간: 4시간 / 사용시간: 53분(개당) / [필터] 5단계여과 / [기능] 셀프스탠딩 / LED라이트 / [구성] 바닥 / 침구 / 솔형 / 더스팅 / 틈새 / 긴틈새 / 거치대 / [부가] 먼지통용량: 0.3L / 색상: 사틴화이트 / 무게: 2.89kg / 크기(가로x세로x깊이): 256x1097x155mm',\n",
       "  '316120'],\n",
       " ['디엠셀파 아크롤 윈드액션 PGA-01 휴대용 무선 에어건',\n",
       "  '차량용청소기 / 무선 / 최대출력: ~60W / LED라이트 / 사용시간: 최대 60분 / 충전시간: 7시간 / 충전방식: USB C타입 / 크기: 189x79x131mm / 무게: 475g',\n",
       "  '69000'],\n",
       " ['한샘 트리플 플러스 HSBC-6000W',\n",
       "  '욕실청소기 / 스틱형 / 무선형 / 소비전력: 30W / [배터리] 용량: 2000mAh / 충전시간: 4시간 / 사용시간: 1시간40분(개당) / [기능] 프리볼트 / [부가] 색상: 화이트 / 완전방수 / 브러쉬: 평면, 틈새, 스크럽',\n",
       "  '68630'],\n",
       " ['샤오미 SWDK-D260',\n",
       "  '물걸레청소기 / 스틱형 / 왕복식 / 무선형 / 배터리: 리튬이온 / 용량: 2000mAh / 충전시간: 3시간 / 사용시간: 50분(개당) / [기능] 물분사 / LED라이트 / 프리볼트 / [부가] 색상: 화이트 / 무게: 2.4kg / 110V / 변환어댑터: 필요',\n",
       "  '67420'],\n",
       " ['오토모 ATM-H100',\n",
       "  '핸디/스틱청소기 / 핸디형 / 무선형 / 흡입전용 / 소비전력: 70W / [배터리] 리튬이온 / 용량: 2200mAh / [필터] 2단계여과 / [구성] 솔형 / [부가] 먼지통용량: 0.12L / 색상: 화이트, 블랙 / 무게: 0.6kg',\n",
       "  '35480'],\n",
       " ['샤오미 드리미 V12',\n",
       "  '핸디/스틱청소기 / 핸디+스틱형 / 무선형 / 흡입+걸레겸용 / [성능] 싸이클론 / 흡입력: 185AW / 흡입력: 27000Pa / 소비전력: 550W / [배터리] 내장형 / 용량: 3000mAh / 충전시간: 4시간 / 사용시간: 1시간30분(개당) / [필터] 5단계여과 / [기능] 디스플레이표시창 / LED라이트 / 배터리잔량표시 / [구성] 바닥 / 물걸레 / 침구 / 솔형 / 틈새 / 연장툴 / 거치대 / [부가] 먼지통용량: 0.5L / 물통용량: 0.25L / 색상: 블랙 / 무게: 1.65kg / 크기(가로x세로): 200x1226mm',\n",
       "  '294300'],\n",
       " ['샤오미 SHUNZAO 차량용 무선청소기 2세대 Z1 PRO (해외구매)',\n",
       "  '차량용청소기 / 무선 / 흡입력: 12,000Pa / 최대출력: 120W / 2중필터 / 추가노즐: 틈새, 솔브러쉬 / LED라이트 / 사용시간: 30분 / 충전시간: 2시간30분 / 충전방식: USB C타입 / 크기: 73x76x336mm / 무게: 610g',\n",
       "  '43410'],\n",
       " ['일렉트로룩스 WELL Q7 WQ71-2OIB',\n",
       "  '핸디/스틱청소기 / 핸디+스틱형 / 무선형 / 흡입전용 / [성능] 싸이클론 / [배터리] 리튬이온 / 충전시간: 4시간30분 / 사용시간: 50분(개당) / [필터] 5단계여과 / [기능] 브러쉬자동청소 / 셀프스탠딩 / LED라이트 / 배터리잔량표시 / [구성] 바닥 / 솔형 / 더스팅 / 틈새 / 거치대 / [부가] 먼지통용량: 0.3L / 색상: 인디고블루 / 무게: 2.8kg / 크기(가로x세로x깊이): 386x692x140mm',\n",
       "  '193330'],\n",
       " ['샤오미 드리미 V9',\n",
       "  '핸디/스틱청소기 / 핸디+스틱형 / 무선형 / [성능] 멀티싸이클론 / BLDC모터 / 흡입력: 120AW / 흡입력: 20000Pa / 소비전력: 400W / [배터리] 용량: 2500mAh / 충전시간: 3시간30분 / 사용시간: 60분(개당) / [필터] 헤파필터 / 5단계여과 / [구성] 바닥 / 침구 / 솔형 / 틈새 / 연장툴 / 거치대 / [부가] 먼지통용량: 0.5L / 색상: 화이트 / 무게: 1.5kg',\n",
       "  '110940'],\n",
       " ['LG전자 코드제로 ThinQ A9S A9300',\n",
       "  '핸디/스틱청소기 / 핸디+스틱형 / 무선형 / 흡입+걸레겸용 / [성능] 2중터보싸이클론 / 인버터모터 / 흡입력: 200W / 소비전력: 590W / [배터리] 분리형 / 리튬이온 / 충전시간: 4시간 / 사용시간: 1시간(개당) / [필터] 헤파필터 / H13급 / 5단계여과 / [기능] 디스플레이표시창 / 배터리잔량표시 / IoT기능 / [구성] 바닥 / 솔형 / 굳은먼지 / 틈새 / 매트리스 / 거치대 / [부가] 미세먼지인증(SLG) / 색상: 아이언그레이 / 크기(가로x세로x깊이): 250x1120x260mm',\n",
       "  '634230'],\n",
       " ['휴스톰 듀얼라이팅 HS-9000',\n",
       "  '물걸레청소기 / 스틱형 / 회전식 / 무선형 / 배터리: 리튬이온 / 용량: 2850mAh / 충전시간: 4시간 / 사용시간: 30분(개당) / [기능] LED라이트 / 가구손상방지 / 각도조절 / 셀프스탠딩 / [부가] 색상: 블랙 / 무게: 3.6kg / 모터과열방지 / 과충전방지 / 오토스토핑 / 패드: 극세사(벨크로형) / 크기(가로x세로x깊이): 410x860x256mm',\n",
       "  '137360'],\n",
       " ['삼성전자 비스포크 슬림 VS15A680AF',\n",
       "  '핸디/스틱청소기 / 스틱형 / 무선형 / 흡입+걸레겸용 / [성능] 싸이클론 / 디지털인버터모터 / 흡입력: 150W / 소비전력: 450W / [배터리] 내장형 / 리튬이온 / 용량: 2200mAh / 충전시간: 4시간 / 사용시간: 50분(개당) / [필터] 5단계여과 / [기능] 셀프스탠딩 / LED라이트 / [구성] 바닥 / 틈새 / [부가] 먼지통용량: 0.3L / 색상: 썬옐로우 / 무게: 2.6kg / 크기(가로x세로x깊이): 250x1143x194mm',\n",
       "  '427360'],\n",
       " ['다이슨 디지털 슬림 플러피+',\n",
       "  '핸디/스틱청소기 / 핸디+스틱형 / 무선형 / 흡입전용 / [성능] 싸이클론 / 흡입력: 100AW / [배터리] 분리형 / 충전시간: 3시간30분 / 사용시간: 40분(개당) / [필터] 5단계여과 / [기능] 디스플레이표시창 / [구성] 슬림소프트롤러 / 미니모터 / 솔형 / 스터번더트 / 틈새 / 매트리스 / 연장툴 / 거치대 / 도킹스테이션 / [부가] 먼지통용량: 0.3L / 색상: 오렌지 / 무게: 1.9kg / 크기(가로x세로x깊이): 250x1100x250mm',\n",
       "  '645940'],\n",
       " ['LG전자 코드제로 ThinQ A9S 펫 AS9571BPKT',\n",
       "  '핸디/스틱청소기 / 핸디+스틱형 / 무선형 / 흡입+걸레겸용 / [성능] 2중터보싸이클론 / 스마트인버터모터 / 흡입력: 210W / 소비전력: 590W / [배터리] 분리형 / 리튬이온 (2개) / 충전시간: 4시간 / 사용시간: 1시간(개당) / [필터] 헤파필터 / H13급 / 5단계여과 / [기능] 자동물공급 / 배터리잔량표시 / IoT기능 / 자동먼지비움 / [구성] 바닥 / 물걸레 / 펫 / 솔형 / 틈새 / 올인원타워 / [부가] 알레르기인증(BAF) / 색상: 딥그레이/블랙 / 무게: 2.6kg / 분리형배기필터 / 크기(가로x세로x깊이): 250x1120x260mm',\n",
       "  '1069000'],\n",
       " ['LG전자 코드제로 ThinQ A9S AS9370IKT',\n",
       "  '핸디/스틱청소기 / 핸디+스틱형 / 무선형 / 흡입+걸레겸용 / [성능] 2중터보싸이클론 / 스마트인버터모터 / 흡입력: 210W / 소비전력: 590W / [배터리] 분리형 / 리튬이온 / 충전시간: 4시간 / 사용시간: 1시간(개당) / [필터] 헤파필터 / H13급 / 5단계여과 / [기능] 자동물공급 / 배터리잔량표시 / IoT기능 / 자동먼지비움 / [구성] 바닥 / 물걸레 / 솔형 / 틈새 / 올인원타워 / [부가] 알레르기인증(BAF) / 색상: 아이언그레이 / 무게: 2.6kg / 크기(가로x세로x깊이): 250x1120x260mm',\n",
       "  '967050'],\n",
       " ['리하스 차량용 미니 무선 청소기 TEB-4120',\n",
       "  '차량용청소기 / 무선 / 흡입력: 15,000Pa / 최대출력: 120W / 헤파필터 / 스테인리스 필터 / 추가노즐: 틈새, 솔브러쉬, 연장호스 / 사용시간: 15~28분 / 충전시간: 4~5시간 / 색상: 블랙, 스카이블루, 화이트 / 크기: 415mm / 무게: 520g',\n",
       "  '79900']]"
      ]
     },
     "execution_count": 13,
     "metadata": {},
     "output_type": "execute_result"
    }
   ],
   "source": [
    "# 상품 정보를 가져오는 함수 테스트\n",
    "\n",
    "prod_items = soup.select('div.main_prodlist > ul.product_list > li.prod_item')\n",
    "prod_data = get_prod_items(prod_items)\n",
    "print(len(prod_data))\n",
    "prod_data"
   ]
  },
  {
   "cell_type": "markdown",
   "metadata": {},
   "source": [
    "# 2. 데이터 수집 2 - 여러 페이지\n",
    "\n",
    "## 다나와 검색 결과 페이지 URL 분석"
   ]
  },
  {
   "cell_type": "code",
   "execution_count": 14,
   "metadata": {},
   "outputs": [
    {
     "name": "stdout",
     "output_type": "stream",
     "text": [
      "http://search.danawa.com/dsearch.php?query=무선청소기&volumeType=allvs&page=1&limit=40&sort=saveDESC&list=list&boost=true&addDelivery=N&tab=goods\n"
     ]
    }
   ],
   "source": [
    "# 다나와 검색 URL을 만들어주는 함수\n",
    "def get_search_page_url(keyword, page):\n",
    "    return 'http://search.danawa.com/dsearch.php?query={}&volumeType=allvs&page={}&limit=40&sort=saveDESC&list=list&boost=true&addDelivery=N&tab=goods'.format(keyword, page)\n",
    "\n",
    "keyword = '무선청소기'\n",
    "page = 1\n",
    "url = get_search_page_url(keyword, page)\n",
    "print(url)"
   ]
  },
  {
   "cell_type": "markdown",
   "metadata": {},
   "source": [
    "## 여러 페이지에 걸친 상품 정보 수집"
   ]
  },
  {
   "cell_type": "code",
   "execution_count": null,
   "metadata": {},
   "outputs": [
    {
     "name": "stderr",
     "output_type": "stream",
     "text": [
      "<ipython-input-15-9682496e6669>:14: TqdmDeprecationWarning: This function will be removed in tqdm==5.0.0\n",
      "Please use `tqdm.notebook.tqdm` instead of `tqdm.tqdm_notebook`\n",
      "  for page in tqdm_notebook(range(1, total_page + 1)):\n"
     ]
    },
    {
     "data": {
      "application/vnd.jupyter.widget-view+json": {
       "model_id": "29015ab38c08407883577ec82a7b73a0",
       "version_major": 2,
       "version_minor": 0
      },
      "text/plain": [
       "  0%|          | 0/10 [00:00<?, ?it/s]"
      ]
     },
     "metadata": {},
     "output_type": "display_data"
    }
   ],
   "source": [
    "# 실전 다나와 크롤링\n",
    "from selenium import webdriver\n",
    "import time\n",
    "from tqdm import tqdm_notebook\n",
    "from bs4 import BeautifulSoup\n",
    "\n",
    "driver = webdriver.Chrome('../driver/chromedriver.exe')\n",
    "driver.implicitly_wait(3)\n",
    "\n",
    "keyword = '무선청소기'\n",
    "total_page = 10\n",
    "prod_data_total = []\n",
    "\n",
    "for page in tqdm_notebook(range(1, total_page + 1)):\n",
    "    url = get_search_page_url(keyword, page)\n",
    "    driver.get(url)\n",
    "    time.sleep(5)\n",
    "    html = driver.page_source\n",
    "    soup = BeautifulSoup(html, 'html.parser')\n",
    "    \n",
    "    #상품 정보 추출\n",
    "    prod_items = soup.select('div#productListArea > div.main_prodlist > ul.product_list > li.prod_item')\n",
    "    prod_item_list = get_prod_items(prod_items)\n",
    "    \n",
    "    # 추출 데이터 저장\n",
    "    prod_data_total = prod_data_total + prod_item_list\n",
    "    "
   ]
  },
  {
   "cell_type": "markdown",
   "metadata": {},
   "source": [
    "## 수집 데이터 저장"
   ]
  },
  {
   "cell_type": "code",
   "execution_count": 18,
   "metadata": {},
   "outputs": [],
   "source": [
    "# 데이터 저장\n",
    "import pandas as pd\n",
    "data = pd.DataFrame(prod_data_total)\n",
    "data.columns = ['상품명', '스펙 목록', '가격']\n",
    "data.to_excel('../data/11_danawa_crawling_result.xlsx', index = False)"
   ]
  },
  {
   "cell_type": "markdown",
   "metadata": {},
   "source": [
    "# 다나와 크롤링 데이터 불러오기"
   ]
  },
  {
   "cell_type": "code",
   "execution_count": 19,
   "metadata": {},
   "outputs": [
    {
     "name": "stdout",
     "output_type": "stream",
     "text": [
      "<class 'pandas.core.frame.DataFrame'>\n",
      "RangeIndex: 300 entries, 0 to 299\n",
      "Data columns (total 3 columns):\n",
      " #   Column  Non-Null Count  Dtype \n",
      "---  ------  --------------  ----- \n",
      " 0   상품명     300 non-null    object\n",
      " 1   스펙 목록   300 non-null    object\n",
      " 2   가격      300 non-null    int64 \n",
      "dtypes: int64(1), object(2)\n",
      "memory usage: 7.2+ KB\n"
     ]
    },
    {
     "data": {
      "text/html": [
       "<div>\n",
       "<style scoped>\n",
       "    .dataframe tbody tr th:only-of-type {\n",
       "        vertical-align: middle;\n",
       "    }\n",
       "\n",
       "    .dataframe tbody tr th {\n",
       "        vertical-align: top;\n",
       "    }\n",
       "\n",
       "    .dataframe thead th {\n",
       "        text-align: right;\n",
       "    }\n",
       "</style>\n",
       "<table border=\"1\" class=\"dataframe\">\n",
       "  <thead>\n",
       "    <tr style=\"text-align: right;\">\n",
       "      <th></th>\n",
       "      <th>상품명</th>\n",
       "      <th>스펙 목록</th>\n",
       "      <th>가격</th>\n",
       "    </tr>\n",
       "  </thead>\n",
       "  <tbody>\n",
       "    <tr>\n",
       "      <th>0</th>\n",
       "      <td>샤오미 드리미 V10</td>\n",
       "      <td>핸디/스틱청소기 / 핸디+스틱형 / 무선형 / 전압: 25.2V / 헤파필터 / H...</td>\n",
       "      <td>173900</td>\n",
       "    </tr>\n",
       "    <tr>\n",
       "      <th>1</th>\n",
       "      <td>원더스리빙 다이나킹 Z9</td>\n",
       "      <td>핸디/스틱청소기 / 핸디+스틱형 / 무선형 / 전압: 28.8V / 헤파필터 / 듀...</td>\n",
       "      <td>299000</td>\n",
       "    </tr>\n",
       "    <tr>\n",
       "      <th>2</th>\n",
       "      <td>LG전자 코드제로 A9 A978</td>\n",
       "      <td>핸디/스틱청소기 / 핸디+스틱형 / 무선형 / 헤파필터 / 2중터보싸이클론 / 5단...</td>\n",
       "      <td>1005340</td>\n",
       "    </tr>\n",
       "    <tr>\n",
       "      <th>3</th>\n",
       "      <td>샤오미 SHUNZAO 차량용 무선청소기 2세대 Z1 PRO (해외구매)</td>\n",
       "      <td>차량용청소기 / 무선 / 흡입력: 12,000Pa / 최대출력: 120W / 2중필...</td>\n",
       "      <td>48570</td>\n",
       "    </tr>\n",
       "    <tr>\n",
       "      <th>4</th>\n",
       "      <td>델로라 V11 파워 300W</td>\n",
       "      <td>핸디/스틱청소기 / 핸디+스틱형 / 무선형 / 전압: 29.6V / 헤파필터 / 싸...</td>\n",
       "      <td>141000</td>\n",
       "    </tr>\n",
       "  </tbody>\n",
       "</table>\n",
       "</div>"
      ],
      "text/plain": [
       "                                       상품명  \\\n",
       "0                              샤오미 드리미 V10   \n",
       "1                            원더스리빙 다이나킹 Z9   \n",
       "2                        LG전자 코드제로 A9 A978   \n",
       "3  샤오미 SHUNZAO 차량용 무선청소기 2세대 Z1 PRO (해외구매)   \n",
       "4                          델로라 V11 파워 300W   \n",
       "\n",
       "                                               스펙 목록       가격  \n",
       "0  핸디/스틱청소기 / 핸디+스틱형 / 무선형 / 전압: 25.2V / 헤파필터 / H...   173900  \n",
       "1  핸디/스틱청소기 / 핸디+스틱형 / 무선형 / 전압: 28.8V / 헤파필터 / 듀...   299000  \n",
       "2  핸디/스틱청소기 / 핸디+스틱형 / 무선형 / 헤파필터 / 2중터보싸이클론 / 5단...  1005340  \n",
       "3  차량용청소기 / 무선 / 흡입력: 12,000Pa / 최대출력: 120W / 2중필...    48570  \n",
       "4  핸디/스틱청소기 / 핸디+스틱형 / 무선형 / 전압: 29.6V / 헤파필터 / 싸...   141000  "
      ]
     },
     "execution_count": 19,
     "metadata": {},
     "output_type": "execute_result"
    }
   ],
   "source": [
    "# 다나와 크롤링 결과 가져오기\n",
    "data= pd.read_excel('../data/1_danawa_crawling_result.xlsx')\n",
    "data.info()\n",
    "data.head()"
   ]
  },
  {
   "cell_type": "code",
   "execution_count": 20,
   "metadata": {},
   "outputs": [
    {
     "data": {
      "text/plain": [
       "0                                샤오미 드리미 V10\n",
       "1                              원더스리빙 다이나킹 Z9\n",
       "2                          LG전자 코드제로 A9 A978\n",
       "3    샤오미 SHUNZAO 차량용 무선청소기 2세대 Z1 PRO (해외구매)\n",
       "4                            델로라 V11 파워 300W\n",
       "5                                 샤오미 드리미 V9\n",
       "6                          카렉스 파워스톰 미니 무선청소기\n",
       "7                        삼성전자 제트 VS20R9078S2\n",
       "8                       다이슨 V11 220 에어와트 CF+\n",
       "9                            일렉트로룩스 ZB3302AK\n",
       "Name: 상품명, dtype: object"
      ]
     },
     "execution_count": 20,
     "metadata": {},
     "output_type": "execute_result"
    }
   ],
   "source": [
    "# 브랜드 모델명이 공백으로 구분\n",
    "data['상품명'][:10]"
   ]
  },
  {
   "cell_type": "code",
   "execution_count": 21,
   "metadata": {},
   "outputs": [
    {
     "data": {
      "text/plain": [
       "['LG전자', '코드제로 A9 A978']"
      ]
     },
     "execution_count": 21,
     "metadata": {},
     "output_type": "execute_result"
    }
   ],
   "source": [
    "title = 'LG전자 코드제로 A9 A978'\n",
    "info = title.split(' ', 1)\n",
    "info"
   ]
  },
  {
   "cell_type": "markdown",
   "metadata": {},
   "source": [
    "# 회사명, 모델명 정리"
   ]
  },
  {
   "cell_type": "code",
   "execution_count": 22,
   "metadata": {},
   "outputs": [],
   "source": [
    "# 회사명 + 모델명 분리\n",
    "company_list = []\n",
    "product_list = []\n",
    "\n",
    "for title in data['상품명']:\n",
    "    title_info = title.split(' ', 1)\n",
    "    company_name = title_info[0]\n",
    "    product_name = title_info[1]\n",
    "    company_list.append(company_name)\n",
    "    product_list.append(product_name)\n",
    "    \n",
    "    "
   ]
  },
  {
   "cell_type": "code",
   "execution_count": 23,
   "metadata": {},
   "outputs": [
    {
     "name": "stdout",
     "output_type": "stream",
     "text": [
      "300\n",
      "300\n",
      "['샤오미', '원더스리빙', 'LG전자', '샤오미', '델로라']\n",
      "300\n",
      "['드리미 V10', '다이나킹 Z9', '코드제로 A9 A978', 'SHUNZAO 차량용 무선청소기 2세대 Z1 PRO (해외구매)', 'V11 파워 300W']\n"
     ]
    }
   ],
   "source": [
    "print(len(data))\n",
    "print(len(company_list))\n",
    "print(company_list[:5])\n",
    "print(len(product_list))\n",
    "print(product_list[:5])"
   ]
  },
  {
   "cell_type": "markdown",
   "metadata": {},
   "source": [
    "# 스펙 목록에서 카테고리, 사용시간, 흡입력을 추출해서 정리"
   ]
  },
  {
   "cell_type": "code",
   "execution_count": 26,
   "metadata": {},
   "outputs": [
    {
     "data": {
      "text/plain": [
       "0    핸디/스틱청소기 / 핸디+스틱형 / 무선형 / 전압: 25.2V / 헤파필터 / H...\n",
       "1    핸디/스틱청소기 / 핸디+스틱형 / 무선형 / 전압: 28.8V / 헤파필터 / 듀...\n",
       "2    핸디/스틱청소기 / 핸디+스틱형 / 무선형 / 헤파필터 / 2중터보싸이클론 / 5단...\n",
       "3    차량용청소기 / 무선 / 흡입력: 12,000Pa / 최대출력: 120W / 2중필...\n",
       "4    핸디/스틱청소기 / 핸디+스틱형 / 무선형 / 전압: 29.6V / 헤파필터 / 싸...\n",
       "5    핸디/스틱청소기 / 핸디+스틱형 / 무선형 / 전압: 25.2V / 헤파필터 / 싸...\n",
       "6    차량용청소기 / 무선 / 흡입력: 12,000Pa / 2중필터 / 헤파필터 / 추가...\n",
       "7    핸디/스틱청소기 / 핸디+스틱형 / 무선형 / 전압: 21.9V / 헤파필터 / 싸...\n",
       "8    핸디/스틱청소기 / 핸디+스틱형 / 무선형 / 싸이클론 / 6단계여과 / 흡입력: ...\n",
       "9    핸디/스틱청소기 / 핸디+스틱형 / 무선형 / 전압: 14.4V / 4단계여과 / ...\n",
       "Name: 스펙 목록, dtype: object"
      ]
     },
     "execution_count": 26,
     "metadata": {},
     "output_type": "execute_result"
    }
   ],
   "source": [
    "data['스펙 목록'][:10]"
   ]
  },
  {
   "cell_type": "code",
   "execution_count": 25,
   "metadata": {},
   "outputs": [
    {
     "data": {
      "text/plain": [
       "['핸디/스틱청소기',\n",
       " '핸디+스틱형',\n",
       " '무선형',\n",
       " '전압: 25.2V',\n",
       " '헤파필터',\n",
       " 'H12급',\n",
       " '5단계여과',\n",
       " '흡입력: 140AW',\n",
       " '흡입력: 22000Pa',\n",
       " '먼지통용량: 0.5L',\n",
       " '충전시간: 3시간30분',\n",
       " '사용시간: 1시간',\n",
       " '용량: 2500mAh',\n",
       " '브러쉬: 바닥, 솔형, 틈새, 침구, 연장관',\n",
       " '거치대',\n",
       " '무게: 1.5kg',\n",
       " '색상:화이트',\n",
       " '소비전력: 450W']"
      ]
     },
     "execution_count": 25,
     "metadata": {},
     "output_type": "execute_result"
    }
   ],
   "source": [
    "# 첫 번째 제품의 스펙 목록 분리\n",
    "spec_list = data['스펙 목록'][0].split(' / ')\n",
    "spec_list"
   ]
  },
  {
   "cell_type": "code",
   "execution_count": 29,
   "metadata": {},
   "outputs": [
    {
     "data": {
      "text/plain": [
       "'핸디/스틱청소기'"
      ]
     },
     "execution_count": 29,
     "metadata": {},
     "output_type": "execute_result"
    }
   ],
   "source": [
    "# 카테고리 정보 추출\n",
    "category = spec_list[0]\n",
    "category"
   ]
  },
  {
   "cell_type": "code",
   "execution_count": 30,
   "metadata": {},
   "outputs": [
    {
     "name": "stdout",
     "output_type": "stream",
     "text": [
      "사용시간: 1시간\n",
      "흡입력: 22000Pa\n"
     ]
    }
   ],
   "source": [
    "# '사용시간', ' 흡입력'이 포함된 원소 추출\n",
    "for spec in spec_list:\n",
    "    if '사용시간' in spec:\n",
    "        use_time_spec = spec\n",
    "    elif '흡입력' in spec:\n",
    "        suction_spec = spec\n",
    "\n",
    "print(use_time_spec)\n",
    "print(suction_spec)"
   ]
  },
  {
   "cell_type": "code",
   "execution_count": 31,
   "metadata": {},
   "outputs": [
    {
     "name": "stdout",
     "output_type": "stream",
     "text": [
      "1시간\n",
      "22000Pa\n"
     ]
    }
   ],
   "source": [
    "# 정량적인 수치 추출\n",
    "use_time_value = use_time_spec.split(' ')[1].strip()\n",
    "suction_value = suction_spec.split(' ')[1].strip()\n",
    "print(use_time_value)\n",
    "print(suction_value)"
   ]
  },
  {
   "cell_type": "code",
   "execution_count": 56,
   "metadata": {},
   "outputs": [
    {
     "name": "stdout",
     "output_type": "stream",
     "text": [
      "카테고리 300 ['핸디/스틱청소기', '핸디/스틱청소기', '핸디/스틱청소기', '차량용청소기', '핸디/스틱청소기']\n",
      "사용시간 300 ['1시간', '1시간5분', '80분', '30분', '1시간10분']\n",
      "흡입력 300 ['22000Pa', '22000Pa', '140W', '12,000Pa', '22000Pa']\n"
     ]
    }
   ],
   "source": [
    "# 카테고리, 사용시간, 흡입력 추출\n",
    "category_list = []\n",
    "use_time_list = []\n",
    "suction_list = []\n",
    "\n",
    "for spec_data in data['스펙 목록']:\n",
    "    spec_list = spec_data.split(' / ')\n",
    "    \n",
    "    #카테고리 추출\n",
    "    category = spec_list[0]\n",
    "    category_list.append(category)\n",
    "    \n",
    "    #사용시간, 흡입력 추출\n",
    "    use_time_value = None\n",
    "    suction_value = None\n",
    "    \n",
    "    #spec_list의 각각에서 사용시간, 흡입력 수치 추출\n",
    "    for spec in spec_list:\n",
    "        if '사용시간' in spec:\n",
    "            use_time_value = spec.split(' ')[1].strip()\n",
    "        elif '흡입력' in spec:\n",
    "            suction_value = spec.split(' ')[1].strip()\n",
    "            \n",
    "            \n",
    "    use_time_list.append(use_time_value)\n",
    "    suction_list.append(suction_value)\n",
    "\n",
    "print('카테고리', len(category_list), category_list[0:5])\n",
    "print('사용시간', len(use_time_list), use_time_list[0:5])\n",
    "print('흡입력', len(suction_list), suction_list[0:5])"
   ]
  },
  {
   "cell_type": "markdown",
   "metadata": {},
   "source": [
    "# 무선청소기 사용시간 단위 통일시키기"
   ]
  },
  {
   "cell_type": "code",
   "execution_count": 57,
   "metadata": {},
   "outputs": [],
   "source": [
    "# 사용시간을 분 단위로 조정하는 함수\n",
    "\n",
    "def convert_time_minute(time):\n",
    "    try:\n",
    "        if '시간' in time:\n",
    "            hour = time.split('시간')[0]\n",
    "            if '분' in time:\n",
    "                minute = time.split('시간')[-1].split('분')[0]\n",
    "            else:\n",
    "                minute = 0\n",
    "        else :\n",
    "            hour = 0\n",
    "            minute = time.split('분')[0]\n",
    "            \n",
    "        return int(hour)*60 + int(minute)\n",
    "    except:\n",
    "        return None"
   ]
  },
  {
   "cell_type": "code",
   "execution_count": 58,
   "metadata": {},
   "outputs": [
    {
     "name": "stdout",
     "output_type": "stream",
     "text": [
      "40분 = 40\n",
      "4분 = 4\n",
      "1시간 = 60\n",
      "3시간 30분 = 210\n",
      "4시간 = 240\n"
     ]
    }
   ],
   "source": [
    "# 사용시간을 분 단위로 조정하는 함수 - 테스트\n",
    "times = ['40분', '4분', '1시간', '3시간 30분', '4시간']\n",
    "for time in times:\n",
    "    time_value = convert_time_minute(time)\n",
    "    print(time, '=', time_value)"
   ]
  },
  {
   "cell_type": "code",
   "execution_count": 59,
   "metadata": {},
   "outputs": [
    {
     "data": {
      "text/plain": [
       "'30'"
      ]
     },
     "execution_count": 59,
     "metadata": {},
     "output_type": "execute_result"
    }
   ],
   "source": [
    "time = \"4시간30분\"\n",
    "minute = time.split('시간')[-1].split('분')[0]\n",
    "minute"
   ]
  },
  {
   "cell_type": "code",
   "execution_count": 60,
   "metadata": {},
   "outputs": [
    {
     "data": {
      "text/plain": [
       "['1시간', '1시간5분', '80분', '30분', '1시간10분', '60분', '17분', '120분', '60분', '42분']"
      ]
     },
     "execution_count": 60,
     "metadata": {},
     "output_type": "execute_result"
    }
   ],
   "source": [
    "use_time_list[:10]"
   ]
  },
  {
   "cell_type": "code",
   "execution_count": 61,
   "metadata": {},
   "outputs": [
    {
     "name": "stdout",
     "output_type": "stream",
     "text": [
      "300\n",
      "[60, 65, 80, 30, 70, 60, 17, 120, 60, 42]\n"
     ]
    }
   ],
   "source": [
    "# 모델별 사용시간을 단위로 통일하기\n",
    "new_use_time_list = []\n",
    "for time in use_time_list:\n",
    "    value = convert_time_minute(time)\n",
    "    new_use_time_list.append(value)\n",
    "    \n",
    "print(len(new_use_time_list))\n",
    "print(new_use_time_list[0:10])"
   ]
  },
  {
   "cell_type": "markdown",
   "metadata": {},
   "source": [
    "# 무선 청소기 흡입력 단위 통일시키기"
   ]
  },
  {
   "cell_type": "code",
   "execution_count": 62,
   "metadata": {},
   "outputs": [],
   "source": [
    "# 흡입력 단위를 통일시키는 함수\n",
    "# 흡입력 = AW, W, PA(0.01AW)\n",
    "def get_suction(value):\n",
    "    try:\n",
    "        value = value.upper()\n",
    "        if \"AW\" in value or \"W\" in value:\n",
    "            result = value.replace(\"A\", \"\").replace(\"W\",\"\") # A, W 삭제\n",
    "            result = int(result.replace(\",\",\"\")) # , 삭제\n",
    "        elif \"PA\" in value:\n",
    "            result = value.replace(\"PA\", \"\") #PA 삭제\n",
    "            result = int(result.replace(\",\", \"\"))/100 # 단위가 PA면 삭제 후 100으로 나눔\n",
    "        else:\n",
    "            result = None\n",
    "        return result\n",
    "    \n",
    "    except: # 흡입력 값이 비어있거나 변환시 에러가 나면 예외\n",
    "        return None\n",
    "        "
   ]
  },
  {
   "cell_type": "code",
   "execution_count": 64,
   "metadata": {},
   "outputs": [
    {
     "name": "stdout",
     "output_type": "stream",
     "text": [
      "100W 100\n",
      "10AW 10\n",
      "10,0000pa 1000.0\n"
     ]
    }
   ],
   "source": [
    "# 흡입력 단위 통일 - 함수 테스트\n",
    "suction_list1 = ['100W', '10AW', '10,0000pa']\n",
    "for power in suction_list1:\n",
    "    value = get_suction(power)\n",
    "    print(power, value)"
   ]
  },
  {
   "cell_type": "code",
   "execution_count": 65,
   "metadata": {},
   "outputs": [
    {
     "name": "stdout",
     "output_type": "stream",
     "text": [
      "300\n",
      "[220.0, 220.0, 140, 120.0, 220.0, 200.0, 120.0, 200, 220, None]\n"
     ]
    }
   ],
   "source": [
    "# 흡입력 단위 통일시키기\n",
    "new_suction_list = []\n",
    "for power in suction_list:\n",
    "    value = get_suction(power)\n",
    "    new_suction_list.append(value)\n",
    "\n",
    "print(len(new_suction_list))\n",
    "print(new_suction_list[0:10])"
   ]
  },
  {
   "cell_type": "markdown",
   "metadata": {},
   "source": [
    "# 다나와 전처리 결과를 엑셀로 저장"
   ]
  },
  {
   "cell_type": "code",
   "execution_count": 66,
   "metadata": {},
   "outputs": [
    {
     "data": {
      "text/html": [
       "<div>\n",
       "<style scoped>\n",
       "    .dataframe tbody tr th:only-of-type {\n",
       "        vertical-align: middle;\n",
       "    }\n",
       "\n",
       "    .dataframe tbody tr th {\n",
       "        vertical-align: top;\n",
       "    }\n",
       "\n",
       "    .dataframe thead th {\n",
       "        text-align: right;\n",
       "    }\n",
       "</style>\n",
       "<table border=\"1\" class=\"dataframe\">\n",
       "  <thead>\n",
       "    <tr style=\"text-align: right;\">\n",
       "      <th></th>\n",
       "      <th>카테고리</th>\n",
       "      <th>회사명</th>\n",
       "      <th>제품</th>\n",
       "      <th>가격</th>\n",
       "      <th>사용시간</th>\n",
       "      <th>흡입력</th>\n",
       "    </tr>\n",
       "  </thead>\n",
       "  <tbody>\n",
       "    <tr>\n",
       "      <th>0</th>\n",
       "      <td>핸디/스틱청소기</td>\n",
       "      <td>샤오미</td>\n",
       "      <td>드리미 V10</td>\n",
       "      <td>173900</td>\n",
       "      <td>60.0</td>\n",
       "      <td>220.0</td>\n",
       "    </tr>\n",
       "    <tr>\n",
       "      <th>1</th>\n",
       "      <td>핸디/스틱청소기</td>\n",
       "      <td>원더스리빙</td>\n",
       "      <td>다이나킹 Z9</td>\n",
       "      <td>299000</td>\n",
       "      <td>65.0</td>\n",
       "      <td>220.0</td>\n",
       "    </tr>\n",
       "    <tr>\n",
       "      <th>2</th>\n",
       "      <td>핸디/스틱청소기</td>\n",
       "      <td>LG전자</td>\n",
       "      <td>코드제로 A9 A978</td>\n",
       "      <td>1005340</td>\n",
       "      <td>80.0</td>\n",
       "      <td>140.0</td>\n",
       "    </tr>\n",
       "    <tr>\n",
       "      <th>3</th>\n",
       "      <td>차량용청소기</td>\n",
       "      <td>샤오미</td>\n",
       "      <td>SHUNZAO 차량용 무선청소기 2세대 Z1 PRO (해외구매)</td>\n",
       "      <td>48570</td>\n",
       "      <td>30.0</td>\n",
       "      <td>120.0</td>\n",
       "    </tr>\n",
       "    <tr>\n",
       "      <th>4</th>\n",
       "      <td>핸디/스틱청소기</td>\n",
       "      <td>델로라</td>\n",
       "      <td>V11 파워 300W</td>\n",
       "      <td>141000</td>\n",
       "      <td>70.0</td>\n",
       "      <td>220.0</td>\n",
       "    </tr>\n",
       "  </tbody>\n",
       "</table>\n",
       "</div>"
      ],
      "text/plain": [
       "       카테고리    회사명                                   제품       가격  사용시간    흡입력\n",
       "0  핸디/스틱청소기    샤오미                              드리미 V10   173900  60.0  220.0\n",
       "1  핸디/스틱청소기  원더스리빙                              다이나킹 Z9   299000  65.0  220.0\n",
       "2  핸디/스틱청소기   LG전자                         코드제로 A9 A978  1005340  80.0  140.0\n",
       "3    차량용청소기    샤오미  SHUNZAO 차량용 무선청소기 2세대 Z1 PRO (해외구매)    48570  30.0  120.0\n",
       "4  핸디/스틱청소기    델로라                          V11 파워 300W   141000  70.0  220.0"
      ]
     },
     "execution_count": 66,
     "metadata": {},
     "output_type": "execute_result"
    }
   ],
   "source": [
    "pd_data = pd.DataFrame()\n",
    "pd_data['카테고리'] = category_list\n",
    "pd_data['회사명'] = company_list\n",
    "pd_data['제품'] = product_list\n",
    "pd_data['가격'] = data['가격']\n",
    "pd_data['사용시간'] = new_use_time_list\n",
    "pd_data['흡입력'] = new_suction_list\n",
    "pd_data.head()"
   ]
  },
  {
   "cell_type": "code",
   "execution_count": 67,
   "metadata": {},
   "outputs": [
    {
     "data": {
      "text/plain": [
       "핸디/스틱청소기    241\n",
       "물걸레청소기       39\n",
       "차량용청소기       13\n",
       "침구청소기         5\n",
       "업소용청소기        1\n",
       "진공청소기         1\n",
       "Name: 카테고리, dtype: int64"
      ]
     },
     "execution_count": 67,
     "metadata": {},
     "output_type": "execute_result"
    }
   ],
   "source": [
    "pd_data['카테고리'].value_counts()"
   ]
  },
  {
   "cell_type": "code",
   "execution_count": 71,
   "metadata": {},
   "outputs": [
    {
     "data": {
      "text/plain": [
       "241"
      ]
     },
     "execution_count": 71,
     "metadata": {},
     "output_type": "execute_result"
    }
   ],
   "source": [
    "# 핸디/스틱청소기만 선택\n",
    "pd_data_final = pd_data[pd_data['카테고리'].isin(['핸디/스틱청소기'])]\n",
    "len(pd_data_final)"
   ]
  },
  {
   "cell_type": "code",
   "execution_count": 72,
   "metadata": {},
   "outputs": [],
   "source": [
    "# 저장\n",
    "pd_data_final.to_excel('../data/22_danawa_data_final.xlsx', index = False)"
   ]
  },
  {
   "cell_type": "markdown",
   "metadata": {},
   "source": []
  }
 ],
 "metadata": {
  "kernelspec": {
   "display_name": "Python 3",
   "language": "python",
   "name": "python3"
  },
  "language_info": {
   "codemirror_mode": {
    "name": "ipython",
    "version": 3
   },
   "file_extension": ".py",
   "mimetype": "text/x-python",
   "name": "python",
   "nbconvert_exporter": "python",
   "pygments_lexer": "ipython3",
   "version": "3.8.8"
  }
 },
 "nbformat": 4,
 "nbformat_minor": 2
}
