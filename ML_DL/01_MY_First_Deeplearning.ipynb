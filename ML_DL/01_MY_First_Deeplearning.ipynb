{
 "cells": [
  {
   "cell_type": "code",
   "execution_count": 1,
   "metadata": {},
   "outputs": [
    {
     "name": "stdout",
     "output_type": "stream",
     "text": [
      "2.0.0\n"
     ]
    },
    {
     "name": "stderr",
     "output_type": "stream",
     "text": [
      "Using TensorFlow backend.\n"
     ]
    }
   ],
   "source": [
    "import tensorflow as tf\n",
    "print(tf.__version__)\n",
    "import keras"
   ]
  },
  {
   "cell_type": "code",
   "execution_count": 1,
   "metadata": {},
   "outputs": [],
   "source": [
    "from tensorflow.keras.models import Sequential\n",
    "from tensorflow.keras.layers import Dense\n",
    "import numpy as np\n",
    "import tensorflow as tf"
   ]
  },
  {
   "cell_type": "code",
   "execution_count": 2,
   "metadata": {},
   "outputs": [],
   "source": [
    "# 실행할 때마다 같은 결과를 출력하기 위한 설정\n",
    "np.random.seed(3)\n",
    "tf.random.set_seed(3)\n",
    "Data_set = np.loadtxt('../data/ThoraricSurgery.csv', delimiter=\",\")\n",
    "\n",
    "# 환자의 기록과 수술 결과를 X와  Y로 구분하여 저장\n",
    "X = Data_set[:, 0:17] # 솏성 데이터셋 생성\n",
    "Y = Data_set[:, 17] # 클래스 테이터셋 생성"
   ]
  },
  {
   "cell_type": "markdown",
   "metadata": {},
   "source": [
    "1) 인공신경망 모델을 만듬\n",
    "\n",
    "model = Sequential()\n",
    "\n",
    "2) 멤버 함수 add()를 이용해 인공지능 계층 추가\n",
    "\n",
    "model.add(dense(30, input_dim=17, activation='relu'))\n",
    "\n",
    "3) 만든 모델을 어떻게 학습할지 파라미터로 지정하고 컴파일 합니다.\n",
    "\n",
    "model.compile(loss='binary_crossentropy', optimizer='adam', metrics=['accuracy'])\n",
    "\n",
    "4) 모델을 주어진 데이터로 학습\n",
    "\n",
    "model.fit"
   ]
  },
  {
   "cell_type": "code",
   "execution_count": 5,
   "metadata": {},
   "outputs": [
    {
     "name": "stdout",
     "output_type": "stream",
     "text": [
      "Train on 470 samples\n",
      "Epoch 1/100\n",
      "470/470 [==============================] - 1s 1ms/sample - loss: 0.6902 - accuracy: 0.8106\n",
      "Epoch 2/100\n",
      "470/470 [==============================] - 0s 82us/sample - loss: 0.4568 - accuracy: 0.8511\n",
      "Epoch 3/100\n",
      "470/470 [==============================] - 0s 83us/sample - loss: 0.4714 - accuracy: 0.8447\n",
      "Epoch 4/100\n",
      "470/470 [==============================] - 0s 85us/sample - loss: 0.4609 - accuracy: 0.8447\n",
      "Epoch 5/100\n",
      "470/470 [==============================] - 0s 89us/sample - loss: 0.4535 - accuracy: 0.8511\n",
      "Epoch 6/100\n",
      "470/470 [==============================] - 0s 91us/sample - loss: 0.4576 - accuracy: 0.8532\n",
      "Epoch 7/100\n",
      "470/470 [==============================] - 0s 83us/sample - loss: 0.4410 - accuracy: 0.8511\n",
      "Epoch 8/100\n",
      "470/470 [==============================] - 0s 85us/sample - loss: 0.4306 - accuracy: 0.8511\n",
      "Epoch 9/100\n",
      "470/470 [==============================] - 0s 100us/sample - loss: 0.4469 - accuracy: 0.8511\n",
      "Epoch 10/100\n",
      "470/470 [==============================] - 0s 142us/sample - loss: 0.4728 - accuracy: 0.8511\n",
      "Epoch 11/100\n",
      "470/470 [==============================] - 0s 146us/sample - loss: 0.4635 - accuracy: 0.8447\n",
      "Epoch 12/100\n",
      "470/470 [==============================] - 0s 104us/sample - loss: 0.4244 - accuracy: 0.8489\n",
      "Epoch 13/100\n",
      "470/470 [==============================] - 0s 93us/sample - loss: 0.4443 - accuracy: 0.8511\n",
      "Epoch 14/100\n",
      "470/470 [==============================] - 0s 98us/sample - loss: 0.4715 - accuracy: 0.8319\n",
      "Epoch 15/100\n",
      "470/470 [==============================] - 0s 81us/sample - loss: 0.4771 - accuracy: 0.8383\n",
      "Epoch 16/100\n",
      "470/470 [==============================] - 0s 93us/sample - loss: 0.4497 - accuracy: 0.8532\n",
      "Epoch 17/100\n",
      "470/470 [==============================] - 0s 76us/sample - loss: 0.4236 - accuracy: 0.8511\n",
      "Epoch 18/100\n",
      "470/470 [==============================] - 0s 76us/sample - loss: 0.4229 - accuracy: 0.8468\n",
      "Epoch 19/100\n",
      "470/470 [==============================] - 0s 87us/sample - loss: 0.4997 - accuracy: 0.8191\n",
      "Epoch 20/100\n",
      "470/470 [==============================] - 0s 77us/sample - loss: 0.4174 - accuracy: 0.8511\n",
      "Epoch 21/100\n",
      "470/470 [==============================] - 0s 84us/sample - loss: 0.4461 - accuracy: 0.8532\n",
      "Epoch 22/100\n",
      "470/470 [==============================] - 0s 82us/sample - loss: 0.4445 - accuracy: 0.8426\n",
      "Epoch 23/100\n",
      "470/470 [==============================] - 0s 85us/sample - loss: 0.4229 - accuracy: 0.8489\n",
      "Epoch 24/100\n",
      "470/470 [==============================] - 0s 85us/sample - loss: 0.4149 - accuracy: 0.8511\n",
      "Epoch 25/100\n",
      "470/470 [==============================] - 0s 82us/sample - loss: 0.4371 - accuracy: 0.8511\n",
      "Epoch 26/100\n",
      "470/470 [==============================] - 0s 86us/sample - loss: 0.4285 - accuracy: 0.8511\n",
      "Epoch 27/100\n",
      "470/470 [==============================] - 0s 83us/sample - loss: 0.4238 - accuracy: 0.8532\n",
      "Epoch 28/100\n",
      "470/470 [==============================] - 0s 86us/sample - loss: 0.4098 - accuracy: 0.8532\n",
      "Epoch 29/100\n",
      "470/470 [==============================] - 0s 82us/sample - loss: 0.4106 - accuracy: 0.8532\n",
      "Epoch 30/100\n",
      "470/470 [==============================] - 0s 83us/sample - loss: 0.4068 - accuracy: 0.8489\n",
      "Epoch 31/100\n",
      "470/470 [==============================] - 0s 83us/sample - loss: 0.4238 - accuracy: 0.8447\n",
      "Epoch 32/100\n",
      "470/470 [==============================] - 0s 93us/sample - loss: 0.4085 - accuracy: 0.8532\n",
      "Epoch 33/100\n",
      "470/470 [==============================] - 0s 81us/sample - loss: 0.4073 - accuracy: 0.8511\n",
      "Epoch 34/100\n",
      "470/470 [==============================] - 0s 85us/sample - loss: 0.4291 - accuracy: 0.8426\n",
      "Epoch 35/100\n",
      "470/470 [==============================] - 0s 90us/sample - loss: 0.4249 - accuracy: 0.8532\n",
      "Epoch 36/100\n",
      "470/470 [==============================] - 0s 91us/sample - loss: 0.4544 - accuracy: 0.8468\n",
      "Epoch 37/100\n",
      "470/470 [==============================] - 0s 88us/sample - loss: 0.5080 - accuracy: 0.8319\n",
      "Epoch 38/100\n",
      "470/470 [==============================] - 0s 77us/sample - loss: 0.4199 - accuracy: 0.8553\n",
      "Epoch 39/100\n",
      "470/470 [==============================] - 0s 83us/sample - loss: 0.4501 - accuracy: 0.8511\n",
      "Epoch 40/100\n",
      "470/470 [==============================] - 0s 83us/sample - loss: 0.4215 - accuracy: 0.8553\n",
      "Epoch 41/100\n",
      "470/470 [==============================] - 0s 82us/sample - loss: 0.4334 - accuracy: 0.8532\n",
      "Epoch 42/100\n",
      "470/470 [==============================] - 0s 83us/sample - loss: 0.4312 - accuracy: 0.8426\n",
      "Epoch 43/100\n",
      "470/470 [==============================] - 0s 77us/sample - loss: 0.4203 - accuracy: 0.8447\n",
      "Epoch 44/100\n",
      "470/470 [==============================] - 0s 88us/sample - loss: 0.4127 - accuracy: 0.8553\n",
      "Epoch 45/100\n",
      "470/470 [==============================] - 0s 84us/sample - loss: 0.4014 - accuracy: 0.8532\n",
      "Epoch 46/100\n",
      "470/470 [==============================] - 0s 84us/sample - loss: 0.3975 - accuracy: 0.8574\n",
      "Epoch 47/100\n",
      "470/470 [==============================] - 0s 88us/sample - loss: 0.3931 - accuracy: 0.8532\n",
      "Epoch 48/100\n",
      "470/470 [==============================] - 0s 82us/sample - loss: 0.3989 - accuracy: 0.8532\n",
      "Epoch 49/100\n",
      "470/470 [==============================] - 0s 80us/sample - loss: 0.4041 - accuracy: 0.8447\n",
      "Epoch 50/100\n",
      "470/470 [==============================] - 0s 82us/sample - loss: 0.4228 - accuracy: 0.8447\n",
      "Epoch 51/100\n",
      "470/470 [==============================] - 0s 82us/sample - loss: 0.4085 - accuracy: 0.8553\n",
      "Epoch 52/100\n",
      "470/470 [==============================] - 0s 83us/sample - loss: 0.3976 - accuracy: 0.8532\n",
      "Epoch 53/100\n",
      "470/470 [==============================] - 0s 83us/sample - loss: 0.4090 - accuracy: 0.8553\n",
      "Epoch 54/100\n",
      "470/470 [==============================] - 0s 79us/sample - loss: 0.4367 - accuracy: 0.8489\n",
      "Epoch 55/100\n",
      "470/470 [==============================] - 0s 79us/sample - loss: 0.4172 - accuracy: 0.8574\n",
      "Epoch 56/100\n",
      "470/470 [==============================] - 0s 85us/sample - loss: 0.4055 - accuracy: 0.8574\n",
      "Epoch 57/100\n",
      "470/470 [==============================] - 0s 78us/sample - loss: 0.4138 - accuracy: 0.8511\n",
      "Epoch 58/100\n",
      "470/470 [==============================] - 0s 91us/sample - loss: 0.4301 - accuracy: 0.8511\n",
      "Epoch 59/100\n",
      "470/470 [==============================] - 0s 78us/sample - loss: 0.4176 - accuracy: 0.8489\n",
      "Epoch 60/100\n",
      "470/470 [==============================] - 0s 77us/sample - loss: 0.4210 - accuracy: 0.8447\n",
      "Epoch 61/100\n",
      "470/470 [==============================] - 0s 85us/sample - loss: 0.3977 - accuracy: 0.8532\n",
      "Epoch 62/100\n",
      "470/470 [==============================] - 0s 78us/sample - loss: 0.3898 - accuracy: 0.8532\n",
      "Epoch 63/100\n",
      "470/470 [==============================] - 0s 81us/sample - loss: 0.4017 - accuracy: 0.8511\n",
      "Epoch 64/100\n",
      "470/470 [==============================] - 0s 81us/sample - loss: 0.4099 - accuracy: 0.8511\n",
      "Epoch 65/100\n",
      "470/470 [==============================] - 0s 83us/sample - loss: 0.4029 - accuracy: 0.8511\n",
      "Epoch 66/100\n",
      "470/470 [==============================] - 0s 82us/sample - loss: 0.3930 - accuracy: 0.8553\n",
      "Epoch 67/100\n",
      "470/470 [==============================] - 0s 83us/sample - loss: 0.4020 - accuracy: 0.8532\n",
      "Epoch 68/100\n",
      "470/470 [==============================] - 0s 86us/sample - loss: 0.4005 - accuracy: 0.8447\n",
      "Epoch 69/100\n",
      "470/470 [==============================] - 0s 81us/sample - loss: 0.4109 - accuracy: 0.8489\n",
      "Epoch 70/100\n",
      "470/470 [==============================] - 0s 83us/sample - loss: 0.3946 - accuracy: 0.8532\n",
      "Epoch 71/100\n",
      "470/470 [==============================] - 0s 80us/sample - loss: 0.4057 - accuracy: 0.8553\n",
      "Epoch 72/100\n",
      "470/470 [==============================] - 0s 80us/sample - loss: 0.4299 - accuracy: 0.8404\n",
      "Epoch 73/100\n",
      "470/470 [==============================] - 0s 81us/sample - loss: 0.3950 - accuracy: 0.8553\n",
      "Epoch 74/100\n",
      "470/470 [==============================] - 0s 79us/sample - loss: 0.3994 - accuracy: 0.8574\n",
      "Epoch 75/100\n",
      "470/470 [==============================] - 0s 85us/sample - loss: 0.3996 - accuracy: 0.8553\n",
      "Epoch 76/100\n",
      "470/470 [==============================] - 0s 82us/sample - loss: 0.3951 - accuracy: 0.8532\n",
      "Epoch 77/100\n",
      "470/470 [==============================] - 0s 86us/sample - loss: 0.3807 - accuracy: 0.8596\n",
      "Epoch 78/100\n",
      "470/470 [==============================] - 0s 79us/sample - loss: 0.4029 - accuracy: 0.8511\n",
      "Epoch 79/100\n",
      "470/470 [==============================] - 0s 77us/sample - loss: 0.4004 - accuracy: 0.8426\n",
      "Epoch 80/100\n",
      "470/470 [==============================] - 0s 76us/sample - loss: 0.4070 - accuracy: 0.8468\n",
      "Epoch 81/100\n",
      "470/470 [==============================] - 0s 79us/sample - loss: 0.3829 - accuracy: 0.8596\n",
      "Epoch 82/100\n",
      "470/470 [==============================] - 0s 81us/sample - loss: 0.3990 - accuracy: 0.8489\n",
      "Epoch 83/100\n",
      "470/470 [==============================] - 0s 80us/sample - loss: 0.4090 - accuracy: 0.8532\n",
      "Epoch 84/100\n",
      "470/470 [==============================] - 0s 83us/sample - loss: 0.4089 - accuracy: 0.8362\n",
      "Epoch 85/100\n",
      "470/470 [==============================] - 0s 85us/sample - loss: 0.4268 - accuracy: 0.8404\n",
      "Epoch 86/100\n",
      "470/470 [==============================] - 0s 87us/sample - loss: 0.3952 - accuracy: 0.8511\n",
      "Epoch 87/100\n",
      "470/470 [==============================] - 0s 84us/sample - loss: 0.3920 - accuracy: 0.8532\n",
      "Epoch 88/100\n",
      "470/470 [==============================] - 0s 83us/sample - loss: 0.3843 - accuracy: 0.8532\n",
      "Epoch 89/100\n",
      "470/470 [==============================] - 0s 87us/sample - loss: 0.3929 - accuracy: 0.8574\n",
      "Epoch 90/100\n",
      "470/470 [==============================] - 0s 92us/sample - loss: 0.3852 - accuracy: 0.8553\n",
      "Epoch 91/100\n",
      "470/470 [==============================] - 0s 80us/sample - loss: 0.3814 - accuracy: 0.8553\n",
      "Epoch 92/100\n",
      "470/470 [==============================] - 0s 83us/sample - loss: 0.3778 - accuracy: 0.8468\n",
      "Epoch 93/100\n",
      "470/470 [==============================] - 0s 91us/sample - loss: 0.4667 - accuracy: 0.8426\n",
      "Epoch 94/100\n",
      "470/470 [==============================] - 0s 85us/sample - loss: 0.4076 - accuracy: 0.8447\n",
      "Epoch 95/100\n",
      "470/470 [==============================] - 0s 87us/sample - loss: 0.3997 - accuracy: 0.8574\n",
      "Epoch 96/100\n",
      "470/470 [==============================] - 0s 83us/sample - loss: 0.3968 - accuracy: 0.8426\n",
      "Epoch 97/100\n",
      "470/470 [==============================] - 0s 87us/sample - loss: 0.3805 - accuracy: 0.8617\n",
      "Epoch 98/100\n",
      "470/470 [==============================] - 0s 81us/sample - loss: 0.3839 - accuracy: 0.8489\n",
      "Epoch 99/100\n",
      "470/470 [==============================] - 0s 83us/sample - loss: 0.3915 - accuracy: 0.8617\n",
      "Epoch 100/100\n",
      "470/470 [==============================] - 0s 85us/sample - loss: 0.3891 - accuracy: 0.8553\n"
     ]
    },
    {
     "data": {
      "text/plain": [
       "<tensorflow.python.keras.callbacks.History at 0x19047bf7688>"
      ]
     },
     "execution_count": 5,
     "metadata": {},
     "output_type": "execute_result"
    }
   ],
   "source": [
    "# 딥러닝 구조를 결정합니다(모델을 설정하고 실행하는 부분)\n",
    "model = Sequential() # 딥러닝 구조\n",
    "model.add(Dense(30, input_dim=17, activation='relu')) # 입력 17개, 출력 30개 (1층)\n",
    "model.add(Dense(1, activation='sigmoid')) # 출력 값 1개 (2층)\n",
    "\n",
    "# 딥러닝을 실행합니다.\n",
    "#compile : 실행\n",
    "# 오차함수 binary_crossentropy\n",
    "# 최적화 함수 adam\n",
    "model.compile(loss='binary_crossentropy', optimizer='adam', metrics=['accuracy']) \n",
    "# epochs=100 : 100번반복 batch_size=10 : 10개씩 묶어서\n",
    "model.fit(X, Y, epochs=100, batch_size=10) "
   ]
  },
  {
   "cell_type": "code",
   "execution_count": 3,
   "metadata": {},
   "outputs": [
    {
     "name": "stdout",
     "output_type": "stream",
     "text": [
      "Train on 470 samples\n",
      "Epoch 1/100\n",
      "470/470 [==============================] - 1s 1ms/sample - loss: 0.1495 - accuracy: 0.8404\n",
      "Epoch 2/100\n",
      "470/470 [==============================] - 0s 85us/sample - loss: 0.1447 - accuracy: 0.8511\n",
      "Epoch 3/100\n",
      "470/470 [==============================] - 0s 84us/sample - loss: 0.1448 - accuracy: 0.8511\n",
      "Epoch 4/100\n",
      "470/470 [==============================] - 0s 85us/sample - loss: 0.1453 - accuracy: 0.8489\n",
      "Epoch 5/100\n",
      "470/470 [==============================] - 0s 86us/sample - loss: 0.1438 - accuracy: 0.8511\n",
      "Epoch 6/100\n",
      "470/470 [==============================] - 0s 85us/sample - loss: 0.1418 - accuracy: 0.8511\n",
      "Epoch 7/100\n",
      "470/470 [==============================] - 0s 83us/sample - loss: 0.1425 - accuracy: 0.8511\n",
      "Epoch 8/100\n",
      "470/470 [==============================] - 0s 83us/sample - loss: 0.1427 - accuracy: 0.8468\n",
      "Epoch 9/100\n",
      "470/470 [==============================] - 0s 157us/sample - loss: 0.1446 - accuracy: 0.8489\n",
      "Epoch 10/100\n",
      "470/470 [==============================] - 0s 160us/sample - loss: 0.1427 - accuracy: 0.8511\n",
      "Epoch 11/100\n",
      "470/470 [==============================] - 0s 95us/sample - loss: 0.1429 - accuracy: 0.8511\n",
      "Epoch 12/100\n",
      "470/470 [==============================] - 0s 93us/sample - loss: 0.1419 - accuracy: 0.8511\n",
      "Epoch 13/100\n",
      "470/470 [==============================] - 0s 87us/sample - loss: 0.1424 - accuracy: 0.8511\n",
      "Epoch 14/100\n",
      "470/470 [==============================] - 0s 74us/sample - loss: 0.1438 - accuracy: 0.8489\n",
      "Epoch 15/100\n",
      "470/470 [==============================] - 0s 85us/sample - loss: 0.1375 - accuracy: 0.8489\n",
      "Epoch 16/100\n",
      "470/470 [==============================] - 0s 74us/sample - loss: 0.1427 - accuracy: 0.8489\n",
      "Epoch 17/100\n",
      "470/470 [==============================] - 0s 81us/sample - loss: 0.1398 - accuracy: 0.8426\n",
      "Epoch 18/100\n",
      "470/470 [==============================] - 0s 85us/sample - loss: 0.1414 - accuracy: 0.8489\n",
      "Epoch 19/100\n",
      "470/470 [==============================] - 0s 79us/sample - loss: 0.1418 - accuracy: 0.8511\n",
      "Epoch 20/100\n",
      "470/470 [==============================] - 0s 78us/sample - loss: 0.1428 - accuracy: 0.8511\n",
      "Epoch 21/100\n",
      "470/470 [==============================] - 0s 89us/sample - loss: 0.1396 - accuracy: 0.8532\n",
      "Epoch 22/100\n",
      "470/470 [==============================] - 0s 76us/sample - loss: 0.1363 - accuracy: 0.8468\n",
      "Epoch 23/100\n",
      "470/470 [==============================] - 0s 76us/sample - loss: 0.1335 - accuracy: 0.8468\n",
      "Epoch 24/100\n",
      "470/470 [==============================] - 0s 85us/sample - loss: 0.1374 - accuracy: 0.8532\n",
      "Epoch 25/100\n",
      "470/470 [==============================] - 0s 76us/sample - loss: 0.1373 - accuracy: 0.8489\n",
      "Epoch 26/100\n",
      "470/470 [==============================] - 0s 76us/sample - loss: 0.1420 - accuracy: 0.8511\n",
      "Epoch 27/100\n",
      "470/470 [==============================] - 0s 81us/sample - loss: 0.1390 - accuracy: 0.8511\n",
      "Epoch 28/100\n",
      "470/470 [==============================] - 0s 81us/sample - loss: 0.1374 - accuracy: 0.8511\n",
      "Epoch 29/100\n",
      "470/470 [==============================] - 0s 76us/sample - loss: 0.1316 - accuracy: 0.8426\n",
      "Epoch 30/100\n",
      "470/470 [==============================] - 0s 79us/sample - loss: 0.1330 - accuracy: 0.8489\n",
      "Epoch 31/100\n",
      "470/470 [==============================] - 0s 89us/sample - loss: 0.1389 - accuracy: 0.8340\n",
      "Epoch 32/100\n",
      "470/470 [==============================] - 0s 79us/sample - loss: 0.1420 - accuracy: 0.8489\n",
      "Epoch 33/100\n",
      "470/470 [==============================] - 0s 80us/sample - loss: 0.1397 - accuracy: 0.8511\n",
      "Epoch 34/100\n",
      "470/470 [==============================] - 0s 86us/sample - loss: 0.1415 - accuracy: 0.8489\n",
      "Epoch 35/100\n",
      "470/470 [==============================] - 0s 77us/sample - loss: 0.1385 - accuracy: 0.8511\n",
      "Epoch 36/100\n",
      "470/470 [==============================] - 0s 79us/sample - loss: 0.1385 - accuracy: 0.8532\n",
      "Epoch 37/100\n",
      "470/470 [==============================] - 0s 85us/sample - loss: 0.1388 - accuracy: 0.8511\n",
      "Epoch 38/100\n",
      "470/470 [==============================] - 0s 79us/sample - loss: 0.1317 - accuracy: 0.8532\n",
      "Epoch 39/100\n",
      "470/470 [==============================] - 0s 77us/sample - loss: 0.1377 - accuracy: 0.8468\n",
      "Epoch 40/100\n",
      "470/470 [==============================] - 0s 91us/sample - loss: 0.1301 - accuracy: 0.8553\n",
      "Epoch 41/100\n",
      "470/470 [==============================] - 0s 87us/sample - loss: 0.1342 - accuracy: 0.8511\n",
      "Epoch 42/100\n",
      "470/470 [==============================] - 0s 83us/sample - loss: 0.1388 - accuracy: 0.8489\n",
      "Epoch 43/100\n",
      "470/470 [==============================] - 0s 83us/sample - loss: 0.1257 - accuracy: 0.8532\n",
      "Epoch 44/100\n",
      "470/470 [==============================] - 0s 87us/sample - loss: 0.1398 - accuracy: 0.8489\n",
      "Epoch 45/100\n",
      "470/470 [==============================] - 0s 104us/sample - loss: 0.1397 - accuracy: 0.8511\n",
      "Epoch 46/100\n",
      "470/470 [==============================] - 0s 108us/sample - loss: 0.1380 - accuracy: 0.8511\n",
      "Epoch 47/100\n",
      "470/470 [==============================] - 0s 82us/sample - loss: 0.1377 - accuracy: 0.8532\n",
      "Epoch 48/100\n",
      "470/470 [==============================] - 0s 74us/sample - loss: 0.1371 - accuracy: 0.8532\n",
      "Epoch 49/100\n",
      "470/470 [==============================] - 0s 76us/sample - loss: 0.1381 - accuracy: 0.8511\n",
      "Epoch 50/100\n",
      "470/470 [==============================] - 0s 91us/sample - loss: 0.1363 - accuracy: 0.8532\n",
      "Epoch 51/100\n",
      "470/470 [==============================] - 0s 95us/sample - loss: 0.1307 - accuracy: 0.8468\n",
      "Epoch 52/100\n",
      "470/470 [==============================] - 0s 100us/sample - loss: 0.1256 - accuracy: 0.8532\n",
      "Epoch 53/100\n",
      "470/470 [==============================] - 0s 83us/sample - loss: 0.1266 - accuracy: 0.8596\n",
      "Epoch 54/100\n",
      "470/470 [==============================] - 0s 76us/sample - loss: 0.1326 - accuracy: 0.8447\n",
      "Epoch 55/100\n",
      "470/470 [==============================] - 0s 74us/sample - loss: 0.1410 - accuracy: 0.8511\n",
      "Epoch 56/100\n",
      "470/470 [==============================] - 0s 79us/sample - loss: 0.1399 - accuracy: 0.8553\n",
      "Epoch 57/100\n",
      "470/470 [==============================] - 0s 73us/sample - loss: 0.1368 - accuracy: 0.8553\n",
      "Epoch 58/100\n",
      "470/470 [==============================] - 0s 80us/sample - loss: 0.1370 - accuracy: 0.8532\n",
      "Epoch 59/100\n",
      "470/470 [==============================] - 0s 76us/sample - loss: 0.1353 - accuracy: 0.8532\n",
      "Epoch 60/100\n",
      "470/470 [==============================] - 0s 90us/sample - loss: 0.1385 - accuracy: 0.8489\n",
      "Epoch 61/100\n",
      "470/470 [==============================] - 0s 83us/sample - loss: 0.1338 - accuracy: 0.8426\n",
      "Epoch 62/100\n",
      "470/470 [==============================] - 0s 85us/sample - loss: 0.1402 - accuracy: 0.8511\n",
      "Epoch 63/100\n",
      "470/470 [==============================] - 0s 89us/sample - loss: 0.1356 - accuracy: 0.8574\n",
      "Epoch 64/100\n",
      "470/470 [==============================] - 0s 89us/sample - loss: 0.1308 - accuracy: 0.8532\n",
      "Epoch 65/100\n",
      "470/470 [==============================] - 0s 83us/sample - loss: 0.1246 - accuracy: 0.8553\n",
      "Epoch 66/100\n",
      "470/470 [==============================] - 0s 88us/sample - loss: 0.1258 - accuracy: 0.8532\n",
      "Epoch 67/100\n",
      "470/470 [==============================] - 0s 74us/sample - loss: 0.1303 - accuracy: 0.8511\n",
      "Epoch 68/100\n",
      "470/470 [==============================] - 0s 82us/sample - loss: 0.1304 - accuracy: 0.8532\n",
      "Epoch 69/100\n",
      "470/470 [==============================] - 0s 79us/sample - loss: 0.1263 - accuracy: 0.8553\n",
      "Epoch 70/100\n",
      "470/470 [==============================] - 0s 83us/sample - loss: 0.1329 - accuracy: 0.8596\n",
      "Epoch 71/100\n",
      "470/470 [==============================] - 0s 76us/sample - loss: 0.1250 - accuracy: 0.8511\n",
      "Epoch 72/100\n",
      "470/470 [==============================] - 0s 79us/sample - loss: 0.1292 - accuracy: 0.8574\n",
      "Epoch 73/100\n",
      "470/470 [==============================] - 0s 78us/sample - loss: 0.1236 - accuracy: 0.8553\n",
      "Epoch 74/100\n",
      "470/470 [==============================] - 0s 96us/sample - loss: 0.1229 - accuracy: 0.8596\n",
      "Epoch 75/100\n",
      "470/470 [==============================] - 0s 84us/sample - loss: 0.1262 - accuracy: 0.8489\n",
      "Epoch 76/100\n",
      "470/470 [==============================] - 0s 81us/sample - loss: 0.1222 - accuracy: 0.8553\n",
      "Epoch 77/100\n",
      "470/470 [==============================] - 0s 79us/sample - loss: 0.1197 - accuracy: 0.8617\n",
      "Epoch 78/100\n"
     ]
    },
    {
     "name": "stdout",
     "output_type": "stream",
     "text": [
      "470/470 [==============================] - 0s 84us/sample - loss: 0.1273 - accuracy: 0.8596\n",
      "Epoch 79/100\n",
      "470/470 [==============================] - 0s 79us/sample - loss: 0.1259 - accuracy: 0.8511\n",
      "Epoch 80/100\n",
      "470/470 [==============================] - 0s 78us/sample - loss: 0.1358 - accuracy: 0.8489\n",
      "Epoch 81/100\n",
      "470/470 [==============================] - 0s 75us/sample - loss: 0.1370 - accuracy: 0.8532\n",
      "Epoch 82/100\n",
      "470/470 [==============================] - 0s 79us/sample - loss: 0.1339 - accuracy: 0.8553\n",
      "Epoch 83/100\n",
      "470/470 [==============================] - 0s 77us/sample - loss: 0.1318 - accuracy: 0.8596\n",
      "Epoch 84/100\n",
      "470/470 [==============================] - 0s 79us/sample - loss: 0.1301 - accuracy: 0.8553\n",
      "Epoch 85/100\n",
      "470/470 [==============================] - 0s 81us/sample - loss: 0.1269 - accuracy: 0.8447\n",
      "Epoch 86/100\n",
      "470/470 [==============================] - 0s 91us/sample - loss: 0.1265 - accuracy: 0.8532\n",
      "Epoch 87/100\n",
      "470/470 [==============================] - 0s 85us/sample - loss: 0.1215 - accuracy: 0.8574\n",
      "Epoch 88/100\n",
      "470/470 [==============================] - 0s 87us/sample - loss: 0.1193 - accuracy: 0.8574\n",
      "Epoch 89/100\n",
      "470/470 [==============================] - 0s 89us/sample - loss: 0.1184 - accuracy: 0.8574\n",
      "Epoch 90/100\n",
      "470/470 [==============================] - 0s 89us/sample - loss: 0.1216 - accuracy: 0.8468\n",
      "Epoch 91/100\n",
      "470/470 [==============================] - 0s 81us/sample - loss: 0.1184 - accuracy: 0.8574\n",
      "Epoch 92/100\n",
      "470/470 [==============================] - 0s 79us/sample - loss: 0.1182 - accuracy: 0.8553\n",
      "Epoch 93/100\n",
      "470/470 [==============================] - 0s 79us/sample - loss: 0.1358 - accuracy: 0.8468\n",
      "Epoch 94/100\n",
      "470/470 [==============================] - 0s 80us/sample - loss: 0.1298 - accuracy: 0.8638\n",
      "Epoch 95/100\n",
      "470/470 [==============================] - 0s 83us/sample - loss: 0.1241 - accuracy: 0.8617\n",
      "Epoch 96/100\n",
      "470/470 [==============================] - 0s 76us/sample - loss: 0.1220 - accuracy: 0.8511\n",
      "Epoch 97/100\n",
      "470/470 [==============================] - 0s 80us/sample - loss: 0.1290 - accuracy: 0.8574\n",
      "Epoch 98/100\n",
      "470/470 [==============================] - 0s 77us/sample - loss: 0.1194 - accuracy: 0.8638\n",
      "Epoch 99/100\n",
      "470/470 [==============================] - 0s 76us/sample - loss: 0.1293 - accuracy: 0.8574\n",
      "Epoch 100/100\n",
      "470/470 [==============================] - 0s 79us/sample - loss: 0.1259 - accuracy: 0.8617\n"
     ]
    },
    {
     "data": {
      "text/plain": [
       "<tensorflow.python.keras.callbacks.History at 0x295d9b1a3c8>"
      ]
     },
     "execution_count": 3,
     "metadata": {},
     "output_type": "execute_result"
    }
   ],
   "source": [
    "# 딥러닝 구조를 결정합니다(모델을 설정하고 실행하는 부분)\n",
    "model = Sequential() # 딥러닝 구조\n",
    "model.add(Dense(30, input_dim=17, activation='relu')) # 입력 17개, 출력 30개 (1층)\n",
    "model.add(Dense(1, activation='sigmoid')) # 출력 값 1개 (2층)\n",
    "\n",
    "# 딥러닝을 실행합니다.\n",
    "#compile : 실행\n",
    "model.compile(loss='mean_squared_error', optimizer='adam', metrics=['accuracy']) \n",
    "# epochs=100 : 100번반복 batch_size=10 : 10개씩 묶어서\n",
    "model.fit(X, Y, epochs=100, batch_size=10) "
   ]
  },
  {
   "cell_type": "markdown",
   "metadata": {},
   "source": [
    "** epoch *\n",
    "학습반복횟수\n",
    "\n",
    "*batch_size **\n",
    "몇 개의 샘플로 가중치를 갱신할 것인지 지정, 한 번에 학습할데이터의 건수."
   ]
  },
  {
   "cell_type": "markdown",
   "metadata": {},
   "source": [
    "# 코딩으로 확인하는 최소 제곱"
   ]
  },
  {
   "cell_type": "code",
   "execution_count": 6,
   "metadata": {},
   "outputs": [],
   "source": [
    "import numpy as np\n",
    "\n",
    "x = [2, 4, 6, 8] # 공부 시간\n",
    "y = [81, 93, 91, 97] # 성적"
   ]
  },
  {
   "cell_type": "markdown",
   "metadata": {},
   "source": [
    "** 최소 제곱근 송식으로 기울기 y와 b절편 a의 값을 구하기\n",
    "\n",
    "** x의 모든 원소의 평균을 구하는 넘파이 함수는 mean()임\n",
    "\n",
    "** mx라는 변수에 x 원소들의 평균값, my에 y 원소들의 평균값을 입력"
   ]
  },
  {
   "cell_type": "code",
   "execution_count": 7,
   "metadata": {},
   "outputs": [
    {
     "name": "stdout",
     "output_type": "stream",
     "text": [
      "x의 평균값: 5.0\n",
      "y의 평균값: 90.5\n"
     ]
    }
   ],
   "source": [
    "mx = np.mean(x)\n",
    "my = np.mean(y)\n",
    "print(\"x의 평균값:\", mx)\n",
    "print(\"y의 평균값:\", my)"
   ]
  },
  {
   "cell_type": "code",
   "execution_count": 9,
   "metadata": {},
   "outputs": [
    {
     "name": "stdout",
     "output_type": "stream",
     "text": [
      "분모: 20.0\n",
      "분자: 46.0\n"
     ]
    }
   ],
   "source": [
    "# 기울기 공식의 분모\n",
    "divisor = sum([(mx - i)**2 for i in x])\n",
    "\n",
    "# 기울기 공식의 분자\n",
    "def top(x, mx, y, my):\n",
    "    d = 0\n",
    "    for i in range(len(x)):\n",
    "        d += (x[i] - mx) * (y[i] - my) # (x-x의 평균)(y - y의 평균)의 합\n",
    "    return d\n",
    "dividend = top(x, mx, y, my)\n",
    "\n",
    "print(\"분모:\", divisor)\n",
    "print(\"분자:\", dividend)\n"
   ]
  },
  {
   "cell_type": "code",
   "execution_count": 10,
   "metadata": {},
   "outputs": [
    {
     "name": "stdout",
     "output_type": "stream",
     "text": [
      "기울기 a = 2.3\n",
      "y절편 b = 79.0\n"
     ]
    }
   ],
   "source": [
    "# 기울기와 y 절편 구하기\n",
    "a = dividend / divisor\n",
    "b = my - (mx*a)\n",
    "\n",
    "print(\"기울기 a =\", a)\n",
    "print(\"y절편 b =\", b)"
   ]
  },
  {
   "cell_type": "markdown",
   "metadata": {},
   "source": [
    "# 평균 제곱 오차\n",
    "\n",
    "* 여러 개의 입력 값을 계산할 때는 임의의 선을 그리고 난 후, 이 선이 얼마나 잘 그려졌는지를 평가하여 조금씩 수정\n",
    "\n",
    "* 1/n*(예측값 - 실제 값)^2 "
   ]
  },
  {
   "cell_type": "code",
   "execution_count": 16,
   "metadata": {},
   "outputs": [
    {
     "name": "stdout",
     "output_type": "stream",
     "text": [
      "[2, 4, 6, 8]\n",
      "[81, 93, 91, 97]\n"
     ]
    }
   ],
   "source": [
    "import numpy as np\n",
    "\n",
    "# 가상의 기울기 a와 y절편 b\n",
    "fake_a_b = [3, 76]\n",
    "\n",
    "# data라는 리스트를 만들어 공부시간, 성적을 짝지어 지정\n",
    "# x 리스트와 y리스트를 만들어 첫 번째 값을 x 리스트에 저장, \n",
    "# 두 번째 값을 y리스트에 저장\n",
    "\n",
    "data = [[2, 81], [4,93], [6,91], [8, 97]]\n",
    "x = [i[0] for i in data]\n",
    "y = [i[1] for i in data]\n",
    "print(x)\n",
    "print(y)"
   ]
  },
  {
   "cell_type": "code",
   "execution_count": 26,
   "metadata": {},
   "outputs": [],
   "source": [
    "# y = ax+b에 a, b값 대입하여 결과를 출력하는 함수\n",
    "def predict(x): # ax+b\n",
    "    return fake_a_b[0]*x + fake_a_b[1]\n",
    "\n",
    "# MSE 함수\n",
    "def mse(y, y_hat):\n",
    "    return ((y - y_hat)** 2).mean()\n",
    "\n",
    "# MSE 함수를 각 y값에 대입하여 최종 값을 구하는 함수\n",
    "def mse_val(y, predict_result):\n",
    "    return mse(np.array(y), np.array(predict_result))"
   ]
  },
  {
   "cell_type": "code",
   "execution_count": 27,
   "metadata": {},
   "outputs": [
    {
     "name": "stdout",
     "output_type": "stream",
     "text": [
      "공부시간=2, 실제점수=81, 예측점수=82\n",
      "공부시간=4, 실제점수=93, 예측점수=88\n",
      "공부시간=6, 실제점수=91, 예측점수=94\n",
      "공부시간=8, 실제점수=97, 예측점수=100\n",
      "MSE 최종값: 11.0\n"
     ]
    }
   ],
   "source": [
    "# 에측값이 들어갈 빈 리스트\n",
    "predict_result = []\n",
    "\n",
    "# 모든 x값을 한번씩 대입하여 predict_result 리스트 완성\n",
    "for i in range(len(x)):\n",
    "    predict_result.append(predict(x[i]))\n",
    "    print(\"공부시간=%.f, 실제점수=%.f, 예측점수=%.f\"%(x[i], y[i], predict(x[i])))\n",
    "    \n",
    "# 최종 MSE 출력\n",
    "print(\"MSE 최종값: \" + str(mse_val(predict_result,y)))"
   ]
  },
  {
   "cell_type": "code",
   "execution_count": 29,
   "metadata": {},
   "outputs": [
    {
     "data": {
      "image/png": "[encoded data removed]",
      "text/plain": [
       "<Figure size 576x360 with 1 Axes>"
      ]
     },
     "metadata": {
      "needs_background": "light"
     },
     "output_type": "display_data"
    }
   ],
   "source": [
    "import numpy as np\n",
    "import pandas as pd\n",
    "import matplotlib.pyplot as plt\n",
    "\n",
    "# 공부시간 X와 성적 Y의 리스트\n",
    "data = [[2, 81], [4, 93], [6, 91], [8, 97]]\n",
    "x = [i[0] for i in data]\n",
    "y = [i[1] for i in data]\n",
    "\n",
    "#그래프\n",
    "plt.figure(figsize=(8,5))\n",
    "plt.scatter(x, y)\n",
    "plt.show()"
   ]
  },
  {
   "cell_type": "code",
   "execution_count": 30,
   "metadata": {},
   "outputs": [],
   "source": [
    "# 리스트로 되어있는 x와 y값을 넘파이 배열로 바꿈\n",
    "# (인덱스를 주어 하나씩 불러와 계산이 가능해지도록 하기 위함)\n",
    "\n",
    "x_data = np.array(x)\n",
    "y_data = np.array(y)\n",
    "\n",
    "# 기울기 a와 절편 b의 값을 초기화\n",
    "a = 0\n",
    "b = 0\n",
    "\n",
    "#학습률을 정함\n",
    "lr = 0.03\n",
    "\n",
    "# 몇 번 반복될지 설정\n",
    "epochs = 2001"
   ]
  },
  {
   "cell_type": "code",
   "execution_count": 32,
   "metadata": {},
   "outputs": [
    {
     "name": "stdout",
     "output_type": "stream",
     "text": [
      "epoch=0, 기울기=27.8400, 절편=5.4300\n",
      "epoch=100, 기울기=7.0739, 절편=50.5117\n",
      "epoch=200, 기울기=4.0960, 절편=68.2822\n",
      "epoch=300, 기울기=2.9757, 절편=74.9678\n",
      "epoch=400, 기울기=2.5542, 절편=77.4830\n",
      "epoch=500, 기울기=2.3956, 절편=78.4293\n",
      "epoch=600, 기울기=2.3360, 절편=78.7853\n",
      "epoch=700, 기울기=2.3135, 절편=78.9192\n",
      "epoch=800, 기울기=2.3051, 절편=78.9696\n",
      "epoch=900, 기울기=2.3019, 절편=78.9886\n",
      "epoch=1000, 기울기=2.3007, 절편=78.9957\n",
      "epoch=1100, 기울기=2.3003, 절편=78.9984\n",
      "epoch=1200, 기울기=2.3001, 절편=78.9994\n",
      "epoch=1300, 기울기=2.3000, 절편=78.9998\n",
      "epoch=1400, 기울기=2.3000, 절편=78.9999\n",
      "epoch=1500, 기울기=2.3000, 절편=79.0000\n",
      "epoch=1600, 기울기=2.3000, 절편=79.0000\n",
      "epoch=1700, 기울기=2.3000, 절편=79.0000\n",
      "epoch=1800, 기울기=2.3000, 절편=79.0000\n",
      "epoch=1900, 기울기=2.3000, 절편=79.0000\n",
      "epoch=2000, 기울기=2.3000, 절편=79.0000\n"
     ]
    }
   ],
   "source": [
    "# 경사 하강법 시작\n",
    "for i in range(epochs): # epoch 수 만큼 반복\n",
    "    y_hat = a * x_data + b\n",
    "    error = y_data - y_hat\n",
    "    a_diff = -(2/len(x_data)) * sum(x_data * (error)) #오차함수를 a로 미분\n",
    "    b_diff = -(2/len(x_data)) * sum(error) # 오차함수를 b로 미분\n",
    "    a = a - lr * a_diff # 학습률을 곱해 기존의 a값을 업데이트\n",
    "    b = b - lr * b_diff # 학습률을 곱해 기존의 b값을 업데이트\n",
    "    if i % 100 == 0: # 100번 반복될 때마다 현재의 a값, b값을 출력\n",
    "        print(\"epoch=%.f, 기울기=%0.4f, 절편=%.04f\" %(i, a, b))"
   ]
  },
  {
   "cell_type": "code",
   "execution_count": 33,
   "metadata": {},
   "outputs": [
    {
     "data": {
      "image/png": "[encoded data removed]",
      "text/plain": [
       "<Figure size 432x288 with 1 Axes>"
      ]
     },
     "metadata": {
      "needs_background": "light"
     },
     "output_type": "display_data"
    }
   ],
   "source": [
    "# 앞서 구한 기울기와 절편을 이용한 그래프\n",
    "y_pred = a * x_data + b\n",
    "plt.scatter(x, y)\n",
    "plt.plot([min(x_data), max(x_data)], [min(y_pred), max(y_pred)])\n",
    "plt.show()"
   ]
  },
  {
   "cell_type": "markdown",
   "metadata": {},
   "source": [
    "# 다중 선형 회귀\n",
    "* 더 정확한 예측을 하려면 추가 정보를 입력해야 하며, 정보를 추가 해 새로운 예측값을 구하려면 변수의 개수를 늘려 다중 선형 회귀"
   ]
  },
  {
   "cell_type": "code",
   "execution_count": 51,
   "metadata": {},
   "outputs": [],
   "source": [
    "# x의 값이 두 개 이므로 다음과 같이 리스트를 만들고 \n",
    "# x1, x2라는 두 개의 독립 변수 리스트 생성\n",
    "\n",
    "data = [[2, 0, 81], [4, 4, 93], [6, 2, 91], [8, 3, 97]]\n",
    "x1 = [i[0] for i in data] # 공부시간\n",
    "x2 = [i[1] for i in data] # 과외시간\n",
    "y = [i[2] for i in data] # 성적"
   ]
  },
  {
   "cell_type": "code",
   "execution_count": 52,
   "metadata": {},
   "outputs": [
    {
     "data": {
      "image/png": "[encoded data removed]",
      "text/plain": [
       "<Figure size 432x288 with 1 Axes>"
      ]
     },
     "metadata": {
      "needs_background": "light"
     },
     "output_type": "display_data"
    }
   ],
   "source": [
    "# 그래프로 확인\n",
    "from mpl_toolkits.mplot3d import Axes3D\n",
    "ax = plt.axes(projection='3d')\n",
    "ax.set_xlabel('study_hours')\n",
    "ax.set_ylabel('private_class')\n",
    "ax.set_zlabel('Score')\n",
    "ax.dist = 11\n",
    "ax.scatter(x1, x2, y)\n",
    "plt.show()"
   ]
  },
  {
   "cell_type": "code",
   "execution_count": 61,
   "metadata": {},
   "outputs": [
    {
     "name": "stdout",
     "output_type": "stream",
     "text": [
      "epoch = 0, 기울기1=23.2000, 기울기2=10.5625, 절편=4.5250\n",
      "epoch = 100, 기울기1=6.4348, 기울기2=3.9893, 절편=43.9757\n",
      "epoch = 200, 기울기1=3.7255, 기울기2=3.0541, 절편=62.5766\n",
      "epoch = 300, 기울기1=2.5037, 기울기2=2.6323, 절편=70.9656\n",
      "epoch = 400, 기울기1=1.9527, 기울기2=2.4420, 절편=74.7491\n",
      "epoch = 500, 기울기1=1.7042, 기울기2=2.3562, 절편=76.4554\n",
      "epoch = 600, 기울기1=1.5921, 기울기2=2.3175, 절편=77.2250\n",
      "epoch = 700, 기울기1=1.5415, 기울기2=2.3001, 절편=77.5720\n",
      "epoch = 800, 기울기1=1.5187, 기울기2=2.2922, 절편=77.7286\n",
      "epoch = 900, 기울기1=1.5084, 기울기2=2.2886, 절편=77.7992\n",
      "epoch = 1000, 기울기1=1.5038, 기울기2=2.2870, 절편=77.8310\n",
      "epoch = 1100, 기울기1=1.5017, 기울기2=2.2863, 절편=77.8453\n",
      "epoch = 1200, 기울기1=1.5008, 기울기2=2.2860, 절편=77.8518\n",
      "epoch = 1300, 기울기1=1.5003, 기울기2=2.2858, 절편=77.8547\n",
      "epoch = 1400, 기울기1=1.5002, 기울기2=2.2858, 절편=77.8561\n",
      "epoch = 1500, 기울기1=1.5001, 기울기2=2.2857, 절편=77.8567\n",
      "epoch = 1600, 기울기1=1.5000, 기울기2=2.2857, 절편=77.8569\n",
      "epoch = 1700, 기울기1=1.5000, 기울기2=2.2857, 절편=77.8570\n",
      "epoch = 1800, 기울기1=1.5000, 기울기2=2.2857, 절편=77.8571\n",
      "epoch = 1900, 기울기1=1.5000, 기울기2=2.2857, 절편=77.8571\n",
      "epoch = 2000, 기울기1=1.5000, 기울기2=2.2857, 절편=77.8571\n"
     ]
    }
   ],
   "source": [
    "# 리스트로 되어있는 값을 넘파이 배열로 바꾸기 (하나씩 불러와 계산할 수 있도록)\n",
    "x1_data = np.array(x1)\n",
    "x2_data = np.array(x2)\n",
    "y_data = np.array(y)\n",
    "\n",
    "# 기울기 a와 절편 b의 값을 초기화\n",
    "a1 =0\n",
    "a2 = 0\n",
    "b = 0\n",
    "\n",
    "# 학습률\n",
    "lr = 0.05\n",
    "\n",
    "# 반복 횟수\n",
    "epochs = 2001\n",
    "\n",
    "# 경사 하강법\n",
    "for i in range(epochs): # epoch 수 만큼 반복\n",
    "    y_pred = a1 * x1_data + a2 * x2_data + b\n",
    "    error = y_data - y_pred\n",
    "    a1_diff = -(1/len(x1_data)) * sum(x1_data * (error))\n",
    "    a2_diff = -(1/len(x2_data)) * sum(x2_data * (error))\n",
    "    b_new = -(1/len(x1_data)) * sum(y_data - y_pred)\n",
    "    a1 = a1 - lr * a1_diff\n",
    "    a2 = a2 - lr * a2_diff\n",
    "    b = b - lr * b_new\n",
    "    if i % 100 == 0:\n",
    "        print(\"epoch = %.f, 기울기1=%.04f, 기울기2=%.04f, 절편=%.04f\"\\\n",
    "             % (i, a1, a2, b))"
   ]
  },
  {
   "cell_type": "markdown",
   "metadata": {},
   "source": [
    "# 로지스틱 회귀"
   ]
  },
  {
   "cell_type": "markdown",
   "metadata": {},
   "source": [
    "## 시그모이드 함수(sigmoid function)\n",
    "    * S자 형태로 그래프가 그려지는 함수 (0과 1 사이 값)\n",
    "    * 로그 함수를 함께 써야함\n",
    "    * 경사 하강법을 이용해 a와 b의 최적 값을 찾는 과정"
   ]
  },
  {
   "cell_type": "code",
   "execution_count": 56,
   "metadata": {},
   "outputs": [
    {
     "data": {
      "text/plain": [
       "(-0.1, 1.1)"
      ]
     },
     "execution_count": 56,
     "metadata": {},
     "output_type": "execute_result"
    },
    {
     "data": {
      "image/png": "[encoded data removed]",
      "text/plain": [
       "<Figure size 432x288 with 1 Axes>"
      ]
     },
     "metadata": {
      "needs_background": "light"
     },
     "output_type": "display_data"
    }
   ],
   "source": [
    "import numpy as np\n",
    "import pandas as pd\n",
    "import matplotlib.pyplot as plt\n",
    "\n",
    "data = [[2, 0], [4, 0], [6,0], [8, 1], [10, 1], [12, 1], [14, 1]]\n",
    "\n",
    "x_data = [i[0] for i in data] # 공부한 시간\n",
    "y_data = [i[1] for i in data] # 합격여부\n",
    "\n",
    "plt.scatter(x_data, y_data)\n",
    "plt.xlim(0, 15)\n",
    "plt.ylim(-.1, 1.1)"
   ]
  },
  {
   "cell_type": "code",
   "execution_count": 68,
   "metadata": {},
   "outputs": [
    {
     "name": "stdout",
     "output_type": "stream",
     "text": [
      "epoch=0, 기울기=-0.0500, 절편-0.0250\n",
      "epoch=0, 기울기=-0.1388, 절편-0.0472\n",
      "epoch=0, 기울기=-0.2268, 절편-0.0619\n",
      "epoch=0, 기울기=0.1201, 절편-0.0185\n",
      "epoch=0, 기울기=0.2374, 절편-0.0068\n",
      "epoch=0, 기울기=0.2705, 절편-0.0040\n",
      "epoch=0, 기울기=0.2860, 절편-0.0029\n",
      "epoch=1000, 기울기=1.4978, 절편-9.9401\n",
      "epoch=1000, 기울기=1.4940, 절편-9.9411\n",
      "epoch=1000, 기울기=1.4120, 절편-9.9547\n",
      "epoch=1000, 기울기=1.4949, 절편-9.9444\n",
      "epoch=1000, 기울기=1.4982, 절편-9.9440\n",
      "epoch=1000, 기울기=1.4984, 절편-9.9440\n",
      "epoch=1000, 기울기=1.4985, 절편-9.9440\n",
      "epoch=2000, 기울기=1.9065, 절편-12.9489\n",
      "epoch=2000, 기울기=1.9055, 절편-12.9491\n",
      "epoch=2000, 기울기=1.8515, 절편-12.9581\n",
      "epoch=2000, 기울기=1.9057, 절편-12.9514\n",
      "epoch=2000, 기울기=1.9068, 절편-12.9513\n",
      "epoch=2000, 기울기=1.9068, 절편-12.9513\n",
      "epoch=2000, 기울기=1.9068, 절편-12.9513\n"
     ]
    }
   ],
   "source": [
    "# 기울기 a와 절편 b, 학습률 초기화\n",
    "a = 0\n",
    "b = 0\n",
    "lr = 0.05\n",
    "\n",
    "#시그모이드 함수\n",
    "def sigmoid(x):\n",
    "    return 1 / (1 + np.e ** (-x))\n",
    "\n",
    "# 경사 하강법을 실행\n",
    "for i in range(2001):\n",
    "    for x_data, y_data in data:\n",
    "        a_diff = x_data * (sigmoid(a*x_data + b) - y_data) # a에 대해 편미분\n",
    "        b_diff = sigmoid(a*x_data + b) - y_data # b에 대해 편미분\n",
    "        a = a - lr * a_diff\n",
    "        b = b - lr * b_diff\n",
    "        # 1000번 반복될 때마다 각 x_data값에 대한 현재의 a값, b값 출력\n",
    "        if i % 1000 == 0:\n",
    "            print(\"epoch=%.f, 기울기=%.04f, 절편%.04f\"%(i, a, b))"
   ]
  },
  {
   "cell_type": "code",
   "execution_count": 69,
   "metadata": {},
   "outputs": [
    {
     "data": {
      "image/png": "[encoded data removed]",
      "text/plain": [
       "<Figure size 432x288 with 1 Axes>"
      ]
     },
     "metadata": {
      "needs_background": "light"
     },
     "output_type": "display_data"
    }
   ],
   "source": [
    "# 구한 기울기와 절편을 이용한 그래프\n",
    "x_data = [i[0] for i in data]\n",
    "y_data = [i[1] for i in data]\n",
    "plt.scatter(x_data, y_data)\n",
    "plt.xlim(0, 15)\n",
    "plt.ylim(-.1, 1.1)\n",
    "x_range = (np.arange(0, 15, 0.1))\n",
    "plt.plot(np.arange(0, 15, 0.1), np.array([sigmoid(a*x + b) for x in x_range]))\n",
    "plt.show()"
   ]
  },
  {
   "cell_type": "code",
   "execution_count": null,
   "metadata": {},
   "outputs": [],
   "source": []
  }
 ],
 "metadata": {
  "kernelspec": {
   "display_name": "Python 3",
   "language": "python",
   "name": "python3"
  },
  "language_info": {
   "codemirror_mode": {
    "name": "ipython",
    "version": 3
   },
   "file_extension": ".py",
   "mimetype": "text/x-python",
   "name": "python",
   "nbconvert_exporter": "python",
   "pygments_lexer": "ipython3",
   "version": "3.7.4"
  }
 },
 "nbformat": 4,
 "nbformat_minor": 2
}
