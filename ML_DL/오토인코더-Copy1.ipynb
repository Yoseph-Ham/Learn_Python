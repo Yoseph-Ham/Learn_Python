{
 "cells": [
  {
   "cell_type": "code",
   "execution_count": 6,
   "metadata": {},
   "outputs": [],
   "source": [
    "from tensorflow.keras.datasets import mnist\n",
    "from tensorflow.keras.models import Sequential, Model\n",
    "from tensorflow.keras.layers import Input, Dense, Conv2D, MaxPooling2D, UpSampling2D, Flatten, Reshape\n",
    "\n",
    "import matplotlib.pyplot as plt\n",
    "import numpy as np\n",
    "\n",
    "(X_train, _), (X_test, _) = mnist.load_data()\n",
    "X_train = X_train.reshape(X_train.shape[0], 28, 28, 1).astype('float32') / 255\n",
    "X_test = X_test.reshape(X_test.shape[0], 28, 28, 1).astype('float32') / 255"
   ]
  },
  {
   "cell_type": "code",
   "execution_count": 2,
   "metadata": {},
   "outputs": [
    {
     "name": "stdout",
     "output_type": "stream",
     "text": [
      "(60000, 28, 28, 1)\n",
      "(10000, 28, 28, 1)\n"
     ]
    }
   ],
   "source": [
    "print(X_train.shape)\n",
    "print(X_test.shape)"
   ]
  },
  {
   "cell_type": "code",
   "execution_count": 9,
   "metadata": {},
   "outputs": [],
   "source": [
    "# 생성자 모델 생성\n",
    "autoencoder = Sequential()\n",
    "\n",
    "# 인코딩 부분 (차원 축소(MaxPooling))\n",
    "autoencoder.add(Conv2D(16, kernel_size=3, padding='same', input_shape=(28, 28,1),\n",
    "                      activation='relu'))\n",
    "autoencoder.add(MaxPooling2D(pool_size=2, padding='same'))\n",
    "autoencoder.add(Conv2D(8, kernel_size=3, activation='relu', padding='same'))\n",
    "autoencoder.add(MaxPooling2D(pool_size=2, padding='same'))\n",
    "autoencoder.add(Conv2D(8, kernel_size=3, strides=2, padding='same',\n",
    "                      activation='relu'))\n",
    "\n",
    "# 디코딩 부분 (차원을 점차 늘려 입력 값과 똑같은 크기의 출력 값을 내보냄(UpSampling))\n",
    "autoencoder.add(Conv2D(8, kernel_size=3, padding='same', activation='relu'))\n",
    "autoencoder.add(UpSampling2D())\n",
    "autoencoder.add(Conv2D(8, kernel_size=3, padding='same', activation='relu'))\n",
    "autoencoder.add(UpSampling2D())\n",
    "autoencoder.add(Conv2D(16, kernel_size=3, activation='relu')) # padding이 없음\n",
    "autoencoder.add(UpSampling2D())\n",
    "autoencoder.add(Conv2D(1, kernel_size=3, padding='same', activation='sigmoid'))"
   ]
  },
  {
   "cell_type": "code",
   "execution_count": 10,
   "metadata": {},
   "outputs": [
    {
     "name": "stdout",
     "output_type": "stream",
     "text": [
      "Model: \"sequential_3\"\n",
      "_________________________________________________________________\n",
      "Layer (type)                 Output Shape              Param #   \n",
      "=================================================================\n",
      "conv2d_9 (Conv2D)            (None, 28, 28, 16)        160       \n",
      "_________________________________________________________________\n",
      "max_pooling2d_5 (MaxPooling2 (None, 14, 14, 16)        0         \n",
      "_________________________________________________________________\n",
      "conv2d_10 (Conv2D)           (None, 14, 14, 8)         1160      \n",
      "_________________________________________________________________\n",
      "max_pooling2d_6 (MaxPooling2 (None, 7, 7, 8)           0         \n",
      "_________________________________________________________________\n",
      "conv2d_11 (Conv2D)           (None, 4, 4, 8)           584       \n",
      "_________________________________________________________________\n",
      "conv2d_12 (Conv2D)           (None, 4, 4, 8)           584       \n",
      "_________________________________________________________________\n",
      "up_sampling2d (UpSampling2D) (None, 8, 8, 8)           0         \n",
      "_________________________________________________________________\n",
      "conv2d_13 (Conv2D)           (None, 8, 8, 8)           584       \n",
      "_________________________________________________________________\n",
      "up_sampling2d_1 (UpSampling2 (None, 16, 16, 8)         0         \n",
      "_________________________________________________________________\n",
      "conv2d_14 (Conv2D)           (None, 14, 14, 16)        1168      \n",
      "_________________________________________________________________\n",
      "up_sampling2d_2 (UpSampling2 (None, 28, 28, 16)        0         \n",
      "_________________________________________________________________\n",
      "conv2d_15 (Conv2D)           (None, 28, 28, 1)         145       \n",
      "=================================================================\n",
      "Total params: 4,385\n",
      "Trainable params: 4,385\n",
      "Non-trainable params: 0\n",
      "_________________________________________________________________\n"
     ]
    }
   ],
   "source": [
    "# 전체 구조 확인 (마지막 층의 벡터 값이 28 * 28 임을 확인)\n",
    "autoencoder.summary()"
   ]
  },
  {
   "cell_type": "code",
   "execution_count": 14,
   "metadata": {},
   "outputs": [
    {
     "name": "stdout",
     "output_type": "stream",
     "text": [
      "Epoch 1/50\n",
      "469/469 [==============================] - 46s 98ms/step - loss: 0.2085 - val_loss: 0.1361\n",
      "Epoch 2/50\n",
      "469/469 [==============================] - 42s 89ms/step - loss: 0.1271 - val_loss: 0.1184\n",
      "Epoch 3/50\n",
      "469/469 [==============================] - 41s 87ms/step - loss: 0.1150 - val_loss: 0.1099\n",
      "Epoch 4/50\n",
      "469/469 [==============================] - 42s 89ms/step - loss: 0.1083 - val_loss: 0.1048\n",
      "Epoch 5/50\n",
      "469/469 [==============================] - 42s 89ms/step - loss: 0.1041 - val_loss: 0.1012\n",
      "Epoch 6/50\n",
      "469/469 [==============================] - 45s 97ms/step - loss: 0.1009 - val_loss: 0.0982\n",
      "Epoch 7/50\n",
      "469/469 [==============================] - 42s 90ms/step - loss: 0.0985 - val_loss: 0.0962\n",
      "Epoch 8/50\n",
      "469/469 [==============================] - 42s 90ms/step - loss: 0.0966 - val_loss: 0.0947\n",
      "Epoch 9/50\n",
      "469/469 [==============================] - 42s 90ms/step - loss: 0.0951 - val_loss: 0.0931\n",
      "Epoch 10/50\n",
      "469/469 [==============================] - 43s 91ms/step - loss: 0.0938 - val_loss: 0.0923\n",
      "Epoch 11/50\n",
      "469/469 [==============================] - 42s 89ms/step - loss: 0.0926 - val_loss: 0.0909\n",
      "Epoch 12/50\n",
      "469/469 [==============================] - 42s 90ms/step - loss: 0.0917 - val_loss: 0.0900\n",
      "Epoch 13/50\n",
      "469/469 [==============================] - 42s 89ms/step - loss: 0.0908 - val_loss: 0.0892\n",
      "Epoch 14/50\n",
      "469/469 [==============================] - 42s 89ms/step - loss: 0.0901 - val_loss: 0.0888\n",
      "Epoch 15/50\n",
      "469/469 [==============================] - 42s 89ms/step - loss: 0.0896 - val_loss: 0.0880\n",
      "Epoch 16/50\n",
      "469/469 [==============================] - 44s 93ms/step - loss: 0.0889 - val_loss: 0.0876\n",
      "Epoch 17/50\n",
      "469/469 [==============================] - 46s 98ms/step - loss: 0.0883 - val_loss: 0.0877\n",
      "Epoch 18/50\n",
      "469/469 [==============================] - 44s 93ms/step - loss: 0.0878 - val_loss: 0.0865\n",
      "Epoch 19/50\n",
      "469/469 [==============================] - 43s 91ms/step - loss: 0.0874 - val_loss: 0.0863\n",
      "Epoch 20/50\n",
      "469/469 [==============================] - 43s 91ms/step - loss: 0.0870 - val_loss: 0.0856\n",
      "Epoch 21/50\n",
      "469/469 [==============================] - 44s 93ms/step - loss: 0.0865 - val_loss: 0.0853\n",
      "Epoch 22/50\n",
      "469/469 [==============================] - 43s 91ms/step - loss: 0.0862 - val_loss: 0.0848\n",
      "Epoch 23/50\n",
      "469/469 [==============================] - 43s 93ms/step - loss: 0.0859 - val_loss: 0.0849\n",
      "Epoch 24/50\n",
      "469/469 [==============================] - 44s 94ms/step - loss: 0.0855 - val_loss: 0.0843\n",
      "Epoch 25/50\n",
      "469/469 [==============================] - 43s 92ms/step - loss: 0.0852 - val_loss: 0.0839\n",
      "Epoch 26/50\n",
      "469/469 [==============================] - 43s 92ms/step - loss: 0.0849 - val_loss: 0.0836\n",
      "Epoch 27/50\n",
      "469/469 [==============================] - 45s 95ms/step - loss: 0.0846 - val_loss: 0.0837\n",
      "Epoch 28/50\n",
      "469/469 [==============================] - 45s 95ms/step - loss: 0.0843 - val_loss: 0.0830\n",
      "Epoch 29/50\n",
      "469/469 [==============================] - 44s 93ms/step - loss: 0.0840 - val_loss: 0.0828\n",
      "Epoch 30/50\n",
      "469/469 [==============================] - 44s 94ms/step - loss: 0.0838 - val_loss: 0.0826\n",
      "Epoch 31/50\n",
      "469/469 [==============================] - 45s 95ms/step - loss: 0.0836 - val_loss: 0.0825\n",
      "Epoch 32/50\n",
      "469/469 [==============================] - 43s 91ms/step - loss: 0.0834 - val_loss: 0.0822\n",
      "Epoch 33/50\n",
      "469/469 [==============================] - 43s 92ms/step - loss: 0.0831 - val_loss: 0.0828\n",
      "Epoch 34/50\n",
      "469/469 [==============================] - 44s 94ms/step - loss: 0.0830 - val_loss: 0.0819\n",
      "Epoch 35/50\n",
      "469/469 [==============================] - 42s 91ms/step - loss: 0.0827 - val_loss: 0.0817\n",
      "Epoch 36/50\n",
      "469/469 [==============================] - 42s 90ms/step - loss: 0.0826 - val_loss: 0.0814\n",
      "Epoch 37/50\n",
      "469/469 [==============================] - 43s 92ms/step - loss: 0.0824 - val_loss: 0.0812\n",
      "Epoch 38/50\n",
      "469/469 [==============================] - 43s 92ms/step - loss: 0.0822 - val_loss: 0.0811\n",
      "Epoch 39/50\n",
      "469/469 [==============================] - 42s 90ms/step - loss: 0.0821 - val_loss: 0.0810\n",
      "Epoch 40/50\n",
      "469/469 [==============================] - 45s 96ms/step - loss: 0.0819 - val_loss: 0.0808\n",
      "Epoch 41/50\n",
      "469/469 [==============================] - 45s 96ms/step - loss: 0.0818 - val_loss: 0.0810\n",
      "Epoch 42/50\n",
      "469/469 [==============================] - 42s 90ms/step - loss: 0.0817 - val_loss: 0.0807\n",
      "Epoch 43/50\n",
      "469/469 [==============================] - 43s 91ms/step - loss: 0.0815 - val_loss: 0.0803\n",
      "Epoch 44/50\n",
      "469/469 [==============================] - 42s 91ms/step - loss: 0.0814 - val_loss: 0.0803\n",
      "Epoch 45/50\n",
      "469/469 [==============================] - 42s 90ms/step - loss: 0.0812 - val_loss: 0.0802\n",
      "Epoch 46/50\n",
      "469/469 [==============================] - 43s 93ms/step - loss: 0.0811 - val_loss: 0.0800\n",
      "Epoch 47/50\n",
      "469/469 [==============================] - 42s 89ms/step - loss: 0.0810 - val_loss: 0.0800\n",
      "Epoch 48/50\n",
      "469/469 [==============================] - 43s 91ms/step - loss: 0.0808 - val_loss: 0.0798\n",
      "Epoch 49/50\n",
      "469/469 [==============================] - 43s 91ms/step - loss: 0.0807 - val_loss: 0.0798\n",
      "Epoch 50/50\n",
      "469/469 [==============================] - 43s 92ms/step - loss: 0.0806 - val_loss: 0.0795\n"
     ]
    },
    {
     "ename": "ValueError",
     "evalue": "Illegal argument(s) to subplot: (2, 7, 7, 1)",
     "output_type": "error",
     "traceback": [
      "\u001b[1;31m---------------------------------------------------------------------------\u001b[0m",
      "\u001b[1;31mValueError\u001b[0m                                Traceback (most recent call last)",
      "\u001b[1;32m<ipython-input-14-331d3eafb091>\u001b[0m in \u001b[0;36m<module>\u001b[1;34m\u001b[0m\n\u001b[0;32m     13\u001b[0m     \u001b[0mplt\u001b[0m\u001b[1;33m.\u001b[0m\u001b[0mimshow\u001b[0m\u001b[1;33m(\u001b[0m\u001b[0mX_test\u001b[0m\u001b[1;33m[\u001b[0m\u001b[0mimage_idx\u001b[0m\u001b[1;33m]\u001b[0m\u001b[1;33m.\u001b[0m\u001b[0mreshape\u001b[0m\u001b[1;33m(\u001b[0m\u001b[1;36m28\u001b[0m\u001b[1;33m,\u001b[0m \u001b[1;36m28\u001b[0m\u001b[1;33m)\u001b[0m\u001b[1;33m)\u001b[0m \u001b[1;31m# 테스트할 이미지를 먼저 그대로 보여줌\u001b[0m\u001b[1;33m\u001b[0m\u001b[1;33m\u001b[0m\u001b[0m\n\u001b[0;32m     14\u001b[0m     \u001b[0max\u001b[0m\u001b[1;33m.\u001b[0m\u001b[0maxis\u001b[0m\u001b[1;33m(\u001b[0m\u001b[1;34m'off'\u001b[0m\u001b[1;33m)\u001b[0m\u001b[1;33m\u001b[0m\u001b[1;33m\u001b[0m\u001b[0m\n\u001b[1;32m---> 15\u001b[1;33m     \u001b[0max\u001b[0m \u001b[1;33m=\u001b[0m \u001b[0mplt\u001b[0m\u001b[1;33m.\u001b[0m\u001b[0msubplot\u001b[0m\u001b[1;33m(\u001b[0m\u001b[1;36m2\u001b[0m\u001b[1;33m,\u001b[0m \u001b[1;36m7\u001b[0m\u001b[1;33m,\u001b[0m \u001b[1;36m7\u001b[0m\u001b[1;33m,\u001b[0m \u001b[1;33m+\u001b[0m \u001b[0mi\u001b[0m \u001b[1;33m+\u001b[0m \u001b[1;36m1\u001b[0m\u001b[1;33m)\u001b[0m\u001b[1;33m\u001b[0m\u001b[1;33m\u001b[0m\u001b[0m\n\u001b[0m\u001b[0;32m     16\u001b[0m     \u001b[0mplt\u001b[0m\u001b[1;33m.\u001b[0m\u001b[0mimshow\u001b[0m\u001b[1;33m(\u001b[0m\u001b[0mae_imgs\u001b[0m\u001b[1;33m[\u001b[0m\u001b[0mimage_idx\u001b[0m\u001b[1;33m]\u001b[0m\u001b[1;33m.\u001b[0m\u001b[0mreshape\u001b[0m\u001b[1;33m(\u001b[0m\u001b[1;36m28\u001b[0m\u001b[1;33m,\u001b[0m \u001b[1;36m28\u001b[0m\u001b[1;33m)\u001b[0m\u001b[1;33m)\u001b[0m \u001b[1;31m# 오토인코딩 결과를 다음 열에 출력\u001b[0m\u001b[1;33m\u001b[0m\u001b[1;33m\u001b[0m\u001b[0m\n\u001b[0;32m     17\u001b[0m     \u001b[0max\u001b[0m\u001b[1;33m.\u001b[0m\u001b[0maxis\u001b[0m\u001b[1;33m(\u001b[0m\u001b[1;34m'off'\u001b[0m\u001b[1;33m)\u001b[0m\u001b[1;33m\u001b[0m\u001b[1;33m\u001b[0m\u001b[0m\n",
      "\u001b[1;32m~\\Anaconda3\\lib\\site-packages\\matplotlib\\pyplot.py\u001b[0m in \u001b[0;36msubplot\u001b[1;34m(*args, **kwargs)\u001b[0m\n\u001b[0;32m   1074\u001b[0m \u001b[1;33m\u001b[0m\u001b[0m\n\u001b[0;32m   1075\u001b[0m     \u001b[0mfig\u001b[0m \u001b[1;33m=\u001b[0m \u001b[0mgcf\u001b[0m\u001b[1;33m(\u001b[0m\u001b[1;33m)\u001b[0m\u001b[1;33m\u001b[0m\u001b[1;33m\u001b[0m\u001b[0m\n\u001b[1;32m-> 1076\u001b[1;33m     \u001b[0ma\u001b[0m \u001b[1;33m=\u001b[0m \u001b[0mfig\u001b[0m\u001b[1;33m.\u001b[0m\u001b[0madd_subplot\u001b[0m\u001b[1;33m(\u001b[0m\u001b[1;33m*\u001b[0m\u001b[0margs\u001b[0m\u001b[1;33m,\u001b[0m \u001b[1;33m**\u001b[0m\u001b[0mkwargs\u001b[0m\u001b[1;33m)\u001b[0m\u001b[1;33m\u001b[0m\u001b[1;33m\u001b[0m\u001b[0m\n\u001b[0m\u001b[0;32m   1077\u001b[0m     \u001b[0mbbox\u001b[0m \u001b[1;33m=\u001b[0m \u001b[0ma\u001b[0m\u001b[1;33m.\u001b[0m\u001b[0mbbox\u001b[0m\u001b[1;33m\u001b[0m\u001b[1;33m\u001b[0m\u001b[0m\n\u001b[0;32m   1078\u001b[0m     \u001b[0mbyebye\u001b[0m \u001b[1;33m=\u001b[0m \u001b[1;33m[\u001b[0m\u001b[1;33m]\u001b[0m\u001b[1;33m\u001b[0m\u001b[1;33m\u001b[0m\u001b[0m\n",
      "\u001b[1;32m~\\Anaconda3\\lib\\site-packages\\matplotlib\\figure.py\u001b[0m in \u001b[0;36madd_subplot\u001b[1;34m(self, *args, **kwargs)\u001b[0m\n\u001b[0;32m   1412\u001b[0m                     \u001b[0mself\u001b[0m\u001b[1;33m.\u001b[0m\u001b[0m_axstack\u001b[0m\u001b[1;33m.\u001b[0m\u001b[0mremove\u001b[0m\u001b[1;33m(\u001b[0m\u001b[0max\u001b[0m\u001b[1;33m)\u001b[0m\u001b[1;33m\u001b[0m\u001b[1;33m\u001b[0m\u001b[0m\n\u001b[0;32m   1413\u001b[0m \u001b[1;33m\u001b[0m\u001b[0m\n\u001b[1;32m-> 1414\u001b[1;33m             \u001b[0ma\u001b[0m \u001b[1;33m=\u001b[0m \u001b[0msubplot_class_factory\u001b[0m\u001b[1;33m(\u001b[0m\u001b[0mprojection_class\u001b[0m\u001b[1;33m)\u001b[0m\u001b[1;33m(\u001b[0m\u001b[0mself\u001b[0m\u001b[1;33m,\u001b[0m \u001b[1;33m*\u001b[0m\u001b[0margs\u001b[0m\u001b[1;33m,\u001b[0m \u001b[1;33m**\u001b[0m\u001b[0mkwargs\u001b[0m\u001b[1;33m)\u001b[0m\u001b[1;33m\u001b[0m\u001b[1;33m\u001b[0m\u001b[0m\n\u001b[0m\u001b[0;32m   1415\u001b[0m \u001b[1;33m\u001b[0m\u001b[0m\n\u001b[0;32m   1416\u001b[0m         \u001b[1;32mreturn\u001b[0m \u001b[0mself\u001b[0m\u001b[1;33m.\u001b[0m\u001b[0m_add_axes_internal\u001b[0m\u001b[1;33m(\u001b[0m\u001b[0mkey\u001b[0m\u001b[1;33m,\u001b[0m \u001b[0ma\u001b[0m\u001b[1;33m)\u001b[0m\u001b[1;33m\u001b[0m\u001b[1;33m\u001b[0m\u001b[0m\n",
      "\u001b[1;32m~\\Anaconda3\\lib\\site-packages\\matplotlib\\axes\\_subplots.py\u001b[0m in \u001b[0;36m__init__\u001b[1;34m(self, fig, *args, **kwargs)\u001b[0m\n\u001b[0;32m     62\u001b[0m                 \u001b[1;31m# num - 1 for converting from MATLAB to python indexing\u001b[0m\u001b[1;33m\u001b[0m\u001b[1;33m\u001b[0m\u001b[1;33m\u001b[0m\u001b[0m\n\u001b[0;32m     63\u001b[0m         \u001b[1;32melse\u001b[0m\u001b[1;33m:\u001b[0m\u001b[1;33m\u001b[0m\u001b[1;33m\u001b[0m\u001b[0m\n\u001b[1;32m---> 64\u001b[1;33m             \u001b[1;32mraise\u001b[0m \u001b[0mValueError\u001b[0m\u001b[1;33m(\u001b[0m\u001b[1;34mf'Illegal argument(s) to subplot: {args}'\u001b[0m\u001b[1;33m)\u001b[0m\u001b[1;33m\u001b[0m\u001b[1;33m\u001b[0m\u001b[0m\n\u001b[0m\u001b[0;32m     65\u001b[0m \u001b[1;33m\u001b[0m\u001b[0m\n\u001b[0;32m     66\u001b[0m         \u001b[0mself\u001b[0m\u001b[1;33m.\u001b[0m\u001b[0mupdate_params\u001b[0m\u001b[1;33m(\u001b[0m\u001b[1;33m)\u001b[0m\u001b[1;33m\u001b[0m\u001b[1;33m\u001b[0m\u001b[0m\n",
      "\u001b[1;31mValueError\u001b[0m: Illegal argument(s) to subplot: (2, 7, 7, 1)"
     ]
    },
    {
     "data": {
      "image/png": "[encoded data removed]",
      "text/plain": [
       "<Figure size 504x144 with 1 Axes>"
      ]
     },
     "metadata": {
      "needs_background": "light"
     },
     "output_type": "display_data"
    }
   ],
   "source": [
    "# 컴파일 및 학습 부분\n",
    "autoencoder.compile(optimizer='adam', loss='binary_crossentropy')\n",
    "autoencoder.fit(X_train, X_train, epochs=50, batch_size=128,\\\n",
    "               validation_data=(X_test, X_test))\n",
    "\n",
    "# 학습된 결과 출력 부분\n",
    "random_test = np.random.randint(X_test.shape[0], size=5)\n",
    "ae_imgs = autoencoder.predict(X_test) # 앞서 만든 오토인코더 모델에 집어 넣음\n",
    "plt.figure(figsize=(7, 2)) # 출력될 이미지의 크기를 정함\n",
    "\n",
    "for i, image_idx in enumerate(random_test): # 랜덤하게 뽑은 이미지를 차례로 나열\n",
    "    ax = plt.subplot(2, 7, i + 1)\n",
    "    plt.imshow(X_test[image_idx].reshape(28, 28)) # 테스트할 이미지를 먼저 그대로 보여줌\n",
    "    ax.axis('off')\n",
    "    ax = plt.subplot(2, 7, 7 + i + 1)\n",
    "    plt.imshow(ae_imgs[image_idx].reshape(28, 28)) # 오토인코딩 결과를 다음 열에 출력\n",
    "    ax.axis('off')\n",
    "plt.show()"
   ]
  },
  {
   "cell_type": "code",
   "execution_count": null,
   "metadata": {},
   "outputs": [],
   "source": []
  }
 ],
 "metadata": {
  "kernelspec": {
   "display_name": "Python 3",
   "language": "python",
   "name": "python3"
  },
  "language_info": {
   "codemirror_mode": {
    "name": "ipython",
    "version": 3
   },
   "file_extension": ".py",
   "mimetype": "text/x-python",
   "name": "python",
   "nbconvert_exporter": "python",
   "pygments_lexer": "ipython3",
   "version": "3.7.4"
  }
 },
 "nbformat": 4,
 "nbformat_minor": 2
}
