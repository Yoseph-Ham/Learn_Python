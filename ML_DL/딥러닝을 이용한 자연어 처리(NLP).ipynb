{
 "cells": [
  {
   "cell_type": "code",
   "execution_count": 1,
   "id": "0ea1286c",
   "metadata": {},
   "outputs": [],
   "source": [
    "import numpy as np\n",
    "import tensorflow as tf\n",
    "from numpy import array\n",
    "from tensorflow.keras.preprocessing.text import Tokenizer\n",
    "from tensorflow.keras.preprocessing.sequence import pad_sequences\n",
    "from tensorflow.keras.models import Sequential\n",
    "from tensorflow.keras.layers import Dense, Flatten, Embedding\n"
   ]
  },
  {
   "cell_type": "markdown",
   "id": "a976e70c",
   "metadata": {},
   "source": [
    "## 토큰화"
   ]
  },
  {
   "cell_type": "code",
   "execution_count": 4,
   "id": "08a28043",
   "metadata": {},
   "outputs": [
    {
     "name": "stdout",
     "output_type": "stream",
     "text": [
      "\n",
      "원문:\n",
      " 해보지 않으면 해낼 수 없다\n",
      "\n",
      "토큰화:\n",
      " ['해보지', '않으면', '해낼', '수', '없다']\n"
     ]
    }
   ],
   "source": [
    "from tensorflow.keras.preprocessing.text import text_to_word_sequence\n",
    "\n",
    "text = \"해보지 않으면 해낼 수 없다\"\n",
    "result = text_to_word_sequence(text) # text_to_word_sequence() : 토큰화\n",
    "print('\\n원문:\\n', text)\n",
    "print('\\n토큰화:\\n', result)"
   ]
  },
  {
   "cell_type": "markdown",
   "id": "441d8ae8",
   "metadata": {},
   "source": [
    "# 빈도수"
   ]
  },
  {
   "cell_type": "code",
   "execution_count": 12,
   "id": "5b727b45",
   "metadata": {},
   "outputs": [
    {
     "name": "stdout",
     "output_type": "stream",
     "text": [
      "\n",
      "단어 카운트:\n",
      " OrderedDict([('먼저', 1), ('테스트의', 1), ('각', 1), ('단어를', 1), ('나누어', 1), ('토큰화합니다', 1), ('텍스트의', 1), ('단어로', 1), ('토큰화해야', 1), ('딥러닝에서', 2), ('인식됩니다', 1), ('토큰화한', 1), ('결과는', 1), ('사용할', 1), ('수', 1), ('있습니다', 1)])\n",
      "\n",
      "문장 카운트:  3\n",
      "\n",
      "각 단어가 몇개의 문장에 포함되어 있는가:\n",
      " defaultdict(<class 'int'>, {'먼저': 1, '토큰화합니다': 1, '각': 1, '테스트의': 1, '나누어': 1, '단어를': 1, '인식됩니다': 1, '텍스트의': 1, '딥러닝에서': 2, '단어로': 1, '토큰화해야': 1, '토큰화한': 1, '수': 1, '사용할': 1, '있습니다': 1, '결과는': 1})\n",
      "\n",
      "각 단어에 매겨진 인덱스 값:\n",
      " {'딥러닝에서': 1, '먼저': 2, '테스트의': 3, '각': 4, '단어를': 5, '나누어': 6, '토큰화합니다': 7, '텍스트의': 8, '단어로': 9, '토큰화해야': 10, '인식됩니다': 11, '토큰화한': 12, '결과는': 13, '사용할': 14, '수': 15, '있습니다': 16}\n"
     ]
    }
   ],
   "source": [
    "from tensorflow.keras.preprocessing.text import Tokenizer\n",
    "\n",
    "docs = ['먼저 테스트의 각 단어를 나누어 토큰화합니다.',\n",
    "       '텍스트의 단어로 토큰화해야 딥러닝에서 인식됩니다.',\n",
    "       '토큰화한 결과는 딥러닝에서 사용할 수 있습니다.']\n",
    "\n",
    "token = Tokenizer() #토큰화 함수 지정\n",
    "token.fit_on_texts(docs) #토큰화 함수에 문장 적용\n",
    "\n",
    "print(\"\\n단어 카운트:\\n\", token.word_counts) #단어의 빈도 수를 계산한 결과 출력\n",
    "\n",
    "print(\"\\n문장 카운트: \", token.document_count)\n",
    "\n",
    "# word_docs() : 각 단어가 몇개의 문장에서 나오는 지 출력\n",
    "print(\"\\n각 단어가 몇개의 문장에 포함되어 있는가:\\n\", token.word_docs) \n",
    "\n",
    "# word_index() : 각 단어에 매겨진 인덱스 값을 출력\n",
    "print(\"\\n각 단어에 매겨진 인덱스 값:\\n\", token.word_index)"
   ]
  },
  {
   "cell_type": "markdown",
   "id": "7bbd9b7d",
   "metadata": {},
   "source": [
    "## 단어의 원-핫 인코딩"
   ]
  },
  {
   "cell_type": "code",
   "execution_count": 13,
   "id": "3c59d69b",
   "metadata": {},
   "outputs": [
    {
     "name": "stdout",
     "output_type": "stream",
     "text": [
      "{'오랫동안': 1, '꿈꾸는': 2, '이는': 3, '그': 4, '꿈을': 5, '닮아간다': 6}\n"
     ]
    }
   ],
   "source": [
    "from tensorflow.keras.preprocessing.text import Tokenizer\n",
    "\n",
    "text = '오랫동안 꿈꾸는 이는 그 꿈을 닮아간다'\n",
    "\n",
    "token = Tokenizer()\n",
    "token.fit_on_texts([text])\n",
    "print(token.word_index) # 단어 단위로 토큰화하고 단어의 인덱스 값 출력"
   ]
  },
  {
   "cell_type": "code",
   "execution_count": 15,
   "id": "03292ada",
   "metadata": {},
   "outputs": [
    {
     "name": "stdout",
     "output_type": "stream",
     "text": [
      "[[1, 2, 3, 4, 5, 6]]\n"
     ]
    }
   ],
   "source": [
    "x = token.texts_to_sequences([text])\n",
    "print(x) # 인덱스로만 채워진 배열"
   ]
  },
  {
   "cell_type": "code",
   "execution_count": 18,
   "id": "926aa349",
   "metadata": {},
   "outputs": [
    {
     "name": "stdout",
     "output_type": "stream",
     "text": [
      "[[[0. 1. 0. 0. 0. 0. 0.]\n",
      "  [0. 0. 1. 0. 0. 0. 0.]\n",
      "  [0. 0. 0. 1. 0. 0. 0.]\n",
      "  [0. 0. 0. 0. 1. 0. 0.]\n",
      "  [0. 0. 0. 0. 0. 1. 0.]\n",
      "  [0. 0. 0. 0. 0. 0. 1.]]]\n"
     ]
    }
   ],
   "source": [
    "# to_categorical() 함수를 사용해\n",
    "# 1~6까지의 정수로 이루어진 배열을 0과 1로만 이루어진 배열로 변경\n",
    "\n",
    "from tensorflow.keras.utils import to_categorical\n",
    "\n",
    "word_size = len(token.word_index)+1\n",
    "x = to_categorical(x, num_classes=word_size)\n",
    "\n",
    "print(x)"
   ]
  },
  {
   "cell_type": "markdown",
   "id": "deb195ff",
   "metadata": {},
   "source": [
    "# 단어 임베딩"
   ]
  },
  {
   "cell_type": "code",
   "execution_count": 21,
   "id": "0923b34d",
   "metadata": {},
   "outputs": [],
   "source": [
    "# 단어의 유사도 계산\n",
    "from tensorflow.keras.layers import Embedding\n",
    "\n",
    "model = Sequential()\n",
    "model.add(Embedding(16, 4)) # 입력될 총 단어 수는 16, 임베딩 후 출력 되는 벡터 크기는 4"
   ]
  },
  {
   "cell_type": "markdown",
   "id": "a2c37aaf",
   "metadata": {},
   "source": [
    "# 텍스트를 읽고 긍정, 부정 예측하기"
   ]
  },
  {
   "cell_type": "code",
   "execution_count": 27,
   "id": "ca53045e",
   "metadata": {},
   "outputs": [],
   "source": [
    "# 짧은 리뷰 10개를 불러와 긍정이면 1, 부정이면 0 클래스로 지정\n",
    "\n",
    "# 텍스트 리뷰를 지정\n",
    "docs = ['너무 재밌네요', '최고예요', '참 잘 만든 영화예요', '추천하고 싶은 영화입니다',\n",
    "       '한 번 더 보고싶네요', '글쎄요', '별로예요', '생각보다 지루하네요',\n",
    "       '연기가 어색해요', '재미없어요']\n",
    "\n",
    "# 긍정리뷰는 1, 부정리뷰는 0으로 지정\n",
    "classes = array([1,1,1,1,1,0,0,0,0,0])"
   ]
  },
  {
   "cell_type": "code",
   "execution_count": 32,
   "id": "2ab79623",
   "metadata": {},
   "outputs": [
    {
     "name": "stdout",
     "output_type": "stream",
     "text": [
      "{'너무': 1, '재밌네요': 2, '최고예요': 3, '참': 4, '잘': 5, '만든': 6, '영화예요': 7, '추천하고': 8, '싶은': 9, '영화입니다': 10, '한': 11, '번': 12, '더': 13, '보고싶네요': 14, '글쎄요': 15, '별로예요': 16, '생각보다': 17, '지루하네요': 18, '연기가': 19, '어색해요': 20, '재미없어요': 21}\n",
      "\n",
      " 리뷰 텍스트, 토큰화 결과:\n",
      " [[1, 2], [3], [4, 5, 6, 7], [8, 9, 10], [11, 12, 13, 14], [15], [16], [17, 18], [19, 20], [21]]\n",
      "\n",
      " 패딩 결과:\n",
      " [[ 0  0  1  2]\n",
      " [ 0  0  0  3]\n",
      " [ 4  5  6  7]\n",
      " [ 0  8  9 10]\n",
      " [11 12 13 14]\n",
      " [ 0  0  0 15]\n",
      " [ 0  0  0 16]\n",
      " [ 0  0 17 18]\n",
      " [ 0  0 19 20]\n",
      " [ 0  0  0 21]]\n",
      "\n",
      " 딥러닝 모델 시작:\n",
      "Epoch 1/20\n",
      "1/1 [==============================] - 0s 2ms/step - loss: 0.6970 - accuracy: 0.5000\n",
      "Epoch 2/20\n",
      "1/1 [==============================] - 0s 1ms/step - loss: 0.6951 - accuracy: 0.6000\n",
      "Epoch 3/20\n",
      "1/1 [==============================] - 0s 1ms/step - loss: 0.6933 - accuracy: 0.6000\n",
      "Epoch 4/20\n",
      "1/1 [==============================] - 0s 0s/step - loss: 0.6914 - accuracy: 0.6000\n",
      "Epoch 5/20\n",
      "1/1 [==============================] - 0s 1000us/step - loss: 0.6896 - accuracy: 0.6000\n",
      "Epoch 6/20\n",
      "1/1 [==============================] - 0s 984us/step - loss: 0.6878 - accuracy: 0.6000\n",
      "Epoch 7/20\n",
      "1/1 [==============================] - 0s 998us/step - loss: 0.6859 - accuracy: 0.7000\n",
      "Epoch 8/20\n",
      "1/1 [==============================] - 0s 999us/step - loss: 0.6841 - accuracy: 0.7000\n",
      "Epoch 9/20\n",
      "1/1 [==============================] - 0s 2ms/step - loss: 0.6823 - accuracy: 0.7000\n",
      "Epoch 10/20\n",
      "1/1 [==============================] - 0s 998us/step - loss: 0.6805 - accuracy: 0.7000\n",
      "Epoch 11/20\n",
      "1/1 [==============================] - 0s 998us/step - loss: 0.6787 - accuracy: 0.7000\n",
      "Epoch 12/20\n",
      "1/1 [==============================] - 0s 999us/step - loss: 0.6769 - accuracy: 0.8000\n",
      "Epoch 13/20\n",
      "1/1 [==============================] - 0s 1ms/step - loss: 0.6751 - accuracy: 0.9000\n",
      "Epoch 14/20\n",
      "1/1 [==============================] - 0s 1000us/step - loss: 0.6733 - accuracy: 0.9000\n",
      "Epoch 15/20\n",
      "1/1 [==============================] - 0s 1ms/step - loss: 0.6715 - accuracy: 0.9000\n",
      "Epoch 16/20\n",
      "1/1 [==============================] - 0s 999us/step - loss: 0.6697 - accuracy: 0.9000\n",
      "Epoch 17/20\n",
      "1/1 [==============================] - 0s 1ms/step - loss: 0.6679 - accuracy: 0.9000\n",
      "Epoch 18/20\n",
      "1/1 [==============================] - 0s 1000us/step - loss: 0.6661 - accuracy: 0.9000\n",
      "Epoch 19/20\n",
      "1/1 [==============================] - 0s 999us/step - loss: 0.6643 - accuracy: 0.9000\n",
      "Epoch 20/20\n",
      "1/1 [==============================] - 0s 999us/step - loss: 0.6624 - accuracy: 0.9000\n",
      "1/1 [==============================] - 0s 1ms/step - loss: 0.6605 - accuracy: 0.9000\n",
      "\n",
      " Accuracy: 0.9000\n"
     ]
    }
   ],
   "source": [
    "token = Tokenizer()\n",
    "token.fit_on_texts(docs)\n",
    "print(token.word_index)\n",
    "x = token.texts_to_sequences(docs)\n",
    "print(\"\\n 리뷰 텍스트, 토큰화 결과:\\n\", x)\n",
    "padded_x = pad_sequences(x, 4) # 길이를 4로 맞춤\n",
    "print('\\n 패딩 결과:\\n', padded_x)\n",
    "print('\\n 딥러닝 모델 시작:')\n",
    "word_size = len(token.word_index) + 1 # 맨앞엔 0이 나와야하기 때문에 +1\n",
    "# 단어 임베딩을 포함하여 딥러닝 모델을 만들고 결과를 출력\n",
    "model = Sequential()\n",
    "model.add(Embedding(word_size, 8, input_length=4)) # 입력, 출력, 단어 수\n",
    "model.add(Flatten())\n",
    "model.add(Dense(1, activation='sigmoid'))\n",
    "model.compile(optimizer='adam', loss='binary_crossentropy',\n",
    "            metrics=['accuracy'])\n",
    "model.fit(padded_x, classes, epochs=20)\n",
    "print('\\n Accuracy: %.4f' % (model.evaluate(padded_x, classes)[1]))"
   ]
  },
  {
   "cell_type": "code",
   "execution_count": null,
   "id": "46a29d24",
   "metadata": {},
   "outputs": [],
   "source": []
  }
 ],
 "metadata": {
  "kernelspec": {
   "display_name": "Python 3",
   "language": "python",
   "name": "python3"
  },
  "language_info": {
   "codemirror_mode": {
    "name": "ipython",
    "version": 3
   },
   "file_extension": ".py",
   "mimetype": "text/x-python",
   "name": "python",
   "nbconvert_exporter": "python",
   "pygments_lexer": "ipython3",
   "version": "3.8.8"
  }
 },
 "nbformat": 4,
 "nbformat_minor": 5
}
