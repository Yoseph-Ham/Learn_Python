{
 "cells": [
  {
   "cell_type": "code",
   "execution_count": 2,
   "metadata": {},
   "outputs": [],
   "source": [
    "import tensorflow as tf\n",
    "import numpy as np\n",
    "import matplotlib.pyplot as plt\n",
    "\n",
    "from tensorflow.keras.models import Sequential\n",
    "from tensorflow.keras.layers import Dense, Activation, Dropout, Flatten, Conv2D, MaxPooling2D\n",
    "from tensorflow.keras.preprocessing.image import ImageDataGenerator\n",
    "from tensorflow.keras import optimizers, initializers, regularizers, metrics"
   ]
  },
  {
   "cell_type": "code",
   "execution_count": 21,
   "metadata": {},
   "outputs": [
    {
     "name": "stdout",
     "output_type": "stream",
     "text": [
      "Found 160 images belonging to 2 classes.\n",
      "Found 120 images belonging to 2 classes.\n"
     ]
    }
   ],
   "source": [
    "np.random.seed(3)\n",
    "tf.random.set_seed(3)\n",
    "\n",
    "train_datagen = ImageDataGenerator(rescale=1./255,\n",
    "                                  horizontal_flip=True, # 수평 대칭 이미지를 50% 확률\n",
    "                                  width_shift_range=0.1, # 전체 크기의 10% 범위에서 좌우로\n",
    "                                  height_shift_range=0.1, # 마찬가지로 위, 아래 이동\n",
    "                                  fill_mode='nearest')\n",
    "\n",
    "train_generator = train_datagen.flow_from_directory('./train', # 학습셋이 있는 폴더 위치\n",
    "                                                target_size=(150, 150),\n",
    "                                                   batch_size=5,\n",
    "                                                   class_mode='binary')\n",
    "\n",
    "# 테스트 셋은 이미지 부풀리기 과정을 진행하지 않는다.\n",
    "test_datagen = ImageDataGenerator(rescale=1./255)\n",
    "\n",
    "test_generator = test_datagen.flow_from_directory('./test', # 테스트 셋이 있는 폴더 위치\n",
    "                                                 target_size=(150, 150),\n",
    "                                                 batch_size=5,\n",
    "                                                 class_mode='binary')"
   ]
  },
  {
   "cell_type": "code",
   "execution_count": 22,
   "metadata": {},
   "outputs": [],
   "source": [
    "# CNN 모델 적용\n",
    "model = Sequential()\n",
    "model.add(Conv2D(32, (3, 3), input_shape=(150, 150, 3)))\n",
    "model.add(Activation('relu'))\n",
    "model.add(MaxPooling2D(pool_size=(2, 2)))\n",
    "\n",
    "model.add(Conv2D(32, (3, 3)))\n",
    "model.add(Activation('relu'))\n",
    "model.add(MaxPooling2D(pool_size=(2, 2)))\n",
    "\n",
    "model.add(Conv2D(64, (3, 3)))\n",
    "model.add(Activation('relu'))\n",
    "model.add(MaxPooling2D(pool_size=(2, 2)))\n",
    "\n",
    "model.add(Flatten())\n",
    "model.add(Dense(64))\n",
    "model.add(Activation('relu'))\n",
    "model.add(Dropout(0.5))\n",
    "model.add(Dense(2))\n",
    "model.add(Activation('softmax'))\n"
   ]
  },
  {
   "cell_type": "code",
   "execution_count": 28,
   "metadata": {},
   "outputs": [
    {
     "name": "stdout",
     "output_type": "stream",
     "text": [
      "Epoch 1/50\n",
      "30/30 [==============================] - 2s 78ms/step - loss: 0.3361 - accuracy: 0.8333 - val_loss: 0.2644 - val_accuracy: 0.9000\n",
      "Epoch 2/50\n",
      "30/30 [==============================] - 2s 71ms/step - loss: 0.2567 - accuracy: 0.9067 - val_loss: 0.1429 - val_accuracy: 0.9500\n",
      "Epoch 3/50\n",
      "30/30 [==============================] - 2s 72ms/step - loss: 0.2690 - accuracy: 0.8933 - val_loss: 0.1674 - val_accuracy: 0.9000\n",
      "Epoch 4/50\n",
      "30/30 [==============================] - 2s 74ms/step - loss: 0.2610 - accuracy: 0.9200 - val_loss: 0.2041 - val_accuracy: 0.9000\n",
      "Epoch 5/50\n",
      "30/30 [==============================] - 2s 72ms/step - loss: 0.1964 - accuracy: 0.9400 - val_loss: 0.0837 - val_accuracy: 1.0000\n",
      "Epoch 6/50\n",
      "30/30 [==============================] - 2s 73ms/step - loss: 0.2336 - accuracy: 0.8867 - val_loss: 0.2245 - val_accuracy: 0.9000\n",
      "Epoch 7/50\n",
      "30/30 [==============================] - 2s 72ms/step - loss: 0.1921 - accuracy: 0.9133 - val_loss: 0.1757 - val_accuracy: 0.9500\n",
      "Epoch 8/50\n",
      "30/30 [==============================] - 2s 72ms/step - loss: 0.1930 - accuracy: 0.9400 - val_loss: 0.0741 - val_accuracy: 1.0000\n",
      "Epoch 9/50\n",
      "30/30 [==============================] - 2s 72ms/step - loss: 0.2130 - accuracy: 0.9400 - val_loss: 0.2278 - val_accuracy: 0.9500\n",
      "Epoch 10/50\n",
      "30/30 [==============================] - 2s 72ms/step - loss: 0.1824 - accuracy: 0.9467 - val_loss: 0.0531 - val_accuracy: 1.0000\n",
      "Epoch 11/50\n",
      "30/30 [==============================] - 2s 71ms/step - loss: 0.1951 - accuracy: 0.9267 - val_loss: 0.0947 - val_accuracy: 0.9500\n",
      "Epoch 12/50\n",
      "30/30 [==============================] - 2s 79ms/step - loss: 0.1625 - accuracy: 0.9533 - val_loss: 0.1280 - val_accuracy: 0.9500\n",
      "Epoch 13/50\n",
      "30/30 [==============================] - 3s 84ms/step - loss: 0.1655 - accuracy: 0.9200 - val_loss: 0.0289 - val_accuracy: 1.0000\n",
      "Epoch 14/50\n",
      "30/30 [==============================] - 3s 89ms/step - loss: 0.1854 - accuracy: 0.9467 - val_loss: 0.2312 - val_accuracy: 0.9500\n",
      "Epoch 15/50\n",
      "30/30 [==============================] - 2s 81ms/step - loss: 0.1605 - accuracy: 0.9667 - val_loss: 0.0752 - val_accuracy: 0.9500\n",
      "Epoch 16/50\n",
      "30/30 [==============================] - 2s 73ms/step - loss: 0.1493 - accuracy: 0.9533 - val_loss: 0.1978 - val_accuracy: 0.9500\n",
      "Epoch 17/50\n",
      "30/30 [==============================] - 2s 73ms/step - loss: 0.1385 - accuracy: 0.9733 - val_loss: 0.0194 - val_accuracy: 1.0000\n",
      "Epoch 18/50\n",
      "30/30 [==============================] - 2s 71ms/step - loss: 0.0919 - accuracy: 0.9800 - val_loss: 0.1357 - val_accuracy: 0.9500\n",
      "Epoch 19/50\n",
      "30/30 [==============================] - 2s 71ms/step - loss: 0.1344 - accuracy: 0.9467 - val_loss: 0.0920 - val_accuracy: 0.9500\n",
      "Epoch 20/50\n",
      "30/30 [==============================] - 2s 74ms/step - loss: 0.0801 - accuracy: 0.9733 - val_loss: 0.1311 - val_accuracy: 0.9500\n",
      "Epoch 21/50\n",
      "30/30 [==============================] - 2s 73ms/step - loss: 0.1501 - accuracy: 0.9400 - val_loss: 0.0154 - val_accuracy: 1.0000\n",
      "Epoch 22/50\n",
      "30/30 [==============================] - 2s 71ms/step - loss: 0.0921 - accuracy: 0.9733 - val_loss: 0.0261 - val_accuracy: 1.0000\n",
      "Epoch 23/50\n",
      "30/30 [==============================] - 2s 72ms/step - loss: 0.1436 - accuracy: 0.9400 - val_loss: 0.1872 - val_accuracy: 0.8500\n",
      "Epoch 24/50\n",
      "30/30 [==============================] - 2s 82ms/step - loss: 0.1554 - accuracy: 0.9400 - val_loss: 0.1177 - val_accuracy: 0.9500\n",
      "Epoch 25/50\n",
      "30/30 [==============================] - 2s 72ms/step - loss: 0.0957 - accuracy: 0.9667 - val_loss: 0.0360 - val_accuracy: 1.0000\n",
      "Epoch 26/50\n",
      "30/30 [==============================] - 2s 73ms/step - loss: 0.0941 - accuracy: 0.9600 - val_loss: 0.0051 - val_accuracy: 1.0000\n",
      "Epoch 27/50\n",
      "30/30 [==============================] - 2s 73ms/step - loss: 0.1022 - accuracy: 0.9533 - val_loss: 0.0680 - val_accuracy: 0.9500\n",
      "Epoch 28/50\n",
      "30/30 [==============================] - 2s 73ms/step - loss: 0.1481 - accuracy: 0.9533 - val_loss: 0.1016 - val_accuracy: 0.9500\n",
      "Epoch 29/50\n",
      "30/30 [==============================] - 2s 74ms/step - loss: 0.0968 - accuracy: 0.9667 - val_loss: 0.0158 - val_accuracy: 1.0000\n",
      "Epoch 30/50\n",
      "30/30 [==============================] - 2s 72ms/step - loss: 0.0931 - accuracy: 0.9600 - val_loss: 0.0138 - val_accuracy: 1.0000\n",
      "Epoch 31/50\n",
      "30/30 [==============================] - 2s 73ms/step - loss: 0.0760 - accuracy: 0.9733 - val_loss: 0.0436 - val_accuracy: 0.9500\n",
      "Epoch 32/50\n",
      "30/30 [==============================] - 2s 73ms/step - loss: 0.0870 - accuracy: 0.9733 - val_loss: 0.0233 - val_accuracy: 1.0000\n",
      "Epoch 33/50\n",
      "30/30 [==============================] - 2s 72ms/step - loss: 0.0829 - accuracy: 0.9733 - val_loss: 0.0958 - val_accuracy: 0.9500\n",
      "Epoch 34/50\n",
      "30/30 [==============================] - 2s 78ms/step - loss: 0.0969 - accuracy: 0.9400 - val_loss: 0.1496 - val_accuracy: 0.9500\n",
      "Epoch 35/50\n",
      "30/30 [==============================] - 2s 74ms/step - loss: 0.0824 - accuracy: 0.9733 - val_loss: 0.0973 - val_accuracy: 0.9500\n",
      "Epoch 36/50\n",
      "30/30 [==============================] - 2s 74ms/step - loss: 0.1006 - accuracy: 0.9667 - val_loss: 0.0946 - val_accuracy: 0.9500\n",
      "Epoch 37/50\n",
      "30/30 [==============================] - 2s 73ms/step - loss: 0.0710 - accuracy: 0.9867 - val_loss: 0.0920 - val_accuracy: 0.9500\n",
      "Epoch 38/50\n",
      "30/30 [==============================] - 2s 74ms/step - loss: 0.0963 - accuracy: 0.9533 - val_loss: 0.0625 - val_accuracy: 0.9500\n",
      "Epoch 39/50\n",
      "30/30 [==============================] - 2s 72ms/step - loss: 0.1227 - accuracy: 0.9600 - val_loss: 0.1247 - val_accuracy: 0.9000\n",
      "Epoch 40/50\n",
      "30/30 [==============================] - 2s 71ms/step - loss: 0.0763 - accuracy: 0.9867 - val_loss: 0.0062 - val_accuracy: 1.0000\n",
      "Epoch 41/50\n",
      "30/30 [==============================] - 2s 71ms/step - loss: 0.0646 - accuracy: 0.9800 - val_loss: 0.0338 - val_accuracy: 1.0000\n",
      "Epoch 42/50\n",
      "30/30 [==============================] - 2s 80ms/step - loss: 0.0584 - accuracy: 0.9867 - val_loss: 0.0406 - val_accuracy: 1.0000\n",
      "Epoch 43/50\n",
      "30/30 [==============================] - 2s 73ms/step - loss: 0.0745 - accuracy: 0.9667 - val_loss: 0.0463 - val_accuracy: 0.9500\n",
      "Epoch 44/50\n",
      "30/30 [==============================] - 2s 72ms/step - loss: 0.0563 - accuracy: 0.9933 - val_loss: 0.1215 - val_accuracy: 0.9500\n",
      "Epoch 45/50\n",
      "30/30 [==============================] - 2s 75ms/step - loss: 0.0663 - accuracy: 0.9800 - val_loss: 7.9019e-04 - val_accuracy: 1.0000\n",
      "Epoch 46/50\n",
      "30/30 [==============================] - 2s 72ms/step - loss: 0.0751 - accuracy: 0.9667 - val_loss: 0.0939 - val_accuracy: 0.9500\n",
      "Epoch 47/50\n",
      "30/30 [==============================] - 2s 75ms/step - loss: 0.0920 - accuracy: 0.9533 - val_loss: 0.0327 - val_accuracy: 1.0000\n",
      "Epoch 48/50\n",
      "30/30 [==============================] - 2s 72ms/step - loss: 0.0742 - accuracy: 0.9867 - val_loss: 0.0011 - val_accuracy: 1.0000\n",
      "Epoch 49/50\n",
      "30/30 [==============================] - 2s 73ms/step - loss: 0.0831 - accuracy: 0.9800 - val_loss: 0.0574 - val_accuracy: 0.9500\n",
      "Epoch 50/50\n",
      "30/30 [==============================] - 2s 74ms/step - loss: 0.0689 - accuracy: 0.9800 - val_loss: 0.0507 - val_accuracy: 1.0000\n"
     ]
    }
   ],
   "source": [
    "model.compile(loss='sparse_categorical_crossentropy',\n",
    "             optimizer=optimizers.Adam(learning_rate=0.0002), metrics=['accuracy'])\n",
    "\n",
    "history = model.fit_generator(\n",
    "       train_generator,\n",
    "       steps_per_epoch=30,\n",
    "       epochs=50,\n",
    "       validation_data=test_generator,\n",
    "       validation_steps=len(test_generator)//5)\n"
   ]
  },
  {
   "cell_type": "code",
   "execution_count": 29,
   "metadata": {
    "scrolled": true
   },
   "outputs": [
    {
     "data": {
      "image/png": "[encoded data removed]",
      "text/plain": [
       "<Figure size 432x288 with 1 Axes>"
      ]
     },
     "metadata": {
      "needs_background": "light"
     },
     "output_type": "display_data"
    }
   ],
   "source": [
    "# 결과를 그래프로 표현하는 부분\n",
    "\n",
    "acc = history.history['accuracy']\n",
    "val_acc = history.history['val_accuracy']\n",
    "y_vloss = history.history['val_loss']\n",
    "y_loss = history.history['loss']\n",
    "\n",
    "x_len = np.arange(len(y_loss))\n",
    "plt.plot(x_len, acc, marker = '.', c='red', label='Trainset_acc')\n",
    "plt.plot(x_len, val_acc, marker = '.', c='lightcoral', label='Testset_acc')\n",
    "plt.plot(x_len, y_vloss, marker = '.', c='cornflowerblue', label='Testset_loss')\n",
    "plt.plot(x_len, y_loss, marker = '.', c='blue', label='Trainset_loss')\n",
    "\n",
    "plt.legend(loc = 'upper right')\n",
    "plt.grid()\n",
    "plt.xlabel('epoch')\n",
    "plt.ylabel('loss/acc')\n",
    "plt.show()"
   ]
  },
  {
   "cell_type": "code",
   "execution_count": null,
   "metadata": {},
   "outputs": [],
   "source": []
  }
 ],
 "metadata": {
  "kernelspec": {
   "display_name": "Python 3",
   "language": "python",
   "name": "python3"
  },
  "language_info": {
   "codemirror_mode": {
    "name": "ipython",
    "version": 3
   },
   "file_extension": ".py",
   "mimetype": "text/x-python",
   "name": "python",
   "nbconvert_exporter": "python",
   "pygments_lexer": "ipython3",
   "version": "3.7.4"
  }
 },
 "nbformat": 4,
 "nbformat_minor": 2
}
